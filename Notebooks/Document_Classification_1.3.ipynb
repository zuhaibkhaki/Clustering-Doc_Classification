{
  "nbformat": 4,
  "nbformat_minor": 0,
  "metadata": {
    "colab": {
      "provenance": []
    },
    "kernelspec": {
      "name": "python3",
      "display_name": "Python 3"
    },
    "language_info": {
      "name": "python"
    }
  },
  "cells": [
    {
      "cell_type": "markdown",
      "source": [
        "# About Dataset\n",
        "The dataset contains paper titles, paper abstracts, and their subject categories collected from the arXiv portal. The collection process is available here in this notebook.\n",
        "\n",
        "Your task is to build a text classifier model that can predict the subject areas given paper abstracts and titles. The dataset does not come with separate train, test, and validation splits. It's your responsibility to create the necessary splits to ensure a fair evaluation. You can find a baseline notebook here."
      ],
      "metadata": {
        "id": "clsUYCalMY2k"
      }
    },
    {
      "cell_type": "code",
      "source": [
        "# Importing necessary libraries and other algorithm techniques.\n",
        "import numpy as np\n",
        "import pandas as pd\n",
        "import matplotlib.pyplot as plt\n",
        "from sklearn.decomposition import PCA\n",
        "from sklearn.manifold import TSNE\n",
        "from sklearn.cluster import KMeans\n",
        "from sklearn.cluster import SpectralClustering\n",
        "from sklearn.metrics import silhouette_score\n"
      ],
      "metadata": {
        "id": "Ez8aZdwGOTll"
      },
      "execution_count": null,
      "outputs": []
    },
    {
      "cell_type": "code",
      "source": [
        "# Imorting umap\n",
        "!pip install umap-learn\n",
        "import umap.umap_ as umap"
      ],
      "metadata": {
        "colab": {
          "base_uri": "https://localhost:8080/"
        },
        "id": "xUHAgfqJSjDe",
        "outputId": "1eb7a502-93e9-4479-f5aa-60c989046d01"
      },
      "execution_count": null,
      "outputs": [
        {
          "output_type": "stream",
          "name": "stdout",
          "text": [
            "Collecting umap-learn\n",
            "  Downloading umap-learn-0.5.5.tar.gz (90 kB)\n",
            "\u001b[2K     \u001b[90m━━━━━━━━━━━━━━━━━━━━━━━━━━━━━━━━━━━━━━━━\u001b[0m \u001b[32m90.9/90.9 kB\u001b[0m \u001b[31m1.4 MB/s\u001b[0m eta \u001b[36m0:00:00\u001b[0m\n",
            "\u001b[?25h  Preparing metadata (setup.py) ... \u001b[?25l\u001b[?25hdone\n",
            "Requirement already satisfied: numpy>=1.17 in /usr/local/lib/python3.10/dist-packages (from umap-learn) (1.25.2)\n",
            "Requirement already satisfied: scipy>=1.3.1 in /usr/local/lib/python3.10/dist-packages (from umap-learn) (1.11.4)\n",
            "Requirement already satisfied: scikit-learn>=0.22 in /usr/local/lib/python3.10/dist-packages (from umap-learn) (1.2.2)\n",
            "Requirement already satisfied: numba>=0.51.2 in /usr/local/lib/python3.10/dist-packages (from umap-learn) (0.58.1)\n",
            "Collecting pynndescent>=0.5 (from umap-learn)\n",
            "  Downloading pynndescent-0.5.11-py3-none-any.whl (55 kB)\n",
            "\u001b[2K     \u001b[90m━━━━━━━━━━━━━━━━━━━━━━━━━━━━━━━━━━━━━━━━\u001b[0m \u001b[32m55.8/55.8 kB\u001b[0m \u001b[31m5.8 MB/s\u001b[0m eta \u001b[36m0:00:00\u001b[0m\n",
            "\u001b[?25hRequirement already satisfied: tqdm in /usr/local/lib/python3.10/dist-packages (from umap-learn) (4.66.2)\n",
            "Requirement already satisfied: llvmlite<0.42,>=0.41.0dev0 in /usr/local/lib/python3.10/dist-packages (from numba>=0.51.2->umap-learn) (0.41.1)\n",
            "Requirement already satisfied: joblib>=0.11 in /usr/local/lib/python3.10/dist-packages (from pynndescent>=0.5->umap-learn) (1.3.2)\n",
            "Requirement already satisfied: threadpoolctl>=2.0.0 in /usr/local/lib/python3.10/dist-packages (from scikit-learn>=0.22->umap-learn) (3.3.0)\n",
            "Building wheels for collected packages: umap-learn\n",
            "  Building wheel for umap-learn (setup.py) ... \u001b[?25l\u001b[?25hdone\n",
            "  Created wheel for umap-learn: filename=umap_learn-0.5.5-py3-none-any.whl size=86832 sha256=1ae0f4468fb3afbae3d26ba7561efb59d1a91844e262160b9868bcd66543a263\n",
            "  Stored in directory: /root/.cache/pip/wheels/3a/70/07/428d2b58660a1a3b431db59b806a10da736612ebbc66c1bcc5\n",
            "Successfully built umap-learn\n",
            "Installing collected packages: pynndescent, umap-learn\n",
            "Successfully installed pynndescent-0.5.11 umap-learn-0.5.5\n"
          ]
        }
      ]
    },
    {
      "cell_type": "code",
      "source": [
        "# Installing the cohere\n",
        "!pip install cohere\n",
        "import cohere\n",
        "co = cohere.Client('LzvZVP7HpeU6iTEVWSHyz5Vr27Yv32xzLtEeivUe')\n"
      ],
      "metadata": {
        "colab": {
          "base_uri": "https://localhost:8080/"
        },
        "id": "IpDsinRA_4UO",
        "outputId": "d2525c6a-f752-4dce-be76-07ba1f9b9080"
      },
      "execution_count": null,
      "outputs": [
        {
          "output_type": "stream",
          "name": "stdout",
          "text": [
            "Collecting cohere\n",
            "  Downloading cohere-4.51-py3-none-any.whl (52 kB)\n",
            "\u001b[?25l     \u001b[90m━━━━━━━━━━━━━━━━━━━━━━━━━━━━━━━━━━━━━━━━\u001b[0m \u001b[32m0.0/52.0 kB\u001b[0m \u001b[31m?\u001b[0m eta \u001b[36m-:--:--\u001b[0m\r\u001b[2K     \u001b[90m━━━━━━━━━━━━━━━━━━━━━━━━━━━━━━━━━━━━━━━━\u001b[0m \u001b[32m52.0/52.0 kB\u001b[0m \u001b[31m2.4 MB/s\u001b[0m eta \u001b[36m0:00:00\u001b[0m\n",
            "\u001b[?25hRequirement already satisfied: aiohttp<4.0,>=3.0 in /usr/local/lib/python3.10/dist-packages (from cohere) (3.9.3)\n",
            "Collecting backoff<3.0,>=2.0 (from cohere)\n",
            "  Downloading backoff-2.2.1-py3-none-any.whl (15 kB)\n",
            "Collecting fastavro<2.0,>=1.8 (from cohere)\n",
            "  Downloading fastavro-1.9.4-cp310-cp310-manylinux_2_17_x86_64.manylinux2014_x86_64.whl (3.1 MB)\n",
            "\u001b[2K     \u001b[90m━━━━━━━━━━━━━━━━━━━━━━━━━━━━━━━━━━━━━━━━\u001b[0m \u001b[32m3.1/3.1 MB\u001b[0m \u001b[31m31.0 MB/s\u001b[0m eta \u001b[36m0:00:00\u001b[0m\n",
            "\u001b[?25hCollecting importlib_metadata<7.0,>=6.0 (from cohere)\n",
            "  Downloading importlib_metadata-6.11.0-py3-none-any.whl (23 kB)\n",
            "Requirement already satisfied: requests<3.0.0,>=2.25.0 in /usr/local/lib/python3.10/dist-packages (from cohere) (2.31.0)\n",
            "Requirement already satisfied: urllib3<3,>=1.26 in /usr/local/lib/python3.10/dist-packages (from cohere) (2.0.7)\n",
            "Requirement already satisfied: aiosignal>=1.1.2 in /usr/local/lib/python3.10/dist-packages (from aiohttp<4.0,>=3.0->cohere) (1.3.1)\n",
            "Requirement already satisfied: attrs>=17.3.0 in /usr/local/lib/python3.10/dist-packages (from aiohttp<4.0,>=3.0->cohere) (23.2.0)\n",
            "Requirement already satisfied: frozenlist>=1.1.1 in /usr/local/lib/python3.10/dist-packages (from aiohttp<4.0,>=3.0->cohere) (1.4.1)\n",
            "Requirement already satisfied: multidict<7.0,>=4.5 in /usr/local/lib/python3.10/dist-packages (from aiohttp<4.0,>=3.0->cohere) (6.0.5)\n",
            "Requirement already satisfied: yarl<2.0,>=1.0 in /usr/local/lib/python3.10/dist-packages (from aiohttp<4.0,>=3.0->cohere) (1.9.4)\n",
            "Requirement already satisfied: async-timeout<5.0,>=4.0 in /usr/local/lib/python3.10/dist-packages (from aiohttp<4.0,>=3.0->cohere) (4.0.3)\n",
            "Requirement already satisfied: zipp>=0.5 in /usr/local/lib/python3.10/dist-packages (from importlib_metadata<7.0,>=6.0->cohere) (3.17.0)\n",
            "Requirement already satisfied: charset-normalizer<4,>=2 in /usr/local/lib/python3.10/dist-packages (from requests<3.0.0,>=2.25.0->cohere) (3.3.2)\n",
            "Requirement already satisfied: idna<4,>=2.5 in /usr/local/lib/python3.10/dist-packages (from requests<3.0.0,>=2.25.0->cohere) (3.6)\n",
            "Requirement already satisfied: certifi>=2017.4.17 in /usr/local/lib/python3.10/dist-packages (from requests<3.0.0,>=2.25.0->cohere) (2024.2.2)\n",
            "Installing collected packages: importlib_metadata, fastavro, backoff, cohere\n",
            "  Attempting uninstall: importlib_metadata\n",
            "    Found existing installation: importlib-metadata 7.0.1\n",
            "    Uninstalling importlib-metadata-7.0.1:\n",
            "      Successfully uninstalled importlib-metadata-7.0.1\n",
            "Successfully installed backoff-2.2.1 cohere-4.51 fastavro-1.9.4 importlib_metadata-6.11.0\n"
          ]
        }
      ]
    },
    {
      "cell_type": "code",
      "source": [
        "!pip install plotly\n",
        "import plotly.graph_objects as go"
      ],
      "metadata": {
        "colab": {
          "base_uri": "https://localhost:8080/"
        },
        "id": "_T-SfYOwBiWq",
        "outputId": "8326bc30-71f7-4ac0-c3ea-1ac0ae3cf164"
      },
      "execution_count": null,
      "outputs": [
        {
          "output_type": "stream",
          "name": "stdout",
          "text": [
            "Requirement already satisfied: plotly in /usr/local/lib/python3.10/dist-packages (5.15.0)\n",
            "Requirement already satisfied: tenacity>=6.2.0 in /usr/local/lib/python3.10/dist-packages (from plotly) (8.2.3)\n",
            "Requirement already satisfied: packaging in /usr/local/lib/python3.10/dist-packages (from plotly) (23.2)\n"
          ]
        }
      ]
    },
    {
      "cell_type": "code",
      "source": [
        "# Loading the arxiv dataset using pandas and printing the first five rows.\n",
        "df = pd.read_csv(\"/content/arxiv_data.csv\")\n",
        "df.head(5)"
      ],
      "metadata": {
        "colab": {
          "base_uri": "https://localhost:8080/",
          "height": 206
        },
        "id": "Xb_OPgdVOhHw",
        "outputId": "3e66d21a-9815-410c-d523-63140532b2ea"
      },
      "execution_count": null,
      "outputs": [
        {
          "output_type": "execute_result",
          "data": {
            "text/plain": [
              "                                              titles  \\\n",
              "0  Survey on Semantic Stereo Matching / Semantic ...   \n",
              "1  FUTURE-AI: Guiding Principles and Consensus Re...   \n",
              "2  Enforcing Mutual Consistency of Hard Regions f...   \n",
              "3  Parameter Decoupling Strategy for Semi-supervi...   \n",
              "4  Background-Foreground Segmentation for Interio...   \n",
              "\n",
              "                                           summaries  \\\n",
              "0  Stereo matching is one of the widely used tech...   \n",
              "1  The recent advancements in artificial intellig...   \n",
              "2  In this paper, we proposed a novel mutual cons...   \n",
              "3  Consistency training has proven to be an advan...   \n",
              "4  To ensure safety in automated driving, the cor...   \n",
              "\n",
              "                         terms  \n",
              "0           ['cs.CV', 'cs.LG']  \n",
              "1  ['cs.CV', 'cs.AI', 'cs.LG']  \n",
              "2           ['cs.CV', 'cs.AI']  \n",
              "3                    ['cs.CV']  \n",
              "4           ['cs.CV', 'cs.LG']  "
            ],
            "text/html": [
              "\n",
              "  <div id=\"df-2fc796bc-fe92-497f-bd34-8fdb1f21c0a6\" class=\"colab-df-container\">\n",
              "    <div>\n",
              "<style scoped>\n",
              "    .dataframe tbody tr th:only-of-type {\n",
              "        vertical-align: middle;\n",
              "    }\n",
              "\n",
              "    .dataframe tbody tr th {\n",
              "        vertical-align: top;\n",
              "    }\n",
              "\n",
              "    .dataframe thead th {\n",
              "        text-align: right;\n",
              "    }\n",
              "</style>\n",
              "<table border=\"1\" class=\"dataframe\">\n",
              "  <thead>\n",
              "    <tr style=\"text-align: right;\">\n",
              "      <th></th>\n",
              "      <th>titles</th>\n",
              "      <th>summaries</th>\n",
              "      <th>terms</th>\n",
              "    </tr>\n",
              "  </thead>\n",
              "  <tbody>\n",
              "    <tr>\n",
              "      <th>0</th>\n",
              "      <td>Survey on Semantic Stereo Matching / Semantic ...</td>\n",
              "      <td>Stereo matching is one of the widely used tech...</td>\n",
              "      <td>['cs.CV', 'cs.LG']</td>\n",
              "    </tr>\n",
              "    <tr>\n",
              "      <th>1</th>\n",
              "      <td>FUTURE-AI: Guiding Principles and Consensus Re...</td>\n",
              "      <td>The recent advancements in artificial intellig...</td>\n",
              "      <td>['cs.CV', 'cs.AI', 'cs.LG']</td>\n",
              "    </tr>\n",
              "    <tr>\n",
              "      <th>2</th>\n",
              "      <td>Enforcing Mutual Consistency of Hard Regions f...</td>\n",
              "      <td>In this paper, we proposed a novel mutual cons...</td>\n",
              "      <td>['cs.CV', 'cs.AI']</td>\n",
              "    </tr>\n",
              "    <tr>\n",
              "      <th>3</th>\n",
              "      <td>Parameter Decoupling Strategy for Semi-supervi...</td>\n",
              "      <td>Consistency training has proven to be an advan...</td>\n",
              "      <td>['cs.CV']</td>\n",
              "    </tr>\n",
              "    <tr>\n",
              "      <th>4</th>\n",
              "      <td>Background-Foreground Segmentation for Interio...</td>\n",
              "      <td>To ensure safety in automated driving, the cor...</td>\n",
              "      <td>['cs.CV', 'cs.LG']</td>\n",
              "    </tr>\n",
              "  </tbody>\n",
              "</table>\n",
              "</div>\n",
              "    <div class=\"colab-df-buttons\">\n",
              "\n",
              "  <div class=\"colab-df-container\">\n",
              "    <button class=\"colab-df-convert\" onclick=\"convertToInteractive('df-2fc796bc-fe92-497f-bd34-8fdb1f21c0a6')\"\n",
              "            title=\"Convert this dataframe to an interactive table.\"\n",
              "            style=\"display:none;\">\n",
              "\n",
              "  <svg xmlns=\"http://www.w3.org/2000/svg\" height=\"24px\" viewBox=\"0 -960 960 960\">\n",
              "    <path d=\"M120-120v-720h720v720H120Zm60-500h600v-160H180v160Zm220 220h160v-160H400v160Zm0 220h160v-160H400v160ZM180-400h160v-160H180v160Zm440 0h160v-160H620v160ZM180-180h160v-160H180v160Zm440 0h160v-160H620v160Z\"/>\n",
              "  </svg>\n",
              "    </button>\n",
              "\n",
              "  <style>\n",
              "    .colab-df-container {\n",
              "      display:flex;\n",
              "      gap: 12px;\n",
              "    }\n",
              "\n",
              "    .colab-df-convert {\n",
              "      background-color: #E8F0FE;\n",
              "      border: none;\n",
              "      border-radius: 50%;\n",
              "      cursor: pointer;\n",
              "      display: none;\n",
              "      fill: #1967D2;\n",
              "      height: 32px;\n",
              "      padding: 0 0 0 0;\n",
              "      width: 32px;\n",
              "    }\n",
              "\n",
              "    .colab-df-convert:hover {\n",
              "      background-color: #E2EBFA;\n",
              "      box-shadow: 0px 1px 2px rgba(60, 64, 67, 0.3), 0px 1px 3px 1px rgba(60, 64, 67, 0.15);\n",
              "      fill: #174EA6;\n",
              "    }\n",
              "\n",
              "    .colab-df-buttons div {\n",
              "      margin-bottom: 4px;\n",
              "    }\n",
              "\n",
              "    [theme=dark] .colab-df-convert {\n",
              "      background-color: #3B4455;\n",
              "      fill: #D2E3FC;\n",
              "    }\n",
              "\n",
              "    [theme=dark] .colab-df-convert:hover {\n",
              "      background-color: #434B5C;\n",
              "      box-shadow: 0px 1px 3px 1px rgba(0, 0, 0, 0.15);\n",
              "      filter: drop-shadow(0px 1px 2px rgba(0, 0, 0, 0.3));\n",
              "      fill: #FFFFFF;\n",
              "    }\n",
              "  </style>\n",
              "\n",
              "    <script>\n",
              "      const buttonEl =\n",
              "        document.querySelector('#df-2fc796bc-fe92-497f-bd34-8fdb1f21c0a6 button.colab-df-convert');\n",
              "      buttonEl.style.display =\n",
              "        google.colab.kernel.accessAllowed ? 'block' : 'none';\n",
              "\n",
              "      async function convertToInteractive(key) {\n",
              "        const element = document.querySelector('#df-2fc796bc-fe92-497f-bd34-8fdb1f21c0a6');\n",
              "        const dataTable =\n",
              "          await google.colab.kernel.invokeFunction('convertToInteractive',\n",
              "                                                    [key], {});\n",
              "        if (!dataTable) return;\n",
              "\n",
              "        const docLinkHtml = 'Like what you see? Visit the ' +\n",
              "          '<a target=\"_blank\" href=https://colab.research.google.com/notebooks/data_table.ipynb>data table notebook</a>'\n",
              "          + ' to learn more about interactive tables.';\n",
              "        element.innerHTML = '';\n",
              "        dataTable['output_type'] = 'display_data';\n",
              "        await google.colab.output.renderOutput(dataTable, element);\n",
              "        const docLink = document.createElement('div');\n",
              "        docLink.innerHTML = docLinkHtml;\n",
              "        element.appendChild(docLink);\n",
              "      }\n",
              "    </script>\n",
              "  </div>\n",
              "\n",
              "\n",
              "<div id=\"df-9e661873-a2d4-4a3e-be84-bee77f1018ec\">\n",
              "  <button class=\"colab-df-quickchart\" onclick=\"quickchart('df-9e661873-a2d4-4a3e-be84-bee77f1018ec')\"\n",
              "            title=\"Suggest charts\"\n",
              "            style=\"display:none;\">\n",
              "\n",
              "<svg xmlns=\"http://www.w3.org/2000/svg\" height=\"24px\"viewBox=\"0 0 24 24\"\n",
              "     width=\"24px\">\n",
              "    <g>\n",
              "        <path d=\"M19 3H5c-1.1 0-2 .9-2 2v14c0 1.1.9 2 2 2h14c1.1 0 2-.9 2-2V5c0-1.1-.9-2-2-2zM9 17H7v-7h2v7zm4 0h-2V7h2v10zm4 0h-2v-4h2v4z\"/>\n",
              "    </g>\n",
              "</svg>\n",
              "  </button>\n",
              "\n",
              "<style>\n",
              "  .colab-df-quickchart {\n",
              "      --bg-color: #E8F0FE;\n",
              "      --fill-color: #1967D2;\n",
              "      --hover-bg-color: #E2EBFA;\n",
              "      --hover-fill-color: #174EA6;\n",
              "      --disabled-fill-color: #AAA;\n",
              "      --disabled-bg-color: #DDD;\n",
              "  }\n",
              "\n",
              "  [theme=dark] .colab-df-quickchart {\n",
              "      --bg-color: #3B4455;\n",
              "      --fill-color: #D2E3FC;\n",
              "      --hover-bg-color: #434B5C;\n",
              "      --hover-fill-color: #FFFFFF;\n",
              "      --disabled-bg-color: #3B4455;\n",
              "      --disabled-fill-color: #666;\n",
              "  }\n",
              "\n",
              "  .colab-df-quickchart {\n",
              "    background-color: var(--bg-color);\n",
              "    border: none;\n",
              "    border-radius: 50%;\n",
              "    cursor: pointer;\n",
              "    display: none;\n",
              "    fill: var(--fill-color);\n",
              "    height: 32px;\n",
              "    padding: 0;\n",
              "    width: 32px;\n",
              "  }\n",
              "\n",
              "  .colab-df-quickchart:hover {\n",
              "    background-color: var(--hover-bg-color);\n",
              "    box-shadow: 0 1px 2px rgba(60, 64, 67, 0.3), 0 1px 3px 1px rgba(60, 64, 67, 0.15);\n",
              "    fill: var(--button-hover-fill-color);\n",
              "  }\n",
              "\n",
              "  .colab-df-quickchart-complete:disabled,\n",
              "  .colab-df-quickchart-complete:disabled:hover {\n",
              "    background-color: var(--disabled-bg-color);\n",
              "    fill: var(--disabled-fill-color);\n",
              "    box-shadow: none;\n",
              "  }\n",
              "\n",
              "  .colab-df-spinner {\n",
              "    border: 2px solid var(--fill-color);\n",
              "    border-color: transparent;\n",
              "    border-bottom-color: var(--fill-color);\n",
              "    animation:\n",
              "      spin 1s steps(1) infinite;\n",
              "  }\n",
              "\n",
              "  @keyframes spin {\n",
              "    0% {\n",
              "      border-color: transparent;\n",
              "      border-bottom-color: var(--fill-color);\n",
              "      border-left-color: var(--fill-color);\n",
              "    }\n",
              "    20% {\n",
              "      border-color: transparent;\n",
              "      border-left-color: var(--fill-color);\n",
              "      border-top-color: var(--fill-color);\n",
              "    }\n",
              "    30% {\n",
              "      border-color: transparent;\n",
              "      border-left-color: var(--fill-color);\n",
              "      border-top-color: var(--fill-color);\n",
              "      border-right-color: var(--fill-color);\n",
              "    }\n",
              "    40% {\n",
              "      border-color: transparent;\n",
              "      border-right-color: var(--fill-color);\n",
              "      border-top-color: var(--fill-color);\n",
              "    }\n",
              "    60% {\n",
              "      border-color: transparent;\n",
              "      border-right-color: var(--fill-color);\n",
              "    }\n",
              "    80% {\n",
              "      border-color: transparent;\n",
              "      border-right-color: var(--fill-color);\n",
              "      border-bottom-color: var(--fill-color);\n",
              "    }\n",
              "    90% {\n",
              "      border-color: transparent;\n",
              "      border-bottom-color: var(--fill-color);\n",
              "    }\n",
              "  }\n",
              "</style>\n",
              "\n",
              "  <script>\n",
              "    async function quickchart(key) {\n",
              "      const quickchartButtonEl =\n",
              "        document.querySelector('#' + key + ' button');\n",
              "      quickchartButtonEl.disabled = true;  // To prevent multiple clicks.\n",
              "      quickchartButtonEl.classList.add('colab-df-spinner');\n",
              "      try {\n",
              "        const charts = await google.colab.kernel.invokeFunction(\n",
              "            'suggestCharts', [key], {});\n",
              "      } catch (error) {\n",
              "        console.error('Error during call to suggestCharts:', error);\n",
              "      }\n",
              "      quickchartButtonEl.classList.remove('colab-df-spinner');\n",
              "      quickchartButtonEl.classList.add('colab-df-quickchart-complete');\n",
              "    }\n",
              "    (() => {\n",
              "      let quickchartButtonEl =\n",
              "        document.querySelector('#df-9e661873-a2d4-4a3e-be84-bee77f1018ec button');\n",
              "      quickchartButtonEl.style.display =\n",
              "        google.colab.kernel.accessAllowed ? 'block' : 'none';\n",
              "    })();\n",
              "  </script>\n",
              "</div>\n",
              "\n",
              "    </div>\n",
              "  </div>\n"
            ],
            "application/vnd.google.colaboratory.intrinsic+json": {
              "type": "dataframe",
              "variable_name": "df",
              "summary": "{\n  \"name\": \"df\",\n  \"rows\": 51774,\n  \"fields\": [\n    {\n      \"column\": \"titles\",\n      \"properties\": {\n        \"dtype\": \"string\",\n        \"num_unique_values\": 38972,\n        \"samples\": [\n          \"Sum-Product-Transform Networks: Exploiting Symmetries using Invertible Transformations\",\n          \"A Primal-Dual Subgradient Approachfor Fair Meta Learning\",\n          \"Adversarial Multi-Source Transfer Learning in Healthcare: Application to Glucose Prediction for Diabetic People\"\n        ],\n        \"semantic_type\": \"\",\n        \"description\": \"\"\n      }\n    },\n    {\n      \"column\": \"summaries\",\n      \"properties\": {\n        \"dtype\": \"string\",\n        \"num_unique_values\": 38979,\n        \"samples\": [\n          \"Continual learning (CL) is a setting in which an agent has to learn from an\\nincoming stream of data during its entire lifetime. Although major advances\\nhave been made in the field, one recurring problem which remains unsolved is\\nthat of Catastrophic Forgetting (CF). While the issue has been extensively\\nstudied empirically, little attention has been paid from a theoretical angle.\\nIn this paper, we show that the impact of CF increases as two tasks\\nincreasingly align. We introduce a measure of task similarity called the NTK\\noverlap matrix which is at the core of CF. We analyze common projected gradient\\nalgorithms and demonstrate how they mitigate forgetting. Then, we propose a\\nvariant of Orthogonal Gradient Descent (OGD) which leverages structure of the\\ndata through Principal Component Analysis (PCA). Experiments support our\\ntheoretical findings and show how our method can help reduce CF on classical CL\\ndatasets.\",\n          \"Few-shot learning is a challenging task since only few instances are given\\nfor recognizing an unseen class. One way to alleviate this problem is to\\nacquire a strong inductive bias via meta-learning on similar tasks. In this\\npaper, we show that such inductive bias can be learned from a flat collection\\nof unlabeled images, and instantiated as transferable representations among\\nseen and unseen classes. Specifically, we propose a novel part-based\\nself-supervised representation learning scheme to learn transferable\\nrepresentations by maximizing the similarity of an image to its discriminative\\npart. To mitigate the overfitting in few-shot classification caused by data\\nscarcity, we further propose a part augmentation strategy by retrieving extra\\nimages from a base dataset. We conduct systematic studies on miniImageNet and\\ntieredImageNet benchmarks. Remarkably, our method yields impressive results,\\noutperforming the previous best unsupervised methods by 7.74% and 9.24% under\\n5-way 1-shot and 5-way 5-shot settings, which are comparable with\\nstate-of-the-art supervised methods.\",\n          \"Surgical instrument segmentation is extremely important for computer-assisted\\nsurgery. Different from common object segmentation, it is more challenging due\\nto the large illumination and scale variation caused by the special surgical\\nscenes. In this paper, we propose a novel bilinear attention network with\\nadaptive receptive field to solve these two challenges. For the illumination\\nvariation, the bilinear attention module can capture second-order statistics to\\nencode global contexts and semantic dependencies between local pixels. With\\nthem, semantic features in challenging areas can be inferred from their\\nneighbors and the distinction of various semantics can be boosted. For the\\nscale variation, our adaptive receptive field module aggregates multi-scale\\nfeatures and automatically fuses them with different weights. Specifically, it\\nencodes the semantic relationship between channels to emphasize feature maps\\nwith appropriate scales, changing the receptive field of subsequent\\nconvolutions. The proposed network achieves the best performance 97.47% mean\\nIOU on Cata7 and comes first place on EndoVis 2017 by 10.10% IOU overtaking\\nsecond-ranking method.\"\n        ],\n        \"semantic_type\": \"\",\n        \"description\": \"\"\n      }\n    },\n    {\n      \"column\": \"terms\",\n      \"properties\": {\n        \"dtype\": \"category\",\n        \"num_unique_values\": 3157,\n        \"samples\": [\n          \"['cs.LG', 'cs.CE', 'q-fin.ST', 'stat.ML']\",\n          \"['cs.LG', 'physics.comp-ph', 'physics.flu-dyn']\",\n          \"['cs.LG', 'cs.CV', 'math.AT']\"\n        ],\n        \"semantic_type\": \"\",\n        \"description\": \"\"\n      }\n    }\n  ]\n}"
            }
          },
          "metadata": {},
          "execution_count": 5
        }
      ]
    },
    {
      "cell_type": "code",
      "source": [
        "# Printing the number of rows in the dataset.\n",
        "print(f\"There are {len(df)} rows in the dataset.\")\n"
      ],
      "metadata": {
        "colab": {
          "base_uri": "https://localhost:8080/"
        },
        "id": "wrjFu65kOqJx",
        "outputId": "7e338605-476b-4ec4-e32b-2bdbb8f3a448"
      },
      "execution_count": null,
      "outputs": [
        {
          "output_type": "stream",
          "name": "stdout",
          "text": [
            "There are 51774 rows in the dataset.\n"
          ]
        }
      ]
    },
    {
      "cell_type": "code",
      "source": [
        "#Printing the number of duplicate titles in the dataset.\n",
        "duplicate_titles = sum(df[\"titles\"].duplicated())\n",
        "print(f\"There are {duplicate_titles} duplicate titles.\")"
      ],
      "metadata": {
        "colab": {
          "base_uri": "https://localhost:8080/"
        },
        "id": "SJszRqwzUjPs",
        "outputId": "a29b0e84-eb6e-491f-93d4-b3af66d2ddbe"
      },
      "execution_count": null,
      "outputs": [
        {
          "output_type": "stream",
          "name": "stdout",
          "text": [
            "There are 12802 duplicate titles.\n"
          ]
        }
      ]
    },
    {
      "cell_type": "code",
      "source": [
        "# Printing the number of rows in the deduplicated dataset.\n",
        "df = df[~df[\"titles\"].duplicated()]\n",
        "print(f\"There are {len(df)} rows in the deduplicated dataset.\")"
      ],
      "metadata": {
        "colab": {
          "base_uri": "https://localhost:8080/"
        },
        "id": "3VzZVnVlVOfA",
        "outputId": "ff1edfbf-57f9-493d-a4d5-b83c8386daf9"
      },
      "execution_count": null,
      "outputs": [
        {
          "output_type": "stream",
          "name": "stdout",
          "text": [
            "There are 38972 rows in the deduplicated dataset.\n"
          ]
        }
      ]
    },
    {
      "cell_type": "code",
      "source": [
        "#Storing the unique terms if the dataset in list_unique_terms and then printing the first 10 terms\n",
        "list_unique_terms = df['terms'].unique()\n",
        "list_unique_terms[:10]"
      ],
      "metadata": {
        "colab": {
          "base_uri": "https://localhost:8080/"
        },
        "id": "v-GLYKNcVma_",
        "outputId": "2c923a09-b47d-498e-cdce-fae8563942e5"
      },
      "execution_count": null,
      "outputs": [
        {
          "output_type": "execute_result",
          "data": {
            "text/plain": [
              "array([\"['cs.CV', 'cs.LG']\", \"['cs.CV', 'cs.AI', 'cs.LG']\",\n",
              "       \"['cs.CV', 'cs.AI']\", \"['cs.CV']\", \"['cs.CV', 'cs.HC']\",\n",
              "       \"['cs.CV', '68U10, 62M05, 62H30, 65C20']\", \"['cs.CV', 'cs.NE']\",\n",
              "       \"['cs.CV', 'cs.LG', 'eess.IV']\", \"['cs.CV', 'physics.geo-ph']\",\n",
              "       \"['cs.LG']\"], dtype=object)"
            ]
          },
          "metadata": {},
          "execution_count": 9
        }
      ]
    },
    {
      "cell_type": "code",
      "source": [
        "# Creating the empty list and then storing 5 random integers in rand_ints\n",
        "list_dfs = []\n",
        "np.random.seed(0)\n",
        "rand_ints = np.random.randint(200, 201, 5)\n",
        "rand_ints"
      ],
      "metadata": {
        "colab": {
          "base_uri": "https://localhost:8080/"
        },
        "id": "MVUzz2O6VubS",
        "outputId": "a3558ce7-46c5-4d82-bcef-b3030819e253"
      },
      "execution_count": null,
      "outputs": [
        {
          "output_type": "execute_result",
          "data": {
            "text/plain": [
              "array([200, 200, 200, 200, 200])"
            ]
          },
          "metadata": {},
          "execution_count": 10
        }
      ]
    },
    {
      "cell_type": "code",
      "source": [
        "# Using loop, we are appending the summaries from the first five terms of list_unique_terms to list_dfs\n",
        "# And the number of summaries appended from each term is taken from rand_ints\n",
        "for i, r in zip(range(5), rand_ints):\n",
        "    x = df[df['terms'] == list_unique_terms[i]]\n",
        "    list_dfs.append(x['summaries'][:r])"
      ],
      "metadata": {
        "id": "QHD12_7u8IOr"
      },
      "execution_count": null,
      "outputs": []
    },
    {
      "cell_type": "code",
      "source": [
        "# Storing the summaries in df5 and ignoring the index values and then printing the shape of df5.\n",
        "df5 = pd.DataFrame(pd.concat(list_dfs, ignore_index=True))\n",
        "df5.shape"
      ],
      "metadata": {
        "colab": {
          "base_uri": "https://localhost:8080/"
        },
        "id": "inb-5hQs8Nxk",
        "outputId": "f69466ec-e8c4-48da-a13f-240906da4ea5"
      },
      "execution_count": null,
      "outputs": [
        {
          "output_type": "execute_result",
          "data": {
            "text/plain": [
              "(840, 1)"
            ]
          },
          "metadata": {},
          "execution_count": 12
        }
      ]
    },
    {
      "cell_type": "code",
      "source": [
        "#Creating the embeddings for clustering\n",
        "embeddings = []\n",
        "for i in range(0, len(df5), 96):\n",
        "  texts = df5[\"summaries\"][i:i+96].tolist()\n",
        "  response = co.embed(\n",
        "    texts=texts,\n",
        "    model='embed-english-v3.0',\n",
        "    input_type='clustering'\n",
        "  )\n",
        "  for j in enumerate(response.embeddings):\n",
        "    embeddings.append(j[1])"
      ],
      "metadata": {
        "id": "2QZaqKuHEHYi"
      },
      "execution_count": null,
      "outputs": []
    },
    {
      "cell_type": "code",
      "source": [
        "len(embeddings)"
      ],
      "metadata": {
        "colab": {
          "base_uri": "https://localhost:8080/"
        },
        "id": "Ukua9Ay-m7xd",
        "outputId": "36725c2c-5644-47ee-9e0e-0f23200fddc6"
      },
      "execution_count": null,
      "outputs": [
        {
          "output_type": "execute_result",
          "data": {
            "text/plain": [
              "840"
            ]
          },
          "metadata": {},
          "execution_count": 15
        }
      ]
    },
    {
      "cell_type": "code",
      "source": [
        "#Printing the length of embeddings and adding this column to dataframe\n",
        "len(embeddings)\n",
        "df5['embeddings'] = embeddings\n",
        "data = df5\n",
        "data.head()"
      ],
      "metadata": {
        "colab": {
          "base_uri": "https://localhost:8080/",
          "height": 206
        },
        "id": "8n1KhquHEQNZ",
        "outputId": "e2c9486a-b8f8-4bf1-8040-d66e36cd084f"
      },
      "execution_count": null,
      "outputs": [
        {
          "output_type": "execute_result",
          "data": {
            "text/plain": [
              "                                           summaries  \\\n",
              "0  Stereo matching is one of the widely used tech...   \n",
              "1  To ensure safety in automated driving, the cor...   \n",
              "2  Image segmentation is a common and challenging...   \n",
              "3  The application of deep learning to medical im...   \n",
              "4  Quantifying uncertainty in medical image segme...   \n",
              "\n",
              "                                          embeddings  \n",
              "0  [-0.013221741, 0.004337311, -0.011726379, 0.04...  \n",
              "1  [0.022888184, 0.01689148, 0.009208679, 0.03851...  \n",
              "2  [0.026977539, 0.006450653, 0.011207581, 0.0083...  \n",
              "3  [0.04711914, 0.0027503967, 0.031585693, 0.0167...  \n",
              "4  [0.021942139, 0.020645142, 0.01928711, 0.03591...  "
            ],
            "text/html": [
              "\n",
              "  <div id=\"df-cb53b9ea-c701-40fb-b34c-0a2a8dcfb65c\" class=\"colab-df-container\">\n",
              "    <div>\n",
              "<style scoped>\n",
              "    .dataframe tbody tr th:only-of-type {\n",
              "        vertical-align: middle;\n",
              "    }\n",
              "\n",
              "    .dataframe tbody tr th {\n",
              "        vertical-align: top;\n",
              "    }\n",
              "\n",
              "    .dataframe thead th {\n",
              "        text-align: right;\n",
              "    }\n",
              "</style>\n",
              "<table border=\"1\" class=\"dataframe\">\n",
              "  <thead>\n",
              "    <tr style=\"text-align: right;\">\n",
              "      <th></th>\n",
              "      <th>summaries</th>\n",
              "      <th>embeddings</th>\n",
              "    </tr>\n",
              "  </thead>\n",
              "  <tbody>\n",
              "    <tr>\n",
              "      <th>0</th>\n",
              "      <td>Stereo matching is one of the widely used tech...</td>\n",
              "      <td>[-0.013221741, 0.004337311, -0.011726379, 0.04...</td>\n",
              "    </tr>\n",
              "    <tr>\n",
              "      <th>1</th>\n",
              "      <td>To ensure safety in automated driving, the cor...</td>\n",
              "      <td>[0.022888184, 0.01689148, 0.009208679, 0.03851...</td>\n",
              "    </tr>\n",
              "    <tr>\n",
              "      <th>2</th>\n",
              "      <td>Image segmentation is a common and challenging...</td>\n",
              "      <td>[0.026977539, 0.006450653, 0.011207581, 0.0083...</td>\n",
              "    </tr>\n",
              "    <tr>\n",
              "      <th>3</th>\n",
              "      <td>The application of deep learning to medical im...</td>\n",
              "      <td>[0.04711914, 0.0027503967, 0.031585693, 0.0167...</td>\n",
              "    </tr>\n",
              "    <tr>\n",
              "      <th>4</th>\n",
              "      <td>Quantifying uncertainty in medical image segme...</td>\n",
              "      <td>[0.021942139, 0.020645142, 0.01928711, 0.03591...</td>\n",
              "    </tr>\n",
              "  </tbody>\n",
              "</table>\n",
              "</div>\n",
              "    <div class=\"colab-df-buttons\">\n",
              "\n",
              "  <div class=\"colab-df-container\">\n",
              "    <button class=\"colab-df-convert\" onclick=\"convertToInteractive('df-cb53b9ea-c701-40fb-b34c-0a2a8dcfb65c')\"\n",
              "            title=\"Convert this dataframe to an interactive table.\"\n",
              "            style=\"display:none;\">\n",
              "\n",
              "  <svg xmlns=\"http://www.w3.org/2000/svg\" height=\"24px\" viewBox=\"0 -960 960 960\">\n",
              "    <path d=\"M120-120v-720h720v720H120Zm60-500h600v-160H180v160Zm220 220h160v-160H400v160Zm0 220h160v-160H400v160ZM180-400h160v-160H180v160Zm440 0h160v-160H620v160ZM180-180h160v-160H180v160Zm440 0h160v-160H620v160Z\"/>\n",
              "  </svg>\n",
              "    </button>\n",
              "\n",
              "  <style>\n",
              "    .colab-df-container {\n",
              "      display:flex;\n",
              "      gap: 12px;\n",
              "    }\n",
              "\n",
              "    .colab-df-convert {\n",
              "      background-color: #E8F0FE;\n",
              "      border: none;\n",
              "      border-radius: 50%;\n",
              "      cursor: pointer;\n",
              "      display: none;\n",
              "      fill: #1967D2;\n",
              "      height: 32px;\n",
              "      padding: 0 0 0 0;\n",
              "      width: 32px;\n",
              "    }\n",
              "\n",
              "    .colab-df-convert:hover {\n",
              "      background-color: #E2EBFA;\n",
              "      box-shadow: 0px 1px 2px rgba(60, 64, 67, 0.3), 0px 1px 3px 1px rgba(60, 64, 67, 0.15);\n",
              "      fill: #174EA6;\n",
              "    }\n",
              "\n",
              "    .colab-df-buttons div {\n",
              "      margin-bottom: 4px;\n",
              "    }\n",
              "\n",
              "    [theme=dark] .colab-df-convert {\n",
              "      background-color: #3B4455;\n",
              "      fill: #D2E3FC;\n",
              "    }\n",
              "\n",
              "    [theme=dark] .colab-df-convert:hover {\n",
              "      background-color: #434B5C;\n",
              "      box-shadow: 0px 1px 3px 1px rgba(0, 0, 0, 0.15);\n",
              "      filter: drop-shadow(0px 1px 2px rgba(0, 0, 0, 0.3));\n",
              "      fill: #FFFFFF;\n",
              "    }\n",
              "  </style>\n",
              "\n",
              "    <script>\n",
              "      const buttonEl =\n",
              "        document.querySelector('#df-cb53b9ea-c701-40fb-b34c-0a2a8dcfb65c button.colab-df-convert');\n",
              "      buttonEl.style.display =\n",
              "        google.colab.kernel.accessAllowed ? 'block' : 'none';\n",
              "\n",
              "      async function convertToInteractive(key) {\n",
              "        const element = document.querySelector('#df-cb53b9ea-c701-40fb-b34c-0a2a8dcfb65c');\n",
              "        const dataTable =\n",
              "          await google.colab.kernel.invokeFunction('convertToInteractive',\n",
              "                                                    [key], {});\n",
              "        if (!dataTable) return;\n",
              "\n",
              "        const docLinkHtml = 'Like what you see? Visit the ' +\n",
              "          '<a target=\"_blank\" href=https://colab.research.google.com/notebooks/data_table.ipynb>data table notebook</a>'\n",
              "          + ' to learn more about interactive tables.';\n",
              "        element.innerHTML = '';\n",
              "        dataTable['output_type'] = 'display_data';\n",
              "        await google.colab.output.renderOutput(dataTable, element);\n",
              "        const docLink = document.createElement('div');\n",
              "        docLink.innerHTML = docLinkHtml;\n",
              "        element.appendChild(docLink);\n",
              "      }\n",
              "    </script>\n",
              "  </div>\n",
              "\n",
              "\n",
              "<div id=\"df-5e191011-695a-43cd-88e8-7db701f65075\">\n",
              "  <button class=\"colab-df-quickchart\" onclick=\"quickchart('df-5e191011-695a-43cd-88e8-7db701f65075')\"\n",
              "            title=\"Suggest charts\"\n",
              "            style=\"display:none;\">\n",
              "\n",
              "<svg xmlns=\"http://www.w3.org/2000/svg\" height=\"24px\"viewBox=\"0 0 24 24\"\n",
              "     width=\"24px\">\n",
              "    <g>\n",
              "        <path d=\"M19 3H5c-1.1 0-2 .9-2 2v14c0 1.1.9 2 2 2h14c1.1 0 2-.9 2-2V5c0-1.1-.9-2-2-2zM9 17H7v-7h2v7zm4 0h-2V7h2v10zm4 0h-2v-4h2v4z\"/>\n",
              "    </g>\n",
              "</svg>\n",
              "  </button>\n",
              "\n",
              "<style>\n",
              "  .colab-df-quickchart {\n",
              "      --bg-color: #E8F0FE;\n",
              "      --fill-color: #1967D2;\n",
              "      --hover-bg-color: #E2EBFA;\n",
              "      --hover-fill-color: #174EA6;\n",
              "      --disabled-fill-color: #AAA;\n",
              "      --disabled-bg-color: #DDD;\n",
              "  }\n",
              "\n",
              "  [theme=dark] .colab-df-quickchart {\n",
              "      --bg-color: #3B4455;\n",
              "      --fill-color: #D2E3FC;\n",
              "      --hover-bg-color: #434B5C;\n",
              "      --hover-fill-color: #FFFFFF;\n",
              "      --disabled-bg-color: #3B4455;\n",
              "      --disabled-fill-color: #666;\n",
              "  }\n",
              "\n",
              "  .colab-df-quickchart {\n",
              "    background-color: var(--bg-color);\n",
              "    border: none;\n",
              "    border-radius: 50%;\n",
              "    cursor: pointer;\n",
              "    display: none;\n",
              "    fill: var(--fill-color);\n",
              "    height: 32px;\n",
              "    padding: 0;\n",
              "    width: 32px;\n",
              "  }\n",
              "\n",
              "  .colab-df-quickchart:hover {\n",
              "    background-color: var(--hover-bg-color);\n",
              "    box-shadow: 0 1px 2px rgba(60, 64, 67, 0.3), 0 1px 3px 1px rgba(60, 64, 67, 0.15);\n",
              "    fill: var(--button-hover-fill-color);\n",
              "  }\n",
              "\n",
              "  .colab-df-quickchart-complete:disabled,\n",
              "  .colab-df-quickchart-complete:disabled:hover {\n",
              "    background-color: var(--disabled-bg-color);\n",
              "    fill: var(--disabled-fill-color);\n",
              "    box-shadow: none;\n",
              "  }\n",
              "\n",
              "  .colab-df-spinner {\n",
              "    border: 2px solid var(--fill-color);\n",
              "    border-color: transparent;\n",
              "    border-bottom-color: var(--fill-color);\n",
              "    animation:\n",
              "      spin 1s steps(1) infinite;\n",
              "  }\n",
              "\n",
              "  @keyframes spin {\n",
              "    0% {\n",
              "      border-color: transparent;\n",
              "      border-bottom-color: var(--fill-color);\n",
              "      border-left-color: var(--fill-color);\n",
              "    }\n",
              "    20% {\n",
              "      border-color: transparent;\n",
              "      border-left-color: var(--fill-color);\n",
              "      border-top-color: var(--fill-color);\n",
              "    }\n",
              "    30% {\n",
              "      border-color: transparent;\n",
              "      border-left-color: var(--fill-color);\n",
              "      border-top-color: var(--fill-color);\n",
              "      border-right-color: var(--fill-color);\n",
              "    }\n",
              "    40% {\n",
              "      border-color: transparent;\n",
              "      border-right-color: var(--fill-color);\n",
              "      border-top-color: var(--fill-color);\n",
              "    }\n",
              "    60% {\n",
              "      border-color: transparent;\n",
              "      border-right-color: var(--fill-color);\n",
              "    }\n",
              "    80% {\n",
              "      border-color: transparent;\n",
              "      border-right-color: var(--fill-color);\n",
              "      border-bottom-color: var(--fill-color);\n",
              "    }\n",
              "    90% {\n",
              "      border-color: transparent;\n",
              "      border-bottom-color: var(--fill-color);\n",
              "    }\n",
              "  }\n",
              "</style>\n",
              "\n",
              "  <script>\n",
              "    async function quickchart(key) {\n",
              "      const quickchartButtonEl =\n",
              "        document.querySelector('#' + key + ' button');\n",
              "      quickchartButtonEl.disabled = true;  // To prevent multiple clicks.\n",
              "      quickchartButtonEl.classList.add('colab-df-spinner');\n",
              "      try {\n",
              "        const charts = await google.colab.kernel.invokeFunction(\n",
              "            'suggestCharts', [key], {});\n",
              "      } catch (error) {\n",
              "        console.error('Error during call to suggestCharts:', error);\n",
              "      }\n",
              "      quickchartButtonEl.classList.remove('colab-df-spinner');\n",
              "      quickchartButtonEl.classList.add('colab-df-quickchart-complete');\n",
              "    }\n",
              "    (() => {\n",
              "      let quickchartButtonEl =\n",
              "        document.querySelector('#df-5e191011-695a-43cd-88e8-7db701f65075 button');\n",
              "      quickchartButtonEl.style.display =\n",
              "        google.colab.kernel.accessAllowed ? 'block' : 'none';\n",
              "    })();\n",
              "  </script>\n",
              "</div>\n",
              "\n",
              "    </div>\n",
              "  </div>\n"
            ],
            "application/vnd.google.colaboratory.intrinsic+json": {
              "type": "dataframe",
              "variable_name": "data",
              "summary": "{\n  \"name\": \"data\",\n  \"rows\": 840,\n  \"fields\": [\n    {\n      \"column\": \"summaries\",\n      \"properties\": {\n        \"dtype\": \"string\",\n        \"num_unique_values\": 840,\n        \"samples\": [\n          \"In supervised learning for medical image analysis, sample selection\\nmethodologies are fundamental to attain optimum system performance promptly and\\nwith minimal expert interactions (e.g. label querying in an active learning\\nsetup). In this paper we propose a novel sample selection methodology based on\\ndeep features leveraging information contained in interpretability saliency\\nmaps. In the absence of ground truth labels for informative samples, we use a\\nnovel self supervised learning based approach for training a classifier that\\nlearns to identify the most informative sample in a given batch of images. We\\ndemonstrate the benefits of the proposed approach, termed\\nInterpretability-Driven Sample Selection (IDEAL), in an active learning setup\\naimed at lung disease classification and histopathology image segmentation. We\\nanalyze three different approaches to determine sample informativeness from\\ninterpretability saliency maps: (i) an observational model stemming from\\nfindings on previous uncertainty-based sample selection approaches, (ii) a\\nradiomics-based model, and (iii) a novel data-driven self-supervised approach.\\nWe compare IDEAL to other baselines using the publicly available NIH chest\\nX-ray dataset for lung disease classification, and a public histopathology\\nsegmentation dataset (GLaS), demonstrating the potential of using\\ninterpretability information for sample selection in active learning systems.\\nResults show our proposed self supervised approach outperforms other approaches\\nin selecting informative samples leading to state of the art performance with\\nfewer samples.\",\n          \"Numerous automatic continuous emotion detection system studies have examined\\nmostly use of videos and images containing individual person expressing\\nemotions. This study examines the detection of spontaneous emotions in a group\\nand crowd settings. Edge detection was used with a grid of lines\\nsuperimposition to extract the features. The feature movement in terms of\\nmovement from the reference point was used to track across sequences of images\\nfrom the color channel. Additionally the video data capturing was done on\\nspontaneous emotions invoked by watching sports events from group of\\nparticipants. The method was view and occlusion independent and the results\\nwere not affected by presence of multiple people chaotically expressing various\\nemotions. The edge thresholds of 0.2 and grid thresholds of 20 showed the best\\naccuracy results. The overall accuracy of the group emotion classifier was\\n70.9%.\",\n          \"We propose a deep learning framework to detect and categorize oil spills in\\nsynthetic aperture radar (SAR) images at a large scale. By means of a carefully\\ndesigned neural network model for image segmentation trained on an extensive\\ndataset, we are able to obtain state-of-the-art performance in oil spill\\ndetection, achieving results that are comparable to results produced by human\\noperators. We also introduce a classification task, which is novel in the\\ncontext of oil spill detection in SAR. Specifically, after being detected, each\\noil spill is also classified according to different categories pertaining to\\nits shape and texture characteristics. The classification results provide\\nvaluable insights for improving the design of oil spill services by\\nworld-leading providers. As the last contribution, we present our operational\\npipeline and a visualization tool for large-scale data, which allows to detect\\nand analyze the historical presence of oil spills worldwide.\"\n        ],\n        \"semantic_type\": \"\",\n        \"description\": \"\"\n      }\n    },\n    {\n      \"column\": \"embeddings\",\n      \"properties\": {\n        \"dtype\": \"object\",\n        \"semantic_type\": \"\",\n        \"description\": \"\"\n      }\n    }\n  ]\n}"
            }
          },
          "metadata": {},
          "execution_count": 14
        }
      ]
    },
    {
      "cell_type": "markdown",
      "source": [
        "###**Dimensionality Reduction:-**"
      ],
      "metadata": {
        "id": "EBco3kPO-4eu"
      }
    },
    {
      "cell_type": "code",
      "source": [
        "#Performing UMAP on embeddings\n",
        "reducer = umap.UMAP(n_neighbors=10, min_dist=0.1, n_components=2)\n",
        "umap_embeddings = reducer.fit_transform(embeddings)\n",
        "umap_embeddings"
      ],
      "metadata": {
        "colab": {
          "base_uri": "https://localhost:8080/"
        },
        "id": "D5e197wlEgbU",
        "outputId": "f9673aba-d57d-4a2d-f821-3b972f329a4f"
      },
      "execution_count": null,
      "outputs": [
        {
          "output_type": "execute_result",
          "data": {
            "text/plain": [
              "array([[-0.45999968,  6.916234  ],\n",
              "       [-1.0343281 ,  7.178988  ],\n",
              "       [-0.6413186 ,  7.3657928 ],\n",
              "       ...,\n",
              "       [-2.9288363 ,  1.828239  ],\n",
              "       [-3.215039  ,  1.9731826 ],\n",
              "       [-2.7955332 ,  1.6933521 ]], dtype=float32)"
            ]
          },
          "metadata": {},
          "execution_count": 17
        }
      ]
    },
    {
      "cell_type": "code",
      "source": [
        "type(umap_embeddings)"
      ],
      "metadata": {
        "colab": {
          "base_uri": "https://localhost:8080/"
        },
        "id": "CRvePNCdveQ9",
        "outputId": "2971fb7c-5e90-4c59-921a-899ae75c0feb"
      },
      "execution_count": null,
      "outputs": [
        {
          "output_type": "execute_result",
          "data": {
            "text/plain": [
              "numpy.ndarray"
            ]
          },
          "metadata": {},
          "execution_count": 51
        }
      ]
    },
    {
      "cell_type": "code",
      "source": [
        "#Standardizing the umap_sembedding\n",
        "# from sklearn.preprocessing import StandardScaler\n",
        "# scaler = StandardScaler()\n",
        "# umap_embeddings_scaled = scaler.fit_transform(umap_embeddings)\n",
        "# umap_embeddings_scaled"
      ],
      "metadata": {
        "id": "lXgNnFdRT92d"
      },
      "execution_count": null,
      "outputs": []
    },
    {
      "cell_type": "code",
      "source": [
        "# #Performing the TSNE on embeddings and standardizing it\n",
        "# embeddings = np.array(embeddings)\n",
        "# tsne = TSNE(n_components=2, learning_rate=200)\n",
        "# tsne_embeddings = tsne.fit_transform(embeddings)\n",
        "# tsne_embeddings_scaled = scaler.fit_transform(tsne_embeddings)\n",
        "# tsne_embeddings_scaled"
      ],
      "metadata": {
        "id": "y8RNMzF0W-Jr"
      },
      "execution_count": null,
      "outputs": []
    },
    {
      "cell_type": "code",
      "source": [
        "#Performing the PCA on embeddings and standardizing it\n",
        "# pca = PCA(n_components=2)\n",
        "# pca_embeddings = pca.fit_transform(embeddings)\n",
        "# pca_embeddings_scaled = scaler.fit_transform(pca_embeddings)\n",
        "# pca_embeddings_scaled"
      ],
      "metadata": {
        "id": "OYbydGAVXI9y"
      },
      "execution_count": null,
      "outputs": []
    },
    {
      "cell_type": "code",
      "source": [
        "# make a plot of cumulative variance explained vs number of princiapl components of embeddings\n",
        "\n",
        "# import matplotlib.pyplot as plt\n",
        "# import numpy as np\n",
        "# pca = PCA()\n",
        "# pca.fit(embeddings)\n",
        "# plt.plot(np.cumsum(pca.explained_variance_ratio_))\n",
        "# plt.xlim(1,10)\n",
        "# plt.xlabel('Number of principal components')\n",
        "# plt.ylabel('Cumulative variance explained')\n",
        "# plt.show()\n"
      ],
      "metadata": {
        "id": "1kNDr8Y_G-e7"
      },
      "execution_count": null,
      "outputs": []
    },
    {
      "cell_type": "code",
      "source": [
        "#Performing UMAP on embeddings\n",
        "# reducer = umap.UMAP(n_neighbors=25,\n",
        "#     min_dist=0.01,n_components=2)\n",
        "# umap_embeddings2 = reducer.fit_transform(embeddings)\n",
        "# #Standardizing the umap_sembedding\n",
        "# from sklearn.preprocessing import StandardScaler\n",
        "# scaler = StandardScaler()\n",
        "# umap_embeddings_scaled2 = scaler.fit_transform(umap_embeddings)\n",
        "# umap_embeddings_scaled2"
      ],
      "metadata": {
        "id": "XhsZgGSDcLvE"
      },
      "execution_count": null,
      "outputs": []
    },
    {
      "cell_type": "markdown",
      "source": [
        "Spectral Clustering:-\n"
      ],
      "metadata": {
        "id": "1_5bguoVBXwX"
      }
    },
    {
      "cell_type": "code",
      "source": [
        "#silhuette score vs number of clusters graph for umap_embeddings for spectral clustering\n",
        "silhouettes = []\n",
        "for n_clusters in range(2, 15):\n",
        "    clusterer = SpectralClustering(n_clusters=n_clusters, affinity = 'rbf',eigen_solver='arpack')\n",
        "    cluster_labels = clusterer.fit_predict(umap_embeddings)\n",
        "    silhouette_avg = silhouette_score(umap_embeddings, cluster_labels)\n",
        "    silhouettes.append(silhouette_avg)\n",
        "\n",
        "plt.plot(range(2, 15), silhouettes, 'bx-')\n",
        "plt.xlabel('Number of clusters')\n",
        "plt.ylabel('Silhouette score')\n",
        "plt.title('Silhouette score vs. number of clusters for Spectral Clustering')\n",
        "plt.show()\n"
      ],
      "metadata": {
        "colab": {
          "base_uri": "https://localhost:8080/",
          "height": 472
        },
        "id": "Gx_rN5yQCtuR",
        "outputId": "16e87c17-2f16-4b8f-f601-c2d0a3d3b455"
      },
      "execution_count": null,
      "outputs": [
        {
          "output_type": "display_data",
          "data": {
            "text/plain": [
              "<Figure size 640x480 with 1 Axes>"
            ],
            "image/png": "[encoded data removed]"
          },
          "metadata": {}
        }
      ]
    },
    {
      "cell_type": "code",
      "source": [
        "\n",
        "#Performing the spectral clustering on umap_embeddings\n",
        "spectral_model = SpectralClustering(n_clusters=5,affinity = 'rbf',eigen_solver='arpack' )\n",
        "cluster_labels = spectral_model.fit_predict(umap_embeddings)\n",
        "#Visualizing the 3d plot using plotly\n",
        "fig = go.Figure(data=[go.Scatter(x=umap_embeddings[:, 0], y=umap_embeddings[:, 1],\n",
        "                               mode='markers',\n",
        "                               marker=dict(\n",
        "                                   size=12,\n",
        "                                   color=cluster_labels,                # set color to an array/list of desired values\n",
        "                                   colorscale='viridis',   # choose a colorscale\n",
        "                                   opacity=0.8\n",
        "                               )\n",
        "                              )])\n",
        "\n",
        "fig.show()\n"
      ],
      "metadata": {
        "colab": {
          "base_uri": "https://localhost:8080/",
          "height": 542
        },
        "id": "GAgS14F6cZIk",
        "outputId": "6f63e619-1c5c-4f71-a801-cf3ffdbaf867"
      },
      "execution_count": null,
      "outputs": [
        {
          "output_type": "display_data",
          "data": {
            "text/html": [
              "<html>\n",
              "<head><meta charset=\"utf-8\" /></head>\n",
              "<body>\n",
              "    <div>            <script src=\"https://cdnjs.cloudflare.com/ajax/libs/mathjax/2.7.5/MathJax.js?config=TeX-AMS-MML_SVG\"></script><script type=\"text/javascript\">if (window.MathJax && window.MathJax.Hub && window.MathJax.Hub.Config) {window.MathJax.Hub.Config({SVG: {font: \"STIX-Web\"}});}</script>                <script type=\"text/javascript\">window.PlotlyConfig = {MathJaxConfig: 'local'};</script>\n",
              "        <script charset=\"utf-8\" src=\"https://cdn.plot.ly/plotly-2.24.1.min.js\"></script>                <div id=\"2d5ee608-be03-4775-bd05-2702b8f578ef\" class=\"plotly-graph-div\" style=\"height:525px; width:100%;\"></div>            <script type=\"text/javascript\">                                    window.PLOTLYENV=window.PLOTLYENV || {};                                    if (document.getElementById(\"2d5ee608-be03-4775-bd05-2702b8f578ef\")) {                    Plotly.newPlot(                        \"2d5ee608-be03-4775-bd05-2702b8f578ef\",                        [{\"marker\":{\"color\":[4,4,4,1,1,0,0,1,0,0,3,3,3,0,1,0,1,0,1,0,1,1,1,0,0,0,0,1,1,0,0,0,3,0,1,0,1,4,0,0,1,0,1,1,1,1,0,0,1,0,1,0,0,0,4,1,1,1,0,0,0,1,1,1,0,4,1,0,0,1,0,0,4,0,0,0,3,3,4,3,3,1,3,3,3,1,3,0,1,2,3,0,2,2,3,3,3,1,4,4,3,3,3,4,3,3,3,3,3,1,3,2,2,3,2,3,3,3,2,1,3,2,3,3,3,3,4,3,3,0,3,3,2,3,2,3,3,2,4,1,4,4,3,0,2,4,2,3,1,3,3,2,2,3,2,1,3,3,3,3,3,3,2,4,3,2,3,3,4,4,3,3,0,3,3,3,3,1,3,3,3,3,2,2,4,0,4,4,3,4,3,3,2,2,3,2,2,2,2,2,1,0,1,4,1,3,1,1,0,0,1,0,0,3,4,3,2,2,2,1,3,1,2,4,3,3,3,4,3,3,1,3,2,2,2,4,3,2,3,4,1,1,3,3,1,4,3,3,3,4,3,4,2,2,2,2,2,0,2,3,1,2,2,3,1,2,4,4,4,3,4,3,3,4,4,4,4,3,3,4,3,4,4,3,4,4,4,4,4,4,2,3,4,4,0,2,4,0,2,4,3,3,3,4,3,4,4,4,1,4,4,2,4,3,4,4,4,3,4,3,4,4,3,3,4,4,4,4,0,0,4,4,4,4,4,3,4,3,4,2,1,3,3,0,4,4,4,2,1,2,3,1,3,4,3,4,3,4,1,2,3,3,1,2,3,2,2,3,3,0,4,3,3,2,1,4,4,3,2,3,3,3,3,3,3,3,3,3,3,3,3,3,2,3,3,1,3,3,3,3,1,1,4,1,1,2,0,1,0,1,0,1,4,1,0,0,0,1,0,1,1,0,1,4,1,0,1,2,0,4,0,1,0,4,1,0,0,2,1,2,3,3,3,3,1,2,3,4,3,2,3,0,2,3,3,3,2,3,0,3,3,3,2,1,3,4,2,2,3,3,1,3,2,1,3,3,1,2,0,2,3,2,2,1,4,3,0,2,3,0,2,2,2,4,2,4,4,4,4,4,4,4,4,4,4,1,4,4,4,4,4,4,4,4,4,4,4,4,4,4,4,1,4,4,4,4,4,4,4,4,4,4,4,4,0,0,4,4,4,3,4,4,4,4,4,4,4,4,4,2,2,0,1,4,1,4,3,4,3,1,4,4,4,3,0,3,4,4,2,0,4,4,4,0,4,0,4,1,4,3,2,4,4,1,1,3,2,1,1,4,3,4,4,4,2,2,1,3,1,2,1,0,1,1,1,1,1,1,1,1,2,0,0,1,0,0,0,1,0,1,0,1,0,1,1,1,1,1,1,0,0,0,1,0,1,1,0,0,1,1,1,1,1,1,1,1,3,1,0,1,1,1,0,1,4,0,1,0,1,1,1,1,1,0,4,0,1,1,1,1,1,0,0,1,1,1,1,4,0,0,2,0,1,1,0,0,0,1,1,0,1,4,0,2,0,1,1,1,1,1,1,1,0,0,0,0,0,1,0,1,0,1,1,4,1,1,1,2,1,1,0,0,0,1,1,1,1,1,1,2,1,0,0,1,1,0,1,0,4,0,1,0,0,0,0,0,1,4,1,1,4,0,0,1,2,1,0,4,1,0,1,1,0,1,1,4,1,1,1,1,3,1,1,0,0,0,1,0,0,1,0,1,0,0,1,1,1,1,1,1,0,0,0,1,0,1,0,0,0,1,0,0,1,4,3,0,4,4,2,2,3,2,3,2,4,2,2,4,2,4,2,2,2,2,2,2,2,2,2,4,2,2,3,4,2,2,2,2,2,2],\"colorscale\":[[0.0,\"#440154\"],[0.1111111111111111,\"#482878\"],[0.2222222222222222,\"#3e4989\"],[0.3333333333333333,\"#31688e\"],[0.4444444444444444,\"#26828e\"],[0.5555555555555556,\"#1f9e89\"],[0.6666666666666666,\"#35b779\"],[0.7777777777777778,\"#6ece58\"],[0.8888888888888888,\"#b5de2b\"],[1.0,\"#fde725\"]],\"opacity\":0.8,\"size\":12},\"mode\":\"markers\",\"x\":[-0.459999680519104,-1.0343281030654907,-0.6413186192512512,4.625281810760498,3.553144931793213,1.152356743812561,0.1098327785730362,3.7687606811523438,0.40060296654701233,0.25695356726646423,-6.138552188873291,-3.6975433826446533,-5.035112380981445,0.3558003306388855,4.12542200088501,2.7164816856384277,3.7344226837158203,-0.11588602513074875,4.097728252410889,1.562917709350586,3.776136875152588,4.614763259887695,4.896618366241455,0.7680104374885559,0.6733645796775818,1.733292579650879,2.5285897254943848,3.210108995437622,3.292938232421875,1.439490556716919,0.2999122142791748,1.6019816398620605,-5.439363479614258,1.8313398361206055,4.5797929763793945,1.7771363258361816,5.044273853302002,-2.12538480758667,1.0041791200637817,1.724003553390503,4.1048760414123535,1.0059624910354614,3.4656171798706055,4.496777057647705,5.9251322746276855,3.005262851715088,0.506588339805603,0.7032396793365479,4.435429096221924,0.06462489068508148,5.001749038696289,-0.11632418632507324,0.18279018998146057,0.7587022185325623,-2.771711587905884,4.021036148071289,4.440790176391602,3.685197114944458,0.7664533257484436,1.4928526878356934,0.8471279740333557,4.017336845397949,4.195890426635742,4.819687843322754,1.236798882484436,-3.078129291534424,5.109174728393555,1.7861270904541016,1.7802852392196655,3.5132761001586914,1.7180864810943604,2.574110507965088,-0.8796583414077759,1.741719365119934,2.049802780151367,1.7213680744171143,-5.224682331085205,-5.5673956871032715,-2.4824392795562744,-4.740478038787842,-5.237550735473633,5.137070655822754,-4.722917079925537,-5.532073020935059,-4.870202541351318,4.172460079193115,-4.509001731872559,1.6827020645141602,3.6925652027130127,-3.3107452392578125,-6.237545013427734,1.3888601064682007,-2.1742794513702393,-2.554619312286377,-5.22031831741333,-4.811831474304199,-6.074448108673096,5.462845325469971,-1.5598517656326294,-3.041743040084839,-3.998300790786743,-4.526310920715332,-4.564192771911621,-2.7046637535095215,-6.177637577056885,-3.8213603496551514,-4.331262588500977,-4.658241271972656,-4.160312652587891,5.659071445465088,-5.004075527191162,-4.499022483825684,-2.1278975009918213,-4.875338077545166,-2.998379945755005,-4.350524425506592,-4.202470302581787,-4.647064208984375,-2.2268543243408203,5.548785209655762,-4.067356586456299,-4.336893558502197,-5.474539756774902,-4.800447463989258,-4.583429336547852,-4.54941463470459,-2.711411952972412,-4.729116439819336,-5.598902225494385,1.93352472782135,-4.7650980949401855,-5.1518659591674805,-2.535921812057495,-4.6432061195373535,-4.330758094787598,-4.5805792808532715,-4.946030616760254,-4.525990009307861,-3.1383440494537354,4.288763999938965,-3.3643035888671875,-2.6620826721191406,-4.6096062660217285,0.09732168167829514,-3.1537375450134277,-3.0701520442962646,-4.225213050842285,-5.300088405609131,4.711488246917725,-5.498138427734375,-6.19011926651001,-4.6609601974487305,-4.288435935974121,-6.19903039932251,-3.5724267959594727,5.150629043579102,-3.6829164028167725,-5.2720794677734375,-5.90971040725708,-5.427731513977051,-3.8340189456939697,-4.335666656494141,-2.474325656890869,-0.5295189023017883,-4.810332298278809,-4.47251558303833,-6.121070861816406,-3.7482807636260986,-3.020704746246338,-2.760711431503296,-4.87423038482666,-5.153683185577393,0.3563576638698578,-4.364982604980469,-4.549144744873047,-4.583041667938232,-5.43790864944458,5.043543338775635,-4.591874599456787,-5.475654125213623,-6.211219787597656,-4.094536781311035,-4.531053066253662,-2.1613636016845703,-0.7643259167671204,0.06405391544103622,-2.3170580863952637,-0.49849024415016174,-4.424524784088135,-2.4974663257598877,-3.997410535812378,-6.246374607086182,-2.9314498901367188,-2.9822094440460205,-4.53162145614624,-3.056460380554199,-2.328444719314575,-3.1767578125,-2.904135227203369,-3.185346841812134,4.778388023376465,0.9350191950798035,4.098008632659912,-2.484295606613159,4.578283786773682,-5.3267364501953125,3.9640932083129883,5.118165016174316,1.5162551403045654,0.07018913328647614,3.597564697265625,1.7101432085037231,1.8067635297775269,-4.945981025695801,-0.7293343544006348,-4.790040016174316,-4.319561958312988,-4.421859264373779,-4.542219638824463,5.156174182891846,-5.199656009674072,4.644013404846191,-4.405002117156982,-2.6429524421691895,-4.759030818939209,-4.600020408630371,-4.77911901473999,-0.33034631609916687,-5.203125,-5.424029350280762,5.689734935760498,-5.133713722229004,-2.2215628623962402,-4.494546890258789,-4.727795124053955,-0.39345064759254456,-4.703579902648926,-4.495589733123779,-3.8054492473602295,-1.9794429540634155,5.11337423324585,5.595029354095459,-4.474888324737549,-4.731302738189697,5.91176176071167,-2.0602102279663086,-4.335710048675537,-4.3887176513671875,-4.679168224334717,-1.8845295906066895,-4.128190994262695,-2.6316494941711426,-3.2403717041015625,-3.180823564529419,-2.720411539077759,-2.223101854324341,-2.2785696983337402,-0.20212021470069885,-3.082736015319824,-3.328868865966797,5.21065092086792,-3.3192968368530273,-3.070948600769043,-3.3208398818969727,5.961638927459717,-3.2092974185943604,-1.8416721820831299,-1.1743113994598389,-1.060038685798645,-4.563991069793701,-2.9750962257385254,-5.005414009094238,-5.029301166534424,-1.2696735858917236,-1.0906249284744263,-1.084502100944519,-3.186569929122925,-4.668316841125488,-4.297641754150391,-1.5303411483764648,-5.093780040740967,-2.2207329273223877,-2.1979196071624756,-5.1451263427734375,-2.0552451610565186,-2.1039986610412598,-2.7365190982818604,-1.1958433389663696,-2.008687734603882,-1.273569107055664,-3.278148889541626,-5.187563896179199,-1.7778809070587158,-2.3904683589935303,-0.15713946521282196,-4.298091888427734,-1.429395318031311,0.4460795521736145,-3.5181972980499268,-1.5996674299240112,-3.8423445224761963,-4.222731113433838,-3.7196433544158936,-1.8756927251815796,-3.578446388244629,-1.768728256225586,-2.226257085800171,-2.0008578300476074,5.173262596130371,-2.028822898864746,-3.53171706199646,-2.8375775814056396,-1.5982674360275269,-5.136119842529297,-1.6999913454055786,-1.8693386316299438,-2.4880495071411133,-3.634531259536743,-1.410696268081665,-4.516534328460693,-1.0816397666931152,-1.917309284210205,-3.621990203857422,-5.191287040710449,-2.322512149810791,-1.6009800434112549,-1.9566266536712646,-1.0891200304031372,1.273918867111206,-0.038041770458221436,-2.485031843185425,-1.9773813486099243,-2.012218475341797,-3.2173256874084473,-2.0355968475341797,-4.667826175689697,-1.7899463176727295,-3.4081223011016846,-2.619049072265625,-3.3891329765319824,5.454517841339111,-3.2407984733581543,-4.978214740753174,0.3726288378238678,-0.6601229906082153,-2.6832587718963623,-2.698049306869507,-3.523005962371826,5.646287441253662,-3.581277847290039,-4.877960681915283,5.148885726928711,-3.1331989765167236,-1.99489426612854,-3.212768077850342,-3.019754409790039,-3.5360026359558105,-3.135345935821533,5.40201473236084,-4.0120439529418945,-6.18646764755249,-4.348857402801514,5.176907062530518,-2.198113203048706,-3.753554105758667,-1.9070608615875244,-2.863274335861206,-4.06520938873291,-5.614968299865723,-0.13998925685882568,-0.7261460423469543,-5.08095645904541,-4.867575645446777,-2.841392755508423,4.457707405090332,-0.5751190185546875,-3.3094608783721924,-4.813640117645264,-4.323009014129639,-5.112000465393066,-4.853658676147461,-5.094874858856201,-5.032562255859375,-4.782711505889893,-5.180617809295654,-5.266218662261963,-5.255448341369629,-5.280499458312988,-5.189998626708984,-5.029038906097412,-5.369742393493652,-2.955195665359497,-2.2680532932281494,-5.164271354675293,-5.235071659088135,3.2182908058166504,-4.389710903167725,-3.62524151802063,-4.872781753540039,-5.116057395935059,3.879376173019409,5.2079949378967285,-1.991593599319458,4.844799995422363,3.6517961025238037,-3.092301845550537,1.2727035284042358,4.918671607971191,1.9404680728912354,5.192370414733887,1.391244888305664,4.0543107986450195,-2.220799684524536,4.5854058265686035,1.7191129922866821,-0.30423691868782043,2.023117780685425,4.070545196533203,1.84285569190979,4.505014419555664,5.0070109367370605,2.0258734226226807,4.596908092498779,-2.5398004055023193,5.3003458976745605,0.6456743478775024,4.987961769104004,-4.236138820648193,1.2643696069717407,-1.210763692855835,1.962083339691162,5.1295552253723145,1.608699083328247,-1.262393593788147,4.395373344421387,1.9383561611175537,1.707263708114624,-2.1347572803497314,5.257684230804443,-2.063542127609253,-4.760899543762207,-4.83789587020874,-6.197446823120117,-4.9286346435546875,5.116357803344727,-4.5149617195129395,-4.618389129638672,-0.9509732723236084,-4.3322319984436035,-2.072326898574829,-5.0202155113220215,0.04504898935556412,-4.298589706420898,-6.190371513366699,-5.0342512130737305,-4.4746317863464355,-2.1202147006988525,-6.237152099609375,0.09645198285579681,-4.814764499664307,-4.526644229888916,-4.688833236694336,-2.0438430309295654,4.9315948486328125,-3.6715035438537598,-0.7674793004989624,-3.7988088130950928,-4.435984134674072,-4.036684513092041,-3.634035110473633,5.6025471687316895,-3.4900500774383545,-2.3072338104248047,5.309590816497803,-3.949906826019287,-4.141056060791016,3.967339038848877,-2.328662157058716,-0.18288584053516388,-2.415631055831909,-3.775128126144409,-2.8609700202941895,-2.7366721630096436,5.233152389526367,-1.1322611570358276,-3.0329675674438477,0.8636754751205444,-2.55728816986084,-3.1985085010528564,1.0850846767425537,-3.4635262489318848,-3.0553433895111084,-2.332914352416992,-1.1042683124542236,-3.081634759902954,-1.0661392211914062,-2.2179369926452637,-3.374044895172119,-2.5978891849517822,-2.9315078258514404,-3.2363228797912598,-1.4288995265960693,-2.300727128982544,-1.1815235614776611,-1.8631491661071777,4.763341426849365,-1.707243800163269,-2.22928786277771,-1.3372622728347778,-1.765779733657837,-1.015657663345337,-2.3282947540283203,-1.3142486810684204,-1.0723520517349243,-2.0890517234802246,-2.2050623893737793,-2.369016647338867,-1.9458073377609253,-2.53812575340271,-2.167897939682007,-1.297074317932129,2.828281879425049,-1.0448092222213745,-1.803882360458374,-1.9004106521606445,-1.1181422472000122,-2.027186870574951,-1.7235983610153198,-1.8053336143493652,-1.6845471858978271,-1.3709172010421753,-2.430387258529663,-1.228502631187439,-3.4128761291503906,-0.21087637543678284,-0.07898499816656113,-0.7543560266494751,-1.8510702848434448,-2.0612471103668213,-3.786925792694092,-1.672164797782898,-1.64168381690979,-2.2027666568756104,-3.4675841331481934,-0.9057829976081848,-1.893700361251831,-2.3888204097747803,-2.8209564685821533,-1.1247222423553467,-2.203442096710205,-4.317331314086914,0.030108636245131493,4.311878681182861,-2.1601593494415283,4.99509859085083,-0.9850203990936279,-3.079414129257202,-1.2503814697265625,-4.330563545227051,5.234110355377197,-3.4248414039611816,-3.018735885620117,-2.7374064922332764,-4.939667701721191,0.12758967280387878,-3.3835771083831787,-1.3579086065292358,-1.0008046627044678,-3.567892551422119,-0.01745307631790638,-2.1015238761901855,-1.4071964025497437,-2.271397829055786,1.5178385972976685,-1.097508430480957,1.5764015913009644,-2.265092372894287,4.7049150466918945,-2.14589262008667,-4.341588497161865,-2.615659236907959,-3.0799503326416016,-2.311394453048706,5.22461462020874,4.36713981628418,-4.965505123138428,-2.1620068550109863,5.021404266357422,5.9428558349609375,-0.7346585988998413,-4.218612194061279,-3.303311824798584,-2.5251805782318115,-0.7615938782691956,-2.2068581581115723,-3.372227668762207,5.919000148773193,-4.67427396774292,4.711938858032227,-2.8376903533935547,4.064831256866455,0.5864447355270386,4.5283966064453125,3.9752657413482666,4.902074813842773,3.6995277404785156,5.179680824279785,3.8879380226135254,4.592838287353516,4.855201721191406,-1.5624384880065918,1.2550334930419922,1.0126855373382568,4.583620071411133,1.0298516750335693,1.0570850372314453,0.5765869617462158,3.963740348815918,0.8111030459403992,3.961590528488159,1.5306077003479004,3.8297243118286133,1.4579232931137085,3.73571515083313,4.022235870361328,4.732711315155029,3.284731388092041,4.683154582977295,4.001289367675781,1.4117578268051147,0.38141676783561707,1.3545923233032227,3.6499898433685303,1.1246026754379272,4.438941955566406,4.837553024291992,1.0715323686599731,1.810081958770752,3.925806999206543,4.180824279785156,4.108217716217041,3.9387097358703613,3.6453840732574463,4.959544658660889,4.86916971206665,3.9995439052581787,-6.098772048950195,4.917607307434082,1.2160685062408447,4.231433391571045,3.8822238445281982,5.411828994750977,1.5495654344558716,4.888022422790527,-0.7038732171058655,1.61793053150177,3.9577221870422363,0.5324869751930237,3.147003412246704,3.6350808143615723,3.353625535964966,4.1881303787231445,5.426574230194092,0.8418858051300049,-0.22855110466480255,0.9792489409446716,4.86701774597168,4.079692363739014,3.200758695602417,3.739720582962036,4.564148902893066,1.180209994316101,1.4108809232711792,4.3436384201049805,4.064995288848877,4.550779342651367,4.99918270111084,-0.8672110438346863,1.0287657976150513,1.145107388496399,-3.2462220191955566,1.511877179145813,4.8398237228393555,3.252650737762451,1.2970926761627197,0.7220282554626465,-0.0918416678905487,4.245517730712891,3.7451188564300537,0.6721546649932861,4.309765338897705,-3.406552314758301,1.0812201499938965,-1.4473085403442383,1.4505068063735962,5.108303070068359,3.6421008110046387,4.798267364501953,4.654390811920166,4.438482761383057,4.743371486663818,5.301391124725342,0.4233531951904297,1.097052812576294,1.8113124370574951,1.3985446691513062,0.8666367530822754,2.8140921592712402,1.3673908710479736,4.022209644317627,1.383851408958435,3.4254424571990967,4.527987957000732,-3.379335641860962,3.407078266143799,4.697316646575928,4.127681732177734,-1.29397714138031,4.682173252105713,4.9120049476623535,2.704683303833008,0.6814302206039429,1.8474249839782715,4.044816017150879,3.7728519439697266,3.8615283966064453,4.471899032592773,4.716982364654541,3.7613394260406494,-1.5354000329971313,2.770554780960083,1.7479385137557983,1.797003149986267,4.359109401702881,4.152047634124756,1.7975035905838013,4.8334431648254395,1.4602892398834229,-3.1527960300445557,1.213566780090332,4.101062297821045,1.6172990798950195,1.857850432395935,0.9614989757537842,0.684535801410675,1.3069485425949097,3.6338934898376465,-0.6657670140266418,4.949505805969238,3.4952340126037598,-2.9383230209350586,1.3728337287902832,0.6102033853530884,4.705419063568115,-2.4353604316711426,4.54184103012085,1.6988049745559692,-2.196065902709961,4.524402618408203,1.595707893371582,3.6857101917266846,4.580235004425049,0.3358491063117981,5.035855293273926,4.2181620597839355,-0.7349551320075989,4.217275619506836,4.4434638023376465,5.2966790199279785,3.234377145767212,-3.7574081420898438,4.7189412117004395,4.708615303039551,0.9001966118812561,0.8437199592590332,2.3100578784942627,4.022657871246338,1.5295557975769043,0.9664218425750732,4.119178295135498,1.384631872177124,5.250728607177734,0.40799444913864136,1.897936463356018,3.650040626525879,5.0934953689575195,4.589654922485352,4.698423385620117,3.9260103702545166,4.478692054748535,0.6692028045654297,0.9237302541732788,0.827495276927948,3.1688637733459473,0.5778772234916687,4.013064384460449,1.745417594909668,0.6195011138916016,1.4866584539413452,3.664005756378174,1.67223060131073,0.6327683329582214,4.014578342437744,-3.0380005836486816,-3.9253642559051514,2.2004103660583496,-1.478942632675171,-1.302626609802246,-1.314070224761963,-3.372263193130493,-4.91535758972168,-3.4626505374908447,-5.035353183746338,-3.3310208320617676,-1.4354411363601685,-2.8805437088012695,-2.8410229682922363,-1.4520471096038818,-2.3091816902160645,-1.4299496412277222,-1.3082289695739746,-3.3627710342407227,-2.802133321762085,-3.5765581130981445,-2.8562204837799072,-1.3569914102554321,-2.6458864212036133,-2.8800437450408936,-1.3575440645217896,-1.1086705923080444,-3.4973137378692627,-2.8405840396881104,-5.213114261627197,-1.2407951354980469,-2.421140193939209,-3.3567943572998047,-2.7535364627838135,-2.9288363456726074,-3.215039014816284,-2.7955331802368164],\"y\":[6.916234016418457,7.178987979888916,7.365792751312256,5.746453285217285,5.623847007751465,3.201906442642212,4.349912643432617,5.632138729095459,3.77293062210083,4.741161823272705,4.867753982543945,4.7898054122924805,5.620880126953125,4.505365371704102,5.540151596069336,4.568020343780518,5.5420331954956055,4.550937175750732,5.104578495025635,3.7504525184631348,5.68528413772583,5.952657699584961,4.73873233795166,3.92850923538208,4.696128845214844,3.789959669113159,4.484922885894775,5.659416198730469,4.31154203414917,4.140049934387207,4.991704940795898,3.936798572540283,3.330919027328491,4.156832695007324,4.611109256744385,4.240787506103516,5.679121494293213,7.02429723739624,3.3931195735931396,3.505246639251709,5.310375690460205,3.7198920249938965,5.203969478607178,5.658763885498047,5.325093746185303,4.94076681137085,4.743553161621094,3.807548999786377,5.675837993621826,4.868428707122803,6.5196614265441895,4.572027683258057,5.3927459716796875,4.885606288909912,5.376251220703125,4.626077651977539,5.01295280456543,5.2971720695495605,3.7878875732421875,3.7373669147491455,3.9375548362731934,4.789917945861816,5.242121696472168,4.865166187286377,3.7207882404327393,5.847560405731201,4.828915596008301,4.031801223754883,4.145968437194824,4.7412590980529785,3.5380845069885254,4.024284839630127,4.577581882476807,3.779825448989868,4.994912624359131,4.555642127990723,4.928587913513184,3.0776021480560303,4.963403701782227,4.468379497528076,3.6996402740478516,4.856403350830078,3.851694107055664,3.116267204284668,4.727487087249756,5.974720478057861,3.8241217136383057,3.5947928428649902,6.222949028015137,3.1246700286865234,4.8838396072387695,3.137693166732788,2.3465077877044678,2.2294845581054688,4.996026992797852,4.594963550567627,4.824925899505615,5.933614253997803,5.547008991241455,4.759878158569336,4.62368631362915,3.9310247898101807,4.340206146240234,4.554508209228516,4.907591342926025,5.589346885681152,3.8493154048919678,4.326651573181152,4.459863662719727,5.281968116760254,3.9222025871276855,2.2047863006591797,2.899534225463867,3.804208517074585,2.13570237159729,4.055558204650879,3.2983884811401367,3.96869158744812,2.979468822479248,5.600998878479004,5.608402729034424,2.655080556869507,3.2109596729278564,4.328463077545166,3.8655784130096436,3.923454999923706,4.447073459625244,3.9399333000183105,3.007751941680908,4.202698707580566,3.9441475868225098,4.006445407867432,3.139090061187744,3.7704477310180664,2.143385648727417,4.571610450744629,4.025382041931152,2.119814395904541,5.326414585113525,6.145197868347168,6.109437465667725,4.60537052154541,3.9068119525909424,4.922142028808594,1.8890717029571533,5.32940149307251,2.3143093585968018,3.585736036300659,5.264379024505615,3.1053314208984375,4.7942328453063965,2.491715669631958,2.6980056762695312,4.8505120277404785,2.281470537185669,4.875961780548096,4.827083110809326,3.5827949047088623,4.629934310913086,3.3567235469818115,4.924635887145996,4.363974571228027,2.7467191219329834,6.687984466552734,4.61212682723999,2.2141225337982178,4.858003616333008,3.637371778488159,4.9241132736206055,4.4952168464660645,4.2915167808532715,3.69134521484375,4.166531085968018,4.603812217712402,4.193550109863281,4.245450973510742,3.3328089714050293,4.877505302429199,4.73859977722168,3.1940884590148926,4.854868412017822,5.256587028503418,2.085651397705078,2.355010986328125,6.732632160186768,4.859394073486328,5.877059459686279,6.3264312744140625,4.774502277374268,6.284933567047119,5.078797817230225,4.8380327224731445,3.155240058898926,3.624382734298706,6.206599235534668,3.6823840141296387,2.777468204498291,3.899616241455078,3.540081024169922,3.8863813877105713,5.15291690826416,3.8306870460510254,6.238949775695801,6.37154483795166,6.440371990203857,6.300934791564941,6.215742111206055,5.586309909820557,3.0443978309631348,4.9099440574646,5.201892852783203,5.047584533691406,4.334600448608398,5.224313259124756,6.909628868103027,3.9146811962127686,2.276860237121582,2.171567440032959,2.131425142288208,5.390460014343262,5.692660331726074,4.891201019287109,2.1553571224212646,4.7319440841674805,4.656904697418213,4.084314823150635,4.880661964416504,6.308767318725586,5.286890506744385,3.060211420059204,5.412781238555908,3.6801669597625732,2.988433599472046,2.28788423538208,2.1377763748168945,6.340207576751709,3.833684206008911,2.195615530014038,4.787076950073242,4.58486795425415,5.093306064605713,5.957076549530029,4.2495927810668945,3.8082423210144043,5.288625717163086,4.503518581390381,4.417714595794678,4.894545078277588,4.7818427085876465,4.53554105758667,5.389254570007324,4.8015336990356445,3.8200552463531494,3.8276495933532715,3.036897659301758,2.4051637649536133,2.3676650524139404,4.622419357299805,3.629835605621338,3.9288954734802246,4.927945613861084,3.7380499839782715,3.7680299282073975,3.933769941329956,5.302022933959961,3.306138277053833,5.875498294830322,7.426364421844482,6.5174713134765625,4.197403430938721,4.684083461761475,6.26266622543335,6.149403095245361,7.319612979888916,6.633940696716309,6.575763702392578,5.6525726318359375,3.9268276691436768,6.32492208480835,5.40777587890625,6.262179851531982,5.679790019989014,6.116849422454834,6.281291961669922,5.621264457702637,5.671463966369629,5.412581920623779,7.328118801116943,5.528505325317383,5.641568183898926,2.742785930633545,6.243152618408203,5.1750807762146,4.998558044433594,5.045564651489258,2.28398060798645,6.922454357147217,2.8355093002319336,2.1649117469787598,5.425620079040527,4.934409141540527,4.493818283081055,6.153356552124023,5.374975681304932,6.28462553024292,5.5935869216918945,5.784926891326904,4.43490743637085,6.400734901428223,6.835287570953369,6.247378826141357,2.061591625213623,6.682413101196289,6.255295753479004,6.275264739990234,5.547049045562744,5.848868370056152,5.041611194610596,5.3047895431518555,5.501721382141113,6.961490631103516,4.851672172546387,5.9430251121521,5.242005825042725,5.484702110290527,5.904514312744141,4.519174575805664,7.44945764541626,4.13369607925415,5.374834060668945,5.505176067352295,5.873347282409668,5.871579170227051,5.947528839111328,6.03087854385376,4.755980491638184,5.441545486450195,5.077128887176514,4.776216506958008,3.2807185649871826,5.448886871337891,4.850462913513184,5.471299171447754,4.724009990692139,7.336604118347168,4.703023910522461,4.774860858917236,2.2831602096557617,5.8012824058532715,2.1903717517852783,5.35815954208374,5.4286417961120605,4.675673961639404,4.472827911376953,4.830972671508789,6.566745281219482,4.872637748718262,5.293519020080566,5.408654689788818,3.2535364627838135,4.847056865692139,4.981165885925293,4.842705249786377,2.7912681102752686,4.920475006103516,3.1270902156829834,1.8343979120254517,5.89038610458374,3.0070059299468994,4.627035617828369,6.552674770355225,6.470736026763916,6.469331741333008,3.240145683288574,5.42680549621582,6.726036071777344,6.185183525085449,6.3747687339782715,2.544403314590454,6.190274238586426,6.418067455291748,6.1121826171875,6.3215508460998535,6.4576311111450195,6.260327339172363,6.224049091339111,6.380956172943115,6.3304033279418945,6.247962474822998,6.362532138824463,6.266875267028809,4.156251430511475,2.3918676376342773,6.13997220993042,6.197097301483154,6.124612331390381,6.153903007507324,4.684867858886719,5.414534091949463,6.430922508239746,5.788403034210205,5.555479526519775,4.498761177062988,4.187389373779297,5.026708126068115,3.426877498626709,4.038047790527344,4.3385725021362305,4.0135016441345215,6.146285057067871,3.3180668354034424,5.251091480255127,6.364994525909424,4.611534595489502,3.8636269569396973,4.298898696899414,5.0071797370910645,4.399233341217041,3.634239673614502,4.678629398345947,6.423484802246094,4.13753080368042,5.536238193511963,6.630253314971924,6.246260643005371,3.4477221965789795,6.4546380043029785,2.632639169692993,3.499293327331543,4.412164211273193,4.492458820343018,5.484589099884033,4.8787312507629395,7.321577072143555,4.784499645233154,4.914817810058594,4.98516845703125,3.0117223262786865,5.969997406005859,2.2944185733795166,3.8169569969177246,4.541146278381348,4.834868431091309,4.867130279541016,5.332389831542969,2.1513266563415527,4.927113056182861,7.203609466552734,3.675227642059326,2.27341890335083,3.8877084255218506,3.5520074367523193,2.2805099487304688,4.801529407501221,3.5622591972351074,3.9611337184906006,2.8823060989379883,4.830146312713623,5.036348819732666,5.186529636383057,3.6818366050720215,4.514926910400391,2.24625825881958,4.744157791137695,4.060327529907227,6.508867263793945,2.172865390777588,2.2166712284088135,5.256489276885986,4.354261875152588,5.997366428375244,4.9415669441223145,2.9718804359436035,5.436866760253906,4.692611217498779,5.316671371459961,5.331969738006592,2.891923427581787,4.610984802246094,2.847256660461426,4.303452491760254,3.123384952545166,3.0161633491516113,5.380117416381836,7.394721031188965,4.034595012664795,2.720324993133545,3.0970189571380615,4.011592864990234,3.3195302486419678,3.676584482192993,3.5572497844696045,2.8161120414733887,7.115444660186768,3.4684574604034424,5.533438682556152,5.228507041931152,6.223479270935059,5.484663486480713,5.79940128326416,5.582751274108887,6.935546398162842,6.098564147949219,6.7018141746521,5.569128513336182,4.587879657745361,5.778329849243164,5.292686939239502,6.947170257568359,5.664266109466553,7.165663719177246,6.011318206787109,6.928743839263916,6.757269382476807,6.173288822174072,6.959402561187744,5.701189041137695,5.986973285675049,5.591053009033203,6.011760234832764,5.649592876434326,4.639255523681641,6.548343181610107,5.698747634887695,6.01604700088501,5.562290668487549,5.885720729827881,5.85024356842041,5.49013614654541,5.768019199371338,6.386620998382568,6.127098560333252,6.794919013977051,6.098384857177734,4.728235721588135,4.565160751342773,6.466813087463379,6.084376335144043,5.665335178375244,6.163519382476807,6.055495738983154,6.41220760345459,6.1936564445495605,6.312124252319336,5.347078323364258,5.992645263671875,5.096848964691162,6.190007209777832,4.383216381072998,2.546319007873535,2.2660326957702637,5.291006565093994,5.792858123779297,5.875843048095703,5.186507225036621,7.209062576293945,4.363619327545166,7.032535552978516,4.8879218101501465,5.494020938873291,6.19338846206665,6.15238094329834,6.192535877227783,6.096524238586426,4.981227397918701,4.182525634765625,6.86322546005249,4.564856052398682,2.2272145748138428,5.3201069831848145,6.50481653213501,6.336742401123047,5.789285182952881,5.263818740844727,4.364759922027588,5.107756614685059,6.23663854598999,4.718601226806641,7.037669658660889,5.002993106842041,2.100135087966919,4.737520217895508,5.350916385650635,5.288332939147949,5.1522932052612305,3.927131175994873,2.2702431678771973,5.160294055938721,5.30124568939209,6.8590087890625,5.090923309326172,5.595000743865967,5.684911727905273,6.951267242431641,2.4886388778686523,2.8204052448272705,5.2860517501831055,5.091681480407715,4.629091739654541,1.7766648530960083,6.239593505859375,4.154366970062256,5.966602325439453,5.996499538421631,3.996861457824707,5.072048187255859,6.072184085845947,6.028557300567627,6.029238700866699,4.096129894256592,2.935952663421631,4.423882484436035,3.6957123279571533,6.210585594177246,3.826718330383301,3.7338273525238037,3.2884151935577393,5.5959672927856445,2.7018070220947266,6.214230537414551,3.6679024696350098,4.957822322845459,4.052908897399902,5.233938217163086,6.063945770263672,6.418454170227051,5.085396766662598,5.6225128173828125,6.183058261871338,3.435345411300659,4.980552673339844,3.0369648933410645,5.4919562339782715,3.9644775390625,5.493800640106201,4.058408260345459,3.8974716663360596,4.858156204223633,5.547534942626953,4.7876410484313965,5.941811561584473,5.310754299163818,5.488319396972656,6.357778549194336,4.100423812866211,4.992061614990234,4.823514938354492,4.0282392501831055,3.49991774559021,5.3860297203063965,4.965287208557129,6.098231792449951,3.7304234504699707,4.005279541015625,6.717434883117676,4.866547584533691,5.905429840087891,4.50593900680542,5.094179630279541,5.574519157409668,4.987290382385254,6.055976867675781,6.024294853210449,2.6663169860839844,6.868739128112793,3.2663345336914062,3.9870617389678955,6.04823637008667,5.042139053344727,5.166962146759033,5.844736576080322,3.866690158843994,3.8826088905334473,4.476470470428467,4.681473255157471,4.9682841300964355,6.251139163970947,7.302973747253418,3.7456014156341553,3.8790130615234375,2.6236255168914795,4.487600803375244,5.792661190032959,5.076010227203369,3.6503162384033203,2.71748685836792,4.51488733291626,5.286710262298584,5.3059515953063965,3.878021717071533,5.012123107910156,6.187854290008545,3.485332727432251,2.9733312129974365,3.093637466430664,5.5756611824035645,5.537664413452148,6.424789905548096,4.544070243835449,4.755312919616699,6.448184967041016,5.576496601104736,4.871179103851318,4.842889308929443,4.905889987945557,4.484333515167236,2.7058067321777344,5.487309455871582,3.983307361602783,4.362881183624268,4.198800086975098,5.360965728759766,5.3000874519348145,6.147143840789795,5.09409761428833,5.5307297706604,4.80802059173584,3.7787561416625977,6.392271995544434,6.431111812591553,4.523022174835205,4.295846462249756,4.116776466369629,5.78510856628418,4.548773765563965,5.943463325500488,5.298591613769531,6.327582836151123,5.809256553649902,3.0275497436523438,4.625525951385498,3.5827250480651855,4.928677082061768,5.353551387786865,4.561736106872559,3.758610963821411,4.04946231842041,3.595073938369751,5.245325088500977,3.2610247135162354,5.19759464263916,4.123900890350342,4.474318504333496,4.0501389503479,4.0642547607421875,3.690908670425415,5.807264804840088,7.071314334869385,4.826470851898193,4.376272678375244,4.738988876342773,4.589381217956543,4.412320137023926,5.605047702789307,3.85701584815979,5.421608924865723,4.965575218200684,6.993502140045166,5.256176948547363,3.801622152328491,5.668237209320068,4.477809429168701,3.815096616744995,6.389565467834473,4.781508922576904,7.287457466125488,5.097393989562988,5.461757183074951,6.25747013092041,4.869422435760498,6.152663230895996,5.829398155212402,5.661557674407959,3.9259884357452393,2.6477057933807373,4.54535436630249,5.581532955169678,3.6505274772644043,3.73044490814209,4.401888847351074,4.320594787597656,6.2487053871154785,3.8190360069274902,4.329140663146973,4.764481544494629,4.8188886642456055,6.035133361816406,4.362377166748047,6.239252090454102,5.832531929016113,4.8295512199401855,2.668006420135498,4.366464614868164,5.000532627105713,4.441837787628174,6.228013515472412,4.000339031219482,4.066181182861328,3.5212137699127197,5.445558071136475,4.07552433013916,4.3881635665893555,4.817498683929443,5.92145299911499,4.484887599945068,5.35809850692749,6.027960777282715,3.929884910583496,3.7604568004608154,2.813105821609497,5.371314525604248,2.3115081787109375,5.154545783996582,2.6888651847839355,6.9417500495910645,1.7291120290756226,1.6791588068008423,5.208677291870117,2.7436697483062744,6.103893280029297,3.8510048389434814,1.7542579174041748,2.8072352409362793,2.2594919204711914,1.8015085458755493,3.7210662364959717,1.963479995727539,1.7777093648910522,3.777515411376953,7.441430568695068,2.2957634925842285,1.984689474105835,4.960231781005859,4.050913333892822,3.8607590198516846,2.0660388469696045,1.8471812009811401,1.8282389640808105,1.9731825590133667,1.6933521032333374],\"type\":\"scatter\"}],                        {\"template\":{\"data\":{\"histogram2dcontour\":[{\"type\":\"histogram2dcontour\",\"colorbar\":{\"outlinewidth\":0,\"ticks\":\"\"},\"colorscale\":[[0.0,\"#0d0887\"],[0.1111111111111111,\"#46039f\"],[0.2222222222222222,\"#7201a8\"],[0.3333333333333333,\"#9c179e\"],[0.4444444444444444,\"#bd3786\"],[0.5555555555555556,\"#d8576b\"],[0.6666666666666666,\"#ed7953\"],[0.7777777777777778,\"#fb9f3a\"],[0.8888888888888888,\"#fdca26\"],[1.0,\"#f0f921\"]]}],\"choropleth\":[{\"type\":\"choropleth\",\"colorbar\":{\"outlinewidth\":0,\"ticks\":\"\"}}],\"histogram2d\":[{\"type\":\"histogram2d\",\"colorbar\":{\"outlinewidth\":0,\"ticks\":\"\"},\"colorscale\":[[0.0,\"#0d0887\"],[0.1111111111111111,\"#46039f\"],[0.2222222222222222,\"#7201a8\"],[0.3333333333333333,\"#9c179e\"],[0.4444444444444444,\"#bd3786\"],[0.5555555555555556,\"#d8576b\"],[0.6666666666666666,\"#ed7953\"],[0.7777777777777778,\"#fb9f3a\"],[0.8888888888888888,\"#fdca26\"],[1.0,\"#f0f921\"]]}],\"heatmap\":[{\"type\":\"heatmap\",\"colorbar\":{\"outlinewidth\":0,\"ticks\":\"\"},\"colorscale\":[[0.0,\"#0d0887\"],[0.1111111111111111,\"#46039f\"],[0.2222222222222222,\"#7201a8\"],[0.3333333333333333,\"#9c179e\"],[0.4444444444444444,\"#bd3786\"],[0.5555555555555556,\"#d8576b\"],[0.6666666666666666,\"#ed7953\"],[0.7777777777777778,\"#fb9f3a\"],[0.8888888888888888,\"#fdca26\"],[1.0,\"#f0f921\"]]}],\"heatmapgl\":[{\"type\":\"heatmapgl\",\"colorbar\":{\"outlinewidth\":0,\"ticks\":\"\"},\"colorscale\":[[0.0,\"#0d0887\"],[0.1111111111111111,\"#46039f\"],[0.2222222222222222,\"#7201a8\"],[0.3333333333333333,\"#9c179e\"],[0.4444444444444444,\"#bd3786\"],[0.5555555555555556,\"#d8576b\"],[0.6666666666666666,\"#ed7953\"],[0.7777777777777778,\"#fb9f3a\"],[0.8888888888888888,\"#fdca26\"],[1.0,\"#f0f921\"]]}],\"contourcarpet\":[{\"type\":\"contourcarpet\",\"colorbar\":{\"outlinewidth\":0,\"ticks\":\"\"}}],\"contour\":[{\"type\":\"contour\",\"colorbar\":{\"outlinewidth\":0,\"ticks\":\"\"},\"colorscale\":[[0.0,\"#0d0887\"],[0.1111111111111111,\"#46039f\"],[0.2222222222222222,\"#7201a8\"],[0.3333333333333333,\"#9c179e\"],[0.4444444444444444,\"#bd3786\"],[0.5555555555555556,\"#d8576b\"],[0.6666666666666666,\"#ed7953\"],[0.7777777777777778,\"#fb9f3a\"],[0.8888888888888888,\"#fdca26\"],[1.0,\"#f0f921\"]]}],\"surface\":[{\"type\":\"surface\",\"colorbar\":{\"outlinewidth\":0,\"ticks\":\"\"},\"colorscale\":[[0.0,\"#0d0887\"],[0.1111111111111111,\"#46039f\"],[0.2222222222222222,\"#7201a8\"],[0.3333333333333333,\"#9c179e\"],[0.4444444444444444,\"#bd3786\"],[0.5555555555555556,\"#d8576b\"],[0.6666666666666666,\"#ed7953\"],[0.7777777777777778,\"#fb9f3a\"],[0.8888888888888888,\"#fdca26\"],[1.0,\"#f0f921\"]]}],\"mesh3d\":[{\"type\":\"mesh3d\",\"colorbar\":{\"outlinewidth\":0,\"ticks\":\"\"}}],\"scatter\":[{\"fillpattern\":{\"fillmode\":\"overlay\",\"size\":10,\"solidity\":0.2},\"type\":\"scatter\"}],\"parcoords\":[{\"type\":\"parcoords\",\"line\":{\"colorbar\":{\"outlinewidth\":0,\"ticks\":\"\"}}}],\"scatterpolargl\":[{\"type\":\"scatterpolargl\",\"marker\":{\"colorbar\":{\"outlinewidth\":0,\"ticks\":\"\"}}}],\"bar\":[{\"error_x\":{\"color\":\"#2a3f5f\"},\"error_y\":{\"color\":\"#2a3f5f\"},\"marker\":{\"line\":{\"color\":\"#E5ECF6\",\"width\":0.5},\"pattern\":{\"fillmode\":\"overlay\",\"size\":10,\"solidity\":0.2}},\"type\":\"bar\"}],\"scattergeo\":[{\"type\":\"scattergeo\",\"marker\":{\"colorbar\":{\"outlinewidth\":0,\"ticks\":\"\"}}}],\"scatterpolar\":[{\"type\":\"scatterpolar\",\"marker\":{\"colorbar\":{\"outlinewidth\":0,\"ticks\":\"\"}}}],\"histogram\":[{\"marker\":{\"pattern\":{\"fillmode\":\"overlay\",\"size\":10,\"solidity\":0.2}},\"type\":\"histogram\"}],\"scattergl\":[{\"type\":\"scattergl\",\"marker\":{\"colorbar\":{\"outlinewidth\":0,\"ticks\":\"\"}}}],\"scatter3d\":[{\"type\":\"scatter3d\",\"line\":{\"colorbar\":{\"outlinewidth\":0,\"ticks\":\"\"}},\"marker\":{\"colorbar\":{\"outlinewidth\":0,\"ticks\":\"\"}}}],\"scattermapbox\":[{\"type\":\"scattermapbox\",\"marker\":{\"colorbar\":{\"outlinewidth\":0,\"ticks\":\"\"}}}],\"scatterternary\":[{\"type\":\"scatterternary\",\"marker\":{\"colorbar\":{\"outlinewidth\":0,\"ticks\":\"\"}}}],\"scattercarpet\":[{\"type\":\"scattercarpet\",\"marker\":{\"colorbar\":{\"outlinewidth\":0,\"ticks\":\"\"}}}],\"carpet\":[{\"aaxis\":{\"endlinecolor\":\"#2a3f5f\",\"gridcolor\":\"white\",\"linecolor\":\"white\",\"minorgridcolor\":\"white\",\"startlinecolor\":\"#2a3f5f\"},\"baxis\":{\"endlinecolor\":\"#2a3f5f\",\"gridcolor\":\"white\",\"linecolor\":\"white\",\"minorgridcolor\":\"white\",\"startlinecolor\":\"#2a3f5f\"},\"type\":\"carpet\"}],\"table\":[{\"cells\":{\"fill\":{\"color\":\"#EBF0F8\"},\"line\":{\"color\":\"white\"}},\"header\":{\"fill\":{\"color\":\"#C8D4E3\"},\"line\":{\"color\":\"white\"}},\"type\":\"table\"}],\"barpolar\":[{\"marker\":{\"line\":{\"color\":\"#E5ECF6\",\"width\":0.5},\"pattern\":{\"fillmode\":\"overlay\",\"size\":10,\"solidity\":0.2}},\"type\":\"barpolar\"}],\"pie\":[{\"automargin\":true,\"type\":\"pie\"}]},\"layout\":{\"autotypenumbers\":\"strict\",\"colorway\":[\"#636efa\",\"#EF553B\",\"#00cc96\",\"#ab63fa\",\"#FFA15A\",\"#19d3f3\",\"#FF6692\",\"#B6E880\",\"#FF97FF\",\"#FECB52\"],\"font\":{\"color\":\"#2a3f5f\"},\"hovermode\":\"closest\",\"hoverlabel\":{\"align\":\"left\"},\"paper_bgcolor\":\"white\",\"plot_bgcolor\":\"#E5ECF6\",\"polar\":{\"bgcolor\":\"#E5ECF6\",\"angularaxis\":{\"gridcolor\":\"white\",\"linecolor\":\"white\",\"ticks\":\"\"},\"radialaxis\":{\"gridcolor\":\"white\",\"linecolor\":\"white\",\"ticks\":\"\"}},\"ternary\":{\"bgcolor\":\"#E5ECF6\",\"aaxis\":{\"gridcolor\":\"white\",\"linecolor\":\"white\",\"ticks\":\"\"},\"baxis\":{\"gridcolor\":\"white\",\"linecolor\":\"white\",\"ticks\":\"\"},\"caxis\":{\"gridcolor\":\"white\",\"linecolor\":\"white\",\"ticks\":\"\"}},\"coloraxis\":{\"colorbar\":{\"outlinewidth\":0,\"ticks\":\"\"}},\"colorscale\":{\"sequential\":[[0.0,\"#0d0887\"],[0.1111111111111111,\"#46039f\"],[0.2222222222222222,\"#7201a8\"],[0.3333333333333333,\"#9c179e\"],[0.4444444444444444,\"#bd3786\"],[0.5555555555555556,\"#d8576b\"],[0.6666666666666666,\"#ed7953\"],[0.7777777777777778,\"#fb9f3a\"],[0.8888888888888888,\"#fdca26\"],[1.0,\"#f0f921\"]],\"sequentialminus\":[[0.0,\"#0d0887\"],[0.1111111111111111,\"#46039f\"],[0.2222222222222222,\"#7201a8\"],[0.3333333333333333,\"#9c179e\"],[0.4444444444444444,\"#bd3786\"],[0.5555555555555556,\"#d8576b\"],[0.6666666666666666,\"#ed7953\"],[0.7777777777777778,\"#fb9f3a\"],[0.8888888888888888,\"#fdca26\"],[1.0,\"#f0f921\"]],\"diverging\":[[0,\"#8e0152\"],[0.1,\"#c51b7d\"],[0.2,\"#de77ae\"],[0.3,\"#f1b6da\"],[0.4,\"#fde0ef\"],[0.5,\"#f7f7f7\"],[0.6,\"#e6f5d0\"],[0.7,\"#b8e186\"],[0.8,\"#7fbc41\"],[0.9,\"#4d9221\"],[1,\"#276419\"]]},\"xaxis\":{\"gridcolor\":\"white\",\"linecolor\":\"white\",\"ticks\":\"\",\"title\":{\"standoff\":15},\"zerolinecolor\":\"white\",\"automargin\":true,\"zerolinewidth\":2},\"yaxis\":{\"gridcolor\":\"white\",\"linecolor\":\"white\",\"ticks\":\"\",\"title\":{\"standoff\":15},\"zerolinecolor\":\"white\",\"automargin\":true,\"zerolinewidth\":2},\"scene\":{\"xaxis\":{\"backgroundcolor\":\"#E5ECF6\",\"gridcolor\":\"white\",\"linecolor\":\"white\",\"showbackground\":true,\"ticks\":\"\",\"zerolinecolor\":\"white\",\"gridwidth\":2},\"yaxis\":{\"backgroundcolor\":\"#E5ECF6\",\"gridcolor\":\"white\",\"linecolor\":\"white\",\"showbackground\":true,\"ticks\":\"\",\"zerolinecolor\":\"white\",\"gridwidth\":2},\"zaxis\":{\"backgroundcolor\":\"#E5ECF6\",\"gridcolor\":\"white\",\"linecolor\":\"white\",\"showbackground\":true,\"ticks\":\"\",\"zerolinecolor\":\"white\",\"gridwidth\":2}},\"shapedefaults\":{\"line\":{\"color\":\"#2a3f5f\"}},\"annotationdefaults\":{\"arrowcolor\":\"#2a3f5f\",\"arrowhead\":0,\"arrowwidth\":1},\"geo\":{\"bgcolor\":\"white\",\"landcolor\":\"#E5ECF6\",\"subunitcolor\":\"white\",\"showland\":true,\"showlakes\":true,\"lakecolor\":\"white\"},\"title\":{\"x\":0.05},\"mapbox\":{\"style\":\"light\"}}}},                        {\"responsive\": true}                    ).then(function(){\n",
              "                            \n",
              "var gd = document.getElementById('2d5ee608-be03-4775-bd05-2702b8f578ef');\n",
              "var x = new MutationObserver(function (mutations, observer) {{\n",
              "        var display = window.getComputedStyle(gd).display;\n",
              "        if (!display || display === 'none') {{\n",
              "            console.log([gd, 'removed!']);\n",
              "            Plotly.purge(gd);\n",
              "            observer.disconnect();\n",
              "        }}\n",
              "}});\n",
              "\n",
              "// Listen for the removal of the full notebook cells\n",
              "var notebookContainer = gd.closest('#notebook-container');\n",
              "if (notebookContainer) {{\n",
              "    x.observe(notebookContainer, {childList: true});\n",
              "}}\n",
              "\n",
              "// Listen for the clearing of the current output cell\n",
              "var outputEl = gd.closest('.output');\n",
              "if (outputEl) {{\n",
              "    x.observe(outputEl, {childList: true});\n",
              "}}\n",
              "\n",
              "                        })                };                            </script>        </div>\n",
              "</body>\n",
              "</html>"
            ]
          },
          "metadata": {}
        }
      ]
    },
    {
      "cell_type": "code",
      "source": [
        "# Calculate the number of data points in each cluster\n",
        "cluster_counts = np.bincount(cluster_labels)\n",
        "\n",
        "# Print the number of data points in each cluster\n",
        "print(cluster_counts)\n"
      ],
      "metadata": {
        "colab": {
          "base_uri": "https://localhost:8080/"
        },
        "id": "NPD0FmPIgSRV",
        "outputId": "45b029b0-0428-436e-eccd-fd1cc8460499"
      },
      "execution_count": null,
      "outputs": [
        {
          "output_type": "stream",
          "name": "stdout",
          "text": [
            "[156 206 117 179 182]\n"
          ]
        }
      ]
    },
    {
      "cell_type": "code",
      "source": [
        "#calculate silhuette score (Spectral Clustering) for umap_embeddings\n",
        "\n",
        "from sklearn.metrics import silhouette_score\n",
        "\n",
        "silhouette_avg = silhouette_score(umap_embeddings, cluster_labels)\n",
        "\n",
        "print(\"The average silhouette_score is :\", silhouette_avg)\n"
      ],
      "metadata": {
        "colab": {
          "base_uri": "https://localhost:8080/"
        },
        "id": "NKJEi1xOCP_4",
        "outputId": "7cff3fb2-22af-4630-e3cf-bb1970d6cfe5"
      },
      "execution_count": null,
      "outputs": [
        {
          "output_type": "stream",
          "name": "stdout",
          "text": [
            "The average silhouette_score is : 0.5335624\n"
          ]
        }
      ]
    },
    {
      "cell_type": "code",
      "source": [
        "#Elbow curve(Kmeans) for umap_embeddings\n",
        "\n",
        "from sklearn.cluster import KMeans\n",
        "import matplotlib.pyplot as plt\n",
        "\n",
        "wcss = []\n",
        "\n",
        "for i in range(1, 11):\n",
        "  kmeans = KMeans(n_clusters=i, n_init=10, random_state=0)\n",
        "  kmeans.fit(umap_embeddings)\n",
        "  wcss.append(kmeans.inertia_)\n",
        "\n",
        "plt.plot(range(1, 11), wcss)\n",
        "plt.title('Elbow Method')\n",
        "plt.xlabel('Number of clusters')\n",
        "plt.ylabel('WCSS')\n",
        "plt.show()\n"
      ],
      "metadata": {
        "colab": {
          "base_uri": "https://localhost:8080/",
          "height": 472
        },
        "id": "1513md1tDZRM",
        "outputId": "6619a974-103f-47d6-952f-f116df043a76"
      },
      "execution_count": null,
      "outputs": [
        {
          "output_type": "display_data",
          "data": {
            "text/plain": [
              "<Figure size 640x480 with 1 Axes>"
            ],
            "image/png": "[encoded data removed]"
          },
          "metadata": {}
        }
      ]
    },
    {
      "cell_type": "code",
      "source": [
        "\n",
        "# Calculate silhouette score for each number of clusters(K means) for umap_embeddings\n",
        "silhouette_scores = []\n",
        "for n_clusters in range(2, 10):\n",
        "    kmeans = KMeans(n_clusters=n_clusters)\n",
        "    kmeans.fit(umap_embeddings)\n",
        "    silhouette_scores.append(silhouette_score(umap_embeddings, kmeans.labels_))\n",
        "\n",
        "# Plot silhouette score vs number of clusters\n",
        "plt.plot(range(2, 10), silhouette_scores)\n",
        "plt.xlabel('Number of Clusters')\n",
        "plt.ylabel('Silhouette Score')\n",
        "plt.title('Silhouette Score vs Number of Clusters')\n",
        "plt.show()"
      ],
      "metadata": {
        "colab": {
          "base_uri": "https://localhost:8080/",
          "height": 1000
        },
        "id": "tqqXxUlqeZgx",
        "outputId": "ae23a7ad-185a-4659-8cbe-55a40c350f21"
      },
      "execution_count": null,
      "outputs": [
        {
          "output_type": "stream",
          "name": "stderr",
          "text": [
            "/usr/local/lib/python3.10/dist-packages/sklearn/cluster/_kmeans.py:870: FutureWarning:\n",
            "\n",
            "The default value of `n_init` will change from 10 to 'auto' in 1.4. Set the value of `n_init` explicitly to suppress the warning\n",
            "\n",
            "/usr/local/lib/python3.10/dist-packages/sklearn/cluster/_kmeans.py:870: FutureWarning:\n",
            "\n",
            "The default value of `n_init` will change from 10 to 'auto' in 1.4. Set the value of `n_init` explicitly to suppress the warning\n",
            "\n",
            "/usr/local/lib/python3.10/dist-packages/sklearn/cluster/_kmeans.py:870: FutureWarning:\n",
            "\n",
            "The default value of `n_init` will change from 10 to 'auto' in 1.4. Set the value of `n_init` explicitly to suppress the warning\n",
            "\n",
            "/usr/local/lib/python3.10/dist-packages/sklearn/cluster/_kmeans.py:870: FutureWarning:\n",
            "\n",
            "The default value of `n_init` will change from 10 to 'auto' in 1.4. Set the value of `n_init` explicitly to suppress the warning\n",
            "\n",
            "/usr/local/lib/python3.10/dist-packages/sklearn/cluster/_kmeans.py:870: FutureWarning:\n",
            "\n",
            "The default value of `n_init` will change from 10 to 'auto' in 1.4. Set the value of `n_init` explicitly to suppress the warning\n",
            "\n",
            "/usr/local/lib/python3.10/dist-packages/sklearn/cluster/_kmeans.py:870: FutureWarning:\n",
            "\n",
            "The default value of `n_init` will change from 10 to 'auto' in 1.4. Set the value of `n_init` explicitly to suppress the warning\n",
            "\n",
            "/usr/local/lib/python3.10/dist-packages/sklearn/cluster/_kmeans.py:870: FutureWarning:\n",
            "\n",
            "The default value of `n_init` will change from 10 to 'auto' in 1.4. Set the value of `n_init` explicitly to suppress the warning\n",
            "\n",
            "/usr/local/lib/python3.10/dist-packages/sklearn/cluster/_kmeans.py:870: FutureWarning:\n",
            "\n",
            "The default value of `n_init` will change from 10 to 'auto' in 1.4. Set the value of `n_init` explicitly to suppress the warning\n",
            "\n"
          ]
        },
        {
          "output_type": "display_data",
          "data": {
            "text/plain": [
              "<Figure size 640x480 with 1 Axes>"
            ],
            "image/png": "[encoded data removed]"
          },
          "metadata": {}
        }
      ]
    },
    {
      "cell_type": "code",
      "source": [
        "\n",
        "# KMeans on umap_embeddings\n",
        "kmeans = KMeans(n_clusters=5)\n",
        "kmeans.fit(umap_embeddings)\n",
        "\n",
        "# Create a scatter plot using plotly\n",
        "fig = go.Figure(data=[go.Scatter(x=umap_embeddings[:, 0], y=umap_embeddings[:, 1],\n",
        "                               mode='markers',\n",
        "                               marker=dict(\n",
        "                                   size=12,\n",
        "                                   color=kmeans.labels_,                # set color to an array/list of desired values\n",
        "                                   colorscale='Viridis',   # choose a colorscale\n",
        "                                   opacity=0.8\n",
        "                               )\n",
        "                              )])\n",
        "\n",
        "fig.show()\n"
      ],
      "metadata": {
        "colab": {
          "base_uri": "https://localhost:8080/",
          "height": 615
        },
        "id": "ToiJa3LKD9wZ",
        "outputId": "773c3061-330c-442e-9b68-a9d4ce904147"
      },
      "execution_count": null,
      "outputs": [
        {
          "output_type": "stream",
          "name": "stderr",
          "text": [
            "/usr/local/lib/python3.10/dist-packages/sklearn/cluster/_kmeans.py:870: FutureWarning:\n",
            "\n",
            "The default value of `n_init` will change from 10 to 'auto' in 1.4. Set the value of `n_init` explicitly to suppress the warning\n",
            "\n"
          ]
        },
        {
          "output_type": "display_data",
          "data": {
            "text/html": [
              "<html>\n",
              "<head><meta charset=\"utf-8\" /></head>\n",
              "<body>\n",
              "    <div>            <script src=\"https://cdnjs.cloudflare.com/ajax/libs/mathjax/2.7.5/MathJax.js?config=TeX-AMS-MML_SVG\"></script><script type=\"text/javascript\">if (window.MathJax && window.MathJax.Hub && window.MathJax.Hub.Config) {window.MathJax.Hub.Config({SVG: {font: \"STIX-Web\"}});}</script>                <script type=\"text/javascript\">window.PlotlyConfig = {MathJaxConfig: 'local'};</script>\n",
              "        <script charset=\"utf-8\" src=\"https://cdn.plot.ly/plotly-2.24.1.min.js\"></script>                <div id=\"de7c69d1-1fe2-4141-aace-3c39d97a72bb\" class=\"plotly-graph-div\" style=\"height:525px; width:100%;\"></div>            <script type=\"text/javascript\">                                    window.PLOTLYENV=window.PLOTLYENV || {};                                    if (document.getElementById(\"de7c69d1-1fe2-4141-aace-3c39d97a72bb\")) {                    Plotly.newPlot(                        \"de7c69d1-1fe2-4141-aace-3c39d97a72bb\",                        [{\"marker\":{\"color\":[4,4,4,1,1,3,3,1,3,3,0,0,0,3,1,3,1,3,1,3,1,1,1,3,3,3,3,1,1,3,3,3,0,3,1,3,1,4,3,3,1,3,1,1,1,1,3,3,1,3,1,3,3,3,4,1,1,1,3,3,3,1,1,1,3,4,1,3,3,1,3,3,4,3,3,3,0,0,4,0,0,1,0,0,0,1,0,3,1,2,0,3,2,2,0,0,0,1,4,4,0,0,0,4,0,0,0,0,0,1,0,2,2,0,2,0,2,0,2,1,0,2,0,0,0,0,2,0,0,3,0,0,2,0,2,0,0,2,4,1,4,4,0,3,2,4,2,0,1,0,0,2,2,0,2,1,0,0,0,0,0,0,2,4,0,2,0,2,4,4,0,0,3,0,0,0,0,1,0,0,0,0,2,2,4,3,4,4,0,4,0,0,2,2,0,2,2,2,2,2,1,3,1,4,1,0,1,1,3,3,1,3,3,0,4,0,2,2,2,1,0,1,2,4,0,0,0,4,0,0,1,0,2,2,2,4,0,2,0,4,1,1,0,0,1,4,0,0,0,4,0,4,2,2,2,2,2,3,2,2,1,2,2,2,1,2,4,4,4,0,4,0,0,4,4,4,4,0,0,4,0,4,4,0,4,4,4,4,4,4,2,0,4,4,3,2,4,3,2,4,0,0,0,4,4,4,4,4,1,4,4,2,4,0,4,4,4,0,4,0,4,4,0,0,4,4,4,4,3,3,4,4,4,4,4,0,4,0,4,2,1,0,0,3,4,4,4,2,1,2,0,1,0,4,0,4,0,4,1,2,0,0,1,2,0,2,2,0,0,3,4,0,0,2,1,4,4,0,2,0,0,0,0,0,0,0,0,0,0,0,0,2,2,0,0,1,0,0,0,0,1,1,4,1,1,2,3,1,3,1,3,1,4,1,3,3,3,1,3,1,1,3,1,4,1,3,1,2,3,4,3,1,3,4,1,3,3,2,1,2,0,0,0,0,1,2,0,4,0,2,0,3,2,0,0,0,2,0,3,0,0,0,2,1,0,4,2,2,0,0,1,0,2,1,0,0,1,2,3,2,0,2,2,1,4,2,3,2,2,3,2,2,2,4,2,4,4,4,4,4,4,4,4,4,4,1,4,4,4,4,4,4,4,4,4,4,4,4,4,4,4,1,4,4,4,4,4,4,4,4,4,4,4,4,3,3,4,4,4,0,4,4,4,4,4,4,4,4,4,2,2,3,1,4,1,4,2,4,0,1,4,4,4,0,3,2,4,4,2,3,4,4,4,3,4,3,4,1,4,0,2,0,4,1,1,0,2,1,1,4,0,4,4,4,2,2,1,0,1,2,1,3,1,1,1,1,1,1,1,1,2,3,3,1,3,3,3,1,3,1,3,1,3,1,1,1,1,1,1,3,3,3,1,3,1,1,3,3,1,1,1,1,1,1,1,1,0,1,3,1,1,1,3,1,4,3,1,3,1,1,1,1,1,3,4,3,1,1,1,1,1,3,3,1,1,1,1,4,3,3,2,3,1,1,3,3,3,1,1,3,1,4,3,2,3,1,1,1,1,1,1,1,3,3,3,3,3,1,3,1,3,1,1,4,1,1,1,2,1,1,3,3,3,1,1,1,1,1,1,2,3,3,3,1,1,3,1,3,4,3,1,3,3,3,3,3,1,4,1,1,4,3,3,1,2,1,3,4,1,3,1,1,3,1,1,4,1,1,1,1,0,1,1,3,3,3,1,3,3,1,3,1,3,3,1,1,1,1,1,1,3,3,3,1,3,1,3,3,3,1,3,3,1,4,0,3,4,2,2,2,0,2,0,2,4,2,2,4,2,4,2,2,2,2,2,2,2,2,2,4,2,2,0,4,2,2,2,2,2,2],\"colorscale\":[[0.0,\"#440154\"],[0.1111111111111111,\"#482878\"],[0.2222222222222222,\"#3e4989\"],[0.3333333333333333,\"#31688e\"],[0.4444444444444444,\"#26828e\"],[0.5555555555555556,\"#1f9e89\"],[0.6666666666666666,\"#35b779\"],[0.7777777777777778,\"#6ece58\"],[0.8888888888888888,\"#b5de2b\"],[1.0,\"#fde725\"]],\"opacity\":0.8,\"size\":12},\"mode\":\"markers\",\"x\":[-0.459999680519104,-1.0343281030654907,-0.6413186192512512,4.625281810760498,3.553144931793213,1.152356743812561,0.1098327785730362,3.7687606811523438,0.40060296654701233,0.25695356726646423,-6.138552188873291,-3.6975433826446533,-5.035112380981445,0.3558003306388855,4.12542200088501,2.7164816856384277,3.7344226837158203,-0.11588602513074875,4.097728252410889,1.562917709350586,3.776136875152588,4.614763259887695,4.896618366241455,0.7680104374885559,0.6733645796775818,1.733292579650879,2.5285897254943848,3.210108995437622,3.292938232421875,1.439490556716919,0.2999122142791748,1.6019816398620605,-5.439363479614258,1.8313398361206055,4.5797929763793945,1.7771363258361816,5.044273853302002,-2.12538480758667,1.0041791200637817,1.724003553390503,4.1048760414123535,1.0059624910354614,3.4656171798706055,4.496777057647705,5.9251322746276855,3.005262851715088,0.506588339805603,0.7032396793365479,4.435429096221924,0.06462489068508148,5.001749038696289,-0.11632418632507324,0.18279018998146057,0.7587022185325623,-2.771711587905884,4.021036148071289,4.440790176391602,3.685197114944458,0.7664533257484436,1.4928526878356934,0.8471279740333557,4.017336845397949,4.195890426635742,4.819687843322754,1.236798882484436,-3.078129291534424,5.109174728393555,1.7861270904541016,1.7802852392196655,3.5132761001586914,1.7180864810943604,2.574110507965088,-0.8796583414077759,1.741719365119934,2.049802780151367,1.7213680744171143,-5.224682331085205,-5.5673956871032715,-2.4824392795562744,-4.740478038787842,-5.237550735473633,5.137070655822754,-4.722917079925537,-5.532073020935059,-4.870202541351318,4.172460079193115,-4.509001731872559,1.6827020645141602,3.6925652027130127,-3.3107452392578125,-6.237545013427734,1.3888601064682007,-2.1742794513702393,-2.554619312286377,-5.22031831741333,-4.811831474304199,-6.074448108673096,5.462845325469971,-1.5598517656326294,-3.041743040084839,-3.998300790786743,-4.526310920715332,-4.564192771911621,-2.7046637535095215,-6.177637577056885,-3.8213603496551514,-4.331262588500977,-4.658241271972656,-4.160312652587891,5.659071445465088,-5.004075527191162,-4.499022483825684,-2.1278975009918213,-4.875338077545166,-2.998379945755005,-4.350524425506592,-4.202470302581787,-4.647064208984375,-2.2268543243408203,5.548785209655762,-4.067356586456299,-4.336893558502197,-5.474539756774902,-4.800447463989258,-4.583429336547852,-4.54941463470459,-2.711411952972412,-4.729116439819336,-5.598902225494385,1.93352472782135,-4.7650980949401855,-5.1518659591674805,-2.535921812057495,-4.6432061195373535,-4.330758094787598,-4.5805792808532715,-4.946030616760254,-4.525990009307861,-3.1383440494537354,4.288763999938965,-3.3643035888671875,-2.6620826721191406,-4.6096062660217285,0.09732168167829514,-3.1537375450134277,-3.0701520442962646,-4.225213050842285,-5.300088405609131,4.711488246917725,-5.498138427734375,-6.19011926651001,-4.6609601974487305,-4.288435935974121,-6.19903039932251,-3.5724267959594727,5.150629043579102,-3.6829164028167725,-5.2720794677734375,-5.90971040725708,-5.427731513977051,-3.8340189456939697,-4.335666656494141,-2.474325656890869,-0.5295189023017883,-4.810332298278809,-4.47251558303833,-6.121070861816406,-3.7482807636260986,-3.020704746246338,-2.760711431503296,-4.87423038482666,-5.153683185577393,0.3563576638698578,-4.364982604980469,-4.549144744873047,-4.583041667938232,-5.43790864944458,5.043543338775635,-4.591874599456787,-5.475654125213623,-6.211219787597656,-4.094536781311035,-4.531053066253662,-2.1613636016845703,-0.7643259167671204,0.06405391544103622,-2.3170580863952637,-0.49849024415016174,-4.424524784088135,-2.4974663257598877,-3.997410535812378,-6.246374607086182,-2.9314498901367188,-2.9822094440460205,-4.53162145614624,-3.056460380554199,-2.328444719314575,-3.1767578125,-2.904135227203369,-3.185346841812134,4.778388023376465,0.9350191950798035,4.098008632659912,-2.484295606613159,4.578283786773682,-5.3267364501953125,3.9640932083129883,5.118165016174316,1.5162551403045654,0.07018913328647614,3.597564697265625,1.7101432085037231,1.8067635297775269,-4.945981025695801,-0.7293343544006348,-4.790040016174316,-4.319561958312988,-4.421859264373779,-4.542219638824463,5.156174182891846,-5.199656009674072,4.644013404846191,-4.405002117156982,-2.6429524421691895,-4.759030818939209,-4.600020408630371,-4.77911901473999,-0.33034631609916687,-5.203125,-5.424029350280762,5.689734935760498,-5.133713722229004,-2.2215628623962402,-4.494546890258789,-4.727795124053955,-0.39345064759254456,-4.703579902648926,-4.495589733123779,-3.8054492473602295,-1.9794429540634155,5.11337423324585,5.595029354095459,-4.474888324737549,-4.731302738189697,5.91176176071167,-2.0602102279663086,-4.335710048675537,-4.3887176513671875,-4.679168224334717,-1.8845295906066895,-4.128190994262695,-2.6316494941711426,-3.2403717041015625,-3.180823564529419,-2.720411539077759,-2.223101854324341,-2.2785696983337402,-0.20212021470069885,-3.082736015319824,-3.328868865966797,5.21065092086792,-3.3192968368530273,-3.070948600769043,-3.3208398818969727,5.961638927459717,-3.2092974185943604,-1.8416721820831299,-1.1743113994598389,-1.060038685798645,-4.563991069793701,-2.9750962257385254,-5.005414009094238,-5.029301166534424,-1.2696735858917236,-1.0906249284744263,-1.084502100944519,-3.186569929122925,-4.668316841125488,-4.297641754150391,-1.5303411483764648,-5.093780040740967,-2.2207329273223877,-2.1979196071624756,-5.1451263427734375,-2.0552451610565186,-2.1039986610412598,-2.7365190982818604,-1.1958433389663696,-2.008687734603882,-1.273569107055664,-3.278148889541626,-5.187563896179199,-1.7778809070587158,-2.3904683589935303,-0.15713946521282196,-4.298091888427734,-1.429395318031311,0.4460795521736145,-3.5181972980499268,-1.5996674299240112,-3.8423445224761963,-4.222731113433838,-3.7196433544158936,-1.8756927251815796,-3.578446388244629,-1.768728256225586,-2.226257085800171,-2.0008578300476074,5.173262596130371,-2.028822898864746,-3.53171706199646,-2.8375775814056396,-1.5982674360275269,-5.136119842529297,-1.6999913454055786,-1.8693386316299438,-2.4880495071411133,-3.634531259536743,-1.410696268081665,-4.516534328460693,-1.0816397666931152,-1.917309284210205,-3.621990203857422,-5.191287040710449,-2.322512149810791,-1.6009800434112549,-1.9566266536712646,-1.0891200304031372,1.273918867111206,-0.038041770458221436,-2.485031843185425,-1.9773813486099243,-2.012218475341797,-3.2173256874084473,-2.0355968475341797,-4.667826175689697,-1.7899463176727295,-3.4081223011016846,-2.619049072265625,-3.3891329765319824,5.454517841339111,-3.2407984733581543,-4.978214740753174,0.3726288378238678,-0.6601229906082153,-2.6832587718963623,-2.698049306869507,-3.523005962371826,5.646287441253662,-3.581277847290039,-4.877960681915283,5.148885726928711,-3.1331989765167236,-1.99489426612854,-3.212768077850342,-3.019754409790039,-3.5360026359558105,-3.135345935821533,5.40201473236084,-4.0120439529418945,-6.18646764755249,-4.348857402801514,5.176907062530518,-2.198113203048706,-3.753554105758667,-1.9070608615875244,-2.863274335861206,-4.06520938873291,-5.614968299865723,-0.13998925685882568,-0.7261460423469543,-5.08095645904541,-4.867575645446777,-2.841392755508423,4.457707405090332,-0.5751190185546875,-3.3094608783721924,-4.813640117645264,-4.323009014129639,-5.112000465393066,-4.853658676147461,-5.094874858856201,-5.032562255859375,-4.782711505889893,-5.180617809295654,-5.266218662261963,-5.255448341369629,-5.280499458312988,-5.189998626708984,-5.029038906097412,-5.369742393493652,-2.955195665359497,-2.2680532932281494,-5.164271354675293,-5.235071659088135,3.2182908058166504,-4.389710903167725,-3.62524151802063,-4.872781753540039,-5.116057395935059,3.879376173019409,5.2079949378967285,-1.991593599319458,4.844799995422363,3.6517961025238037,-3.092301845550537,1.2727035284042358,4.918671607971191,1.9404680728912354,5.192370414733887,1.391244888305664,4.0543107986450195,-2.220799684524536,4.5854058265686035,1.7191129922866821,-0.30423691868782043,2.023117780685425,4.070545196533203,1.84285569190979,4.505014419555664,5.0070109367370605,2.0258734226226807,4.596908092498779,-2.5398004055023193,5.3003458976745605,0.6456743478775024,4.987961769104004,-4.236138820648193,1.2643696069717407,-1.210763692855835,1.962083339691162,5.1295552253723145,1.608699083328247,-1.262393593788147,4.395373344421387,1.9383561611175537,1.707263708114624,-2.1347572803497314,5.257684230804443,-2.063542127609253,-4.760899543762207,-4.83789587020874,-6.197446823120117,-4.9286346435546875,5.116357803344727,-4.5149617195129395,-4.618389129638672,-0.9509732723236084,-4.3322319984436035,-2.072326898574829,-5.0202155113220215,0.04504898935556412,-4.298589706420898,-6.190371513366699,-5.0342512130737305,-4.4746317863464355,-2.1202147006988525,-6.237152099609375,0.09645198285579681,-4.814764499664307,-4.526644229888916,-4.688833236694336,-2.0438430309295654,4.9315948486328125,-3.6715035438537598,-0.7674793004989624,-3.7988088130950928,-4.435984134674072,-4.036684513092041,-3.634035110473633,5.6025471687316895,-3.4900500774383545,-2.3072338104248047,5.309590816497803,-3.949906826019287,-4.141056060791016,3.967339038848877,-2.328662157058716,-0.18288584053516388,-2.415631055831909,-3.775128126144409,-2.8609700202941895,-2.7366721630096436,5.233152389526367,-1.1322611570358276,-3.0329675674438477,0.8636754751205444,-2.55728816986084,-3.1985085010528564,1.0850846767425537,-3.4635262489318848,-3.0553433895111084,-2.332914352416992,-1.1042683124542236,-3.081634759902954,-1.0661392211914062,-2.2179369926452637,-3.374044895172119,-2.5978891849517822,-2.9315078258514404,-3.2363228797912598,-1.4288995265960693,-2.300727128982544,-1.1815235614776611,-1.8631491661071777,4.763341426849365,-1.707243800163269,-2.22928786277771,-1.3372622728347778,-1.765779733657837,-1.015657663345337,-2.3282947540283203,-1.3142486810684204,-1.0723520517349243,-2.0890517234802246,-2.2050623893737793,-2.369016647338867,-1.9458073377609253,-2.53812575340271,-2.167897939682007,-1.297074317932129,2.828281879425049,-1.0448092222213745,-1.803882360458374,-1.9004106521606445,-1.1181422472000122,-2.027186870574951,-1.7235983610153198,-1.8053336143493652,-1.6845471858978271,-1.3709172010421753,-2.430387258529663,-1.228502631187439,-3.4128761291503906,-0.21087637543678284,-0.07898499816656113,-0.7543560266494751,-1.8510702848434448,-2.0612471103668213,-3.786925792694092,-1.672164797782898,-1.64168381690979,-2.2027666568756104,-3.4675841331481934,-0.9057829976081848,-1.893700361251831,-2.3888204097747803,-2.8209564685821533,-1.1247222423553467,-2.203442096710205,-4.317331314086914,0.030108636245131493,4.311878681182861,-2.1601593494415283,4.99509859085083,-0.9850203990936279,-3.079414129257202,-1.2503814697265625,-4.330563545227051,5.234110355377197,-3.4248414039611816,-3.018735885620117,-2.7374064922332764,-4.939667701721191,0.12758967280387878,-3.3835771083831787,-1.3579086065292358,-1.0008046627044678,-3.567892551422119,-0.01745307631790638,-2.1015238761901855,-1.4071964025497437,-2.271397829055786,1.5178385972976685,-1.097508430480957,1.5764015913009644,-2.265092372894287,4.7049150466918945,-2.14589262008667,-4.341588497161865,-2.615659236907959,-3.0799503326416016,-2.311394453048706,5.22461462020874,4.36713981628418,-4.965505123138428,-2.1620068550109863,5.021404266357422,5.9428558349609375,-0.7346585988998413,-4.218612194061279,-3.303311824798584,-2.5251805782318115,-0.7615938782691956,-2.2068581581115723,-3.372227668762207,5.919000148773193,-4.67427396774292,4.711938858032227,-2.8376903533935547,4.064831256866455,0.5864447355270386,4.5283966064453125,3.9752657413482666,4.902074813842773,3.6995277404785156,5.179680824279785,3.8879380226135254,4.592838287353516,4.855201721191406,-1.5624384880065918,1.2550334930419922,1.0126855373382568,4.583620071411133,1.0298516750335693,1.0570850372314453,0.5765869617462158,3.963740348815918,0.8111030459403992,3.961590528488159,1.5306077003479004,3.8297243118286133,1.4579232931137085,3.73571515083313,4.022235870361328,4.732711315155029,3.284731388092041,4.683154582977295,4.001289367675781,1.4117578268051147,0.38141676783561707,1.3545923233032227,3.6499898433685303,1.1246026754379272,4.438941955566406,4.837553024291992,1.0715323686599731,1.810081958770752,3.925806999206543,4.180824279785156,4.108217716217041,3.9387097358703613,3.6453840732574463,4.959544658660889,4.86916971206665,3.9995439052581787,-6.098772048950195,4.917607307434082,1.2160685062408447,4.231433391571045,3.8822238445281982,5.411828994750977,1.5495654344558716,4.888022422790527,-0.7038732171058655,1.61793053150177,3.9577221870422363,0.5324869751930237,3.147003412246704,3.6350808143615723,3.353625535964966,4.1881303787231445,5.426574230194092,0.8418858051300049,-0.22855110466480255,0.9792489409446716,4.86701774597168,4.079692363739014,3.200758695602417,3.739720582962036,4.564148902893066,1.180209994316101,1.4108809232711792,4.3436384201049805,4.064995288848877,4.550779342651367,4.99918270111084,-0.8672110438346863,1.0287657976150513,1.145107388496399,-3.2462220191955566,1.511877179145813,4.8398237228393555,3.252650737762451,1.2970926761627197,0.7220282554626465,-0.0918416678905487,4.245517730712891,3.7451188564300537,0.6721546649932861,4.309765338897705,-3.406552314758301,1.0812201499938965,-1.4473085403442383,1.4505068063735962,5.108303070068359,3.6421008110046387,4.798267364501953,4.654390811920166,4.438482761383057,4.743371486663818,5.301391124725342,0.4233531951904297,1.097052812576294,1.8113124370574951,1.3985446691513062,0.8666367530822754,2.8140921592712402,1.3673908710479736,4.022209644317627,1.383851408958435,3.4254424571990967,4.527987957000732,-3.379335641860962,3.407078266143799,4.697316646575928,4.127681732177734,-1.29397714138031,4.682173252105713,4.9120049476623535,2.704683303833008,0.6814302206039429,1.8474249839782715,4.044816017150879,3.7728519439697266,3.8615283966064453,4.471899032592773,4.716982364654541,3.7613394260406494,-1.5354000329971313,2.770554780960083,1.7479385137557983,1.797003149986267,4.359109401702881,4.152047634124756,1.7975035905838013,4.8334431648254395,1.4602892398834229,-3.1527960300445557,1.213566780090332,4.101062297821045,1.6172990798950195,1.857850432395935,0.9614989757537842,0.684535801410675,1.3069485425949097,3.6338934898376465,-0.6657670140266418,4.949505805969238,3.4952340126037598,-2.9383230209350586,1.3728337287902832,0.6102033853530884,4.705419063568115,-2.4353604316711426,4.54184103012085,1.6988049745559692,-2.196065902709961,4.524402618408203,1.595707893371582,3.6857101917266846,4.580235004425049,0.3358491063117981,5.035855293273926,4.2181620597839355,-0.7349551320075989,4.217275619506836,4.4434638023376465,5.2966790199279785,3.234377145767212,-3.7574081420898438,4.7189412117004395,4.708615303039551,0.9001966118812561,0.8437199592590332,2.3100578784942627,4.022657871246338,1.5295557975769043,0.9664218425750732,4.119178295135498,1.384631872177124,5.250728607177734,0.40799444913864136,1.897936463356018,3.650040626525879,5.0934953689575195,4.589654922485352,4.698423385620117,3.9260103702545166,4.478692054748535,0.6692028045654297,0.9237302541732788,0.827495276927948,3.1688637733459473,0.5778772234916687,4.013064384460449,1.745417594909668,0.6195011138916016,1.4866584539413452,3.664005756378174,1.67223060131073,0.6327683329582214,4.014578342437744,-3.0380005836486816,-3.9253642559051514,2.2004103660583496,-1.478942632675171,-1.302626609802246,-1.314070224761963,-3.372263193130493,-4.91535758972168,-3.4626505374908447,-5.035353183746338,-3.3310208320617676,-1.4354411363601685,-2.8805437088012695,-2.8410229682922363,-1.4520471096038818,-2.3091816902160645,-1.4299496412277222,-1.3082289695739746,-3.3627710342407227,-2.802133321762085,-3.5765581130981445,-2.8562204837799072,-1.3569914102554321,-2.6458864212036133,-2.8800437450408936,-1.3575440645217896,-1.1086705923080444,-3.4973137378692627,-2.8405840396881104,-5.213114261627197,-1.2407951354980469,-2.421140193939209,-3.3567943572998047,-2.7535364627838135,-2.9288363456726074,-3.215039014816284,-2.7955331802368164],\"y\":[6.916234016418457,7.178987979888916,7.365792751312256,5.746453285217285,5.623847007751465,3.201906442642212,4.349912643432617,5.632138729095459,3.77293062210083,4.741161823272705,4.867753982543945,4.7898054122924805,5.620880126953125,4.505365371704102,5.540151596069336,4.568020343780518,5.5420331954956055,4.550937175750732,5.104578495025635,3.7504525184631348,5.68528413772583,5.952657699584961,4.73873233795166,3.92850923538208,4.696128845214844,3.789959669113159,4.484922885894775,5.659416198730469,4.31154203414917,4.140049934387207,4.991704940795898,3.936798572540283,3.330919027328491,4.156832695007324,4.611109256744385,4.240787506103516,5.679121494293213,7.02429723739624,3.3931195735931396,3.505246639251709,5.310375690460205,3.7198920249938965,5.203969478607178,5.658763885498047,5.325093746185303,4.94076681137085,4.743553161621094,3.807548999786377,5.675837993621826,4.868428707122803,6.5196614265441895,4.572027683258057,5.3927459716796875,4.885606288909912,5.376251220703125,4.626077651977539,5.01295280456543,5.2971720695495605,3.7878875732421875,3.7373669147491455,3.9375548362731934,4.789917945861816,5.242121696472168,4.865166187286377,3.7207882404327393,5.847560405731201,4.828915596008301,4.031801223754883,4.145968437194824,4.7412590980529785,3.5380845069885254,4.024284839630127,4.577581882476807,3.779825448989868,4.994912624359131,4.555642127990723,4.928587913513184,3.0776021480560303,4.963403701782227,4.468379497528076,3.6996402740478516,4.856403350830078,3.851694107055664,3.116267204284668,4.727487087249756,5.974720478057861,3.8241217136383057,3.5947928428649902,6.222949028015137,3.1246700286865234,4.8838396072387695,3.137693166732788,2.3465077877044678,2.2294845581054688,4.996026992797852,4.594963550567627,4.824925899505615,5.933614253997803,5.547008991241455,4.759878158569336,4.62368631362915,3.9310247898101807,4.340206146240234,4.554508209228516,4.907591342926025,5.589346885681152,3.8493154048919678,4.326651573181152,4.459863662719727,5.281968116760254,3.9222025871276855,2.2047863006591797,2.899534225463867,3.804208517074585,2.13570237159729,4.055558204650879,3.2983884811401367,3.96869158744812,2.979468822479248,5.600998878479004,5.608402729034424,2.655080556869507,3.2109596729278564,4.328463077545166,3.8655784130096436,3.923454999923706,4.447073459625244,3.9399333000183105,3.007751941680908,4.202698707580566,3.9441475868225098,4.006445407867432,3.139090061187744,3.7704477310180664,2.143385648727417,4.571610450744629,4.025382041931152,2.119814395904541,5.326414585113525,6.145197868347168,6.109437465667725,4.60537052154541,3.9068119525909424,4.922142028808594,1.8890717029571533,5.32940149307251,2.3143093585968018,3.585736036300659,5.264379024505615,3.1053314208984375,4.7942328453063965,2.491715669631958,2.6980056762695312,4.8505120277404785,2.281470537185669,4.875961780548096,4.827083110809326,3.5827949047088623,4.629934310913086,3.3567235469818115,4.924635887145996,4.363974571228027,2.7467191219329834,6.687984466552734,4.61212682723999,2.2141225337982178,4.858003616333008,3.637371778488159,4.9241132736206055,4.4952168464660645,4.2915167808532715,3.69134521484375,4.166531085968018,4.603812217712402,4.193550109863281,4.245450973510742,3.3328089714050293,4.877505302429199,4.73859977722168,3.1940884590148926,4.854868412017822,5.256587028503418,2.085651397705078,2.355010986328125,6.732632160186768,4.859394073486328,5.877059459686279,6.3264312744140625,4.774502277374268,6.284933567047119,5.078797817230225,4.8380327224731445,3.155240058898926,3.624382734298706,6.206599235534668,3.6823840141296387,2.777468204498291,3.899616241455078,3.540081024169922,3.8863813877105713,5.15291690826416,3.8306870460510254,6.238949775695801,6.37154483795166,6.440371990203857,6.300934791564941,6.215742111206055,5.586309909820557,3.0443978309631348,4.9099440574646,5.201892852783203,5.047584533691406,4.334600448608398,5.224313259124756,6.909628868103027,3.9146811962127686,2.276860237121582,2.171567440032959,2.131425142288208,5.390460014343262,5.692660331726074,4.891201019287109,2.1553571224212646,4.7319440841674805,4.656904697418213,4.084314823150635,4.880661964416504,6.308767318725586,5.286890506744385,3.060211420059204,5.412781238555908,3.6801669597625732,2.988433599472046,2.28788423538208,2.1377763748168945,6.340207576751709,3.833684206008911,2.195615530014038,4.787076950073242,4.58486795425415,5.093306064605713,5.957076549530029,4.2495927810668945,3.8082423210144043,5.288625717163086,4.503518581390381,4.417714595794678,4.894545078277588,4.7818427085876465,4.53554105758667,5.389254570007324,4.8015336990356445,3.8200552463531494,3.8276495933532715,3.036897659301758,2.4051637649536133,2.3676650524139404,4.622419357299805,3.629835605621338,3.9288954734802246,4.927945613861084,3.7380499839782715,3.7680299282073975,3.933769941329956,5.302022933959961,3.306138277053833,5.875498294830322,7.426364421844482,6.5174713134765625,4.197403430938721,4.684083461761475,6.26266622543335,6.149403095245361,7.319612979888916,6.633940696716309,6.575763702392578,5.6525726318359375,3.9268276691436768,6.32492208480835,5.40777587890625,6.262179851531982,5.679790019989014,6.116849422454834,6.281291961669922,5.621264457702637,5.671463966369629,5.412581920623779,7.328118801116943,5.528505325317383,5.641568183898926,2.742785930633545,6.243152618408203,5.1750807762146,4.998558044433594,5.045564651489258,2.28398060798645,6.922454357147217,2.8355093002319336,2.1649117469787598,5.425620079040527,4.934409141540527,4.493818283081055,6.153356552124023,5.374975681304932,6.28462553024292,5.5935869216918945,5.784926891326904,4.43490743637085,6.400734901428223,6.835287570953369,6.247378826141357,2.061591625213623,6.682413101196289,6.255295753479004,6.275264739990234,5.547049045562744,5.848868370056152,5.041611194610596,5.3047895431518555,5.501721382141113,6.961490631103516,4.851672172546387,5.9430251121521,5.242005825042725,5.484702110290527,5.904514312744141,4.519174575805664,7.44945764541626,4.13369607925415,5.374834060668945,5.505176067352295,5.873347282409668,5.871579170227051,5.947528839111328,6.03087854385376,4.755980491638184,5.441545486450195,5.077128887176514,4.776216506958008,3.2807185649871826,5.448886871337891,4.850462913513184,5.471299171447754,4.724009990692139,7.336604118347168,4.703023910522461,4.774860858917236,2.2831602096557617,5.8012824058532715,2.1903717517852783,5.35815954208374,5.4286417961120605,4.675673961639404,4.472827911376953,4.830972671508789,6.566745281219482,4.872637748718262,5.293519020080566,5.408654689788818,3.2535364627838135,4.847056865692139,4.981165885925293,4.842705249786377,2.7912681102752686,4.920475006103516,3.1270902156829834,1.8343979120254517,5.89038610458374,3.0070059299468994,4.627035617828369,6.552674770355225,6.470736026763916,6.469331741333008,3.240145683288574,5.42680549621582,6.726036071777344,6.185183525085449,6.3747687339782715,2.544403314590454,6.190274238586426,6.418067455291748,6.1121826171875,6.3215508460998535,6.4576311111450195,6.260327339172363,6.224049091339111,6.380956172943115,6.3304033279418945,6.247962474822998,6.362532138824463,6.266875267028809,4.156251430511475,2.3918676376342773,6.13997220993042,6.197097301483154,6.124612331390381,6.153903007507324,4.684867858886719,5.414534091949463,6.430922508239746,5.788403034210205,5.555479526519775,4.498761177062988,4.187389373779297,5.026708126068115,3.426877498626709,4.038047790527344,4.3385725021362305,4.0135016441345215,6.146285057067871,3.3180668354034424,5.251091480255127,6.364994525909424,4.611534595489502,3.8636269569396973,4.298898696899414,5.0071797370910645,4.399233341217041,3.634239673614502,4.678629398345947,6.423484802246094,4.13753080368042,5.536238193511963,6.630253314971924,6.246260643005371,3.4477221965789795,6.4546380043029785,2.632639169692993,3.499293327331543,4.412164211273193,4.492458820343018,5.484589099884033,4.8787312507629395,7.321577072143555,4.784499645233154,4.914817810058594,4.98516845703125,3.0117223262786865,5.969997406005859,2.2944185733795166,3.8169569969177246,4.541146278381348,4.834868431091309,4.867130279541016,5.332389831542969,2.1513266563415527,4.927113056182861,7.203609466552734,3.675227642059326,2.27341890335083,3.8877084255218506,3.5520074367523193,2.2805099487304688,4.801529407501221,3.5622591972351074,3.9611337184906006,2.8823060989379883,4.830146312713623,5.036348819732666,5.186529636383057,3.6818366050720215,4.514926910400391,2.24625825881958,4.744157791137695,4.060327529907227,6.508867263793945,2.172865390777588,2.2166712284088135,5.256489276885986,4.354261875152588,5.997366428375244,4.9415669441223145,2.9718804359436035,5.436866760253906,4.692611217498779,5.316671371459961,5.331969738006592,2.891923427581787,4.610984802246094,2.847256660461426,4.303452491760254,3.123384952545166,3.0161633491516113,5.380117416381836,7.394721031188965,4.034595012664795,2.720324993133545,3.0970189571380615,4.011592864990234,3.3195302486419678,3.676584482192993,3.5572497844696045,2.8161120414733887,7.115444660186768,3.4684574604034424,5.533438682556152,5.228507041931152,6.223479270935059,5.484663486480713,5.79940128326416,5.582751274108887,6.935546398162842,6.098564147949219,6.7018141746521,5.569128513336182,4.587879657745361,5.778329849243164,5.292686939239502,6.947170257568359,5.664266109466553,7.165663719177246,6.011318206787109,6.928743839263916,6.757269382476807,6.173288822174072,6.959402561187744,5.701189041137695,5.986973285675049,5.591053009033203,6.011760234832764,5.649592876434326,4.639255523681641,6.548343181610107,5.698747634887695,6.01604700088501,5.562290668487549,5.885720729827881,5.85024356842041,5.49013614654541,5.768019199371338,6.386620998382568,6.127098560333252,6.794919013977051,6.098384857177734,4.728235721588135,4.565160751342773,6.466813087463379,6.084376335144043,5.665335178375244,6.163519382476807,6.055495738983154,6.41220760345459,6.1936564445495605,6.312124252319336,5.347078323364258,5.992645263671875,5.096848964691162,6.190007209777832,4.383216381072998,2.546319007873535,2.2660326957702637,5.291006565093994,5.792858123779297,5.875843048095703,5.186507225036621,7.209062576293945,4.363619327545166,7.032535552978516,4.8879218101501465,5.494020938873291,6.19338846206665,6.15238094329834,6.192535877227783,6.096524238586426,4.981227397918701,4.182525634765625,6.86322546005249,4.564856052398682,2.2272145748138428,5.3201069831848145,6.50481653213501,6.336742401123047,5.789285182952881,5.263818740844727,4.364759922027588,5.107756614685059,6.23663854598999,4.718601226806641,7.037669658660889,5.002993106842041,2.100135087966919,4.737520217895508,5.350916385650635,5.288332939147949,5.1522932052612305,3.927131175994873,2.2702431678771973,5.160294055938721,5.30124568939209,6.8590087890625,5.090923309326172,5.595000743865967,5.684911727905273,6.951267242431641,2.4886388778686523,2.8204052448272705,5.2860517501831055,5.091681480407715,4.629091739654541,1.7766648530960083,6.239593505859375,4.154366970062256,5.966602325439453,5.996499538421631,3.996861457824707,5.072048187255859,6.072184085845947,6.028557300567627,6.029238700866699,4.096129894256592,2.935952663421631,4.423882484436035,3.6957123279571533,6.210585594177246,3.826718330383301,3.7338273525238037,3.2884151935577393,5.5959672927856445,2.7018070220947266,6.214230537414551,3.6679024696350098,4.957822322845459,4.052908897399902,5.233938217163086,6.063945770263672,6.418454170227051,5.085396766662598,5.6225128173828125,6.183058261871338,3.435345411300659,4.980552673339844,3.0369648933410645,5.4919562339782715,3.9644775390625,5.493800640106201,4.058408260345459,3.8974716663360596,4.858156204223633,5.547534942626953,4.7876410484313965,5.941811561584473,5.310754299163818,5.488319396972656,6.357778549194336,4.100423812866211,4.992061614990234,4.823514938354492,4.0282392501831055,3.49991774559021,5.3860297203063965,4.965287208557129,6.098231792449951,3.7304234504699707,4.005279541015625,6.717434883117676,4.866547584533691,5.905429840087891,4.50593900680542,5.094179630279541,5.574519157409668,4.987290382385254,6.055976867675781,6.024294853210449,2.6663169860839844,6.868739128112793,3.2663345336914062,3.9870617389678955,6.04823637008667,5.042139053344727,5.166962146759033,5.844736576080322,3.866690158843994,3.8826088905334473,4.476470470428467,4.681473255157471,4.9682841300964355,6.251139163970947,7.302973747253418,3.7456014156341553,3.8790130615234375,2.6236255168914795,4.487600803375244,5.792661190032959,5.076010227203369,3.6503162384033203,2.71748685836792,4.51488733291626,5.286710262298584,5.3059515953063965,3.878021717071533,5.012123107910156,6.187854290008545,3.485332727432251,2.9733312129974365,3.093637466430664,5.5756611824035645,5.537664413452148,6.424789905548096,4.544070243835449,4.755312919616699,6.448184967041016,5.576496601104736,4.871179103851318,4.842889308929443,4.905889987945557,4.484333515167236,2.7058067321777344,5.487309455871582,3.983307361602783,4.362881183624268,4.198800086975098,5.360965728759766,5.3000874519348145,6.147143840789795,5.09409761428833,5.5307297706604,4.80802059173584,3.7787561416625977,6.392271995544434,6.431111812591553,4.523022174835205,4.295846462249756,4.116776466369629,5.78510856628418,4.548773765563965,5.943463325500488,5.298591613769531,6.327582836151123,5.809256553649902,3.0275497436523438,4.625525951385498,3.5827250480651855,4.928677082061768,5.353551387786865,4.561736106872559,3.758610963821411,4.04946231842041,3.595073938369751,5.245325088500977,3.2610247135162354,5.19759464263916,4.123900890350342,4.474318504333496,4.0501389503479,4.0642547607421875,3.690908670425415,5.807264804840088,7.071314334869385,4.826470851898193,4.376272678375244,4.738988876342773,4.589381217956543,4.412320137023926,5.605047702789307,3.85701584815979,5.421608924865723,4.965575218200684,6.993502140045166,5.256176948547363,3.801622152328491,5.668237209320068,4.477809429168701,3.815096616744995,6.389565467834473,4.781508922576904,7.287457466125488,5.097393989562988,5.461757183074951,6.25747013092041,4.869422435760498,6.152663230895996,5.829398155212402,5.661557674407959,3.9259884357452393,2.6477057933807373,4.54535436630249,5.581532955169678,3.6505274772644043,3.73044490814209,4.401888847351074,4.320594787597656,6.2487053871154785,3.8190360069274902,4.329140663146973,4.764481544494629,4.8188886642456055,6.035133361816406,4.362377166748047,6.239252090454102,5.832531929016113,4.8295512199401855,2.668006420135498,4.366464614868164,5.000532627105713,4.441837787628174,6.228013515472412,4.000339031219482,4.066181182861328,3.5212137699127197,5.445558071136475,4.07552433013916,4.3881635665893555,4.817498683929443,5.92145299911499,4.484887599945068,5.35809850692749,6.027960777282715,3.929884910583496,3.7604568004608154,2.813105821609497,5.371314525604248,2.3115081787109375,5.154545783996582,2.6888651847839355,6.9417500495910645,1.7291120290756226,1.6791588068008423,5.208677291870117,2.7436697483062744,6.103893280029297,3.8510048389434814,1.7542579174041748,2.8072352409362793,2.2594919204711914,1.8015085458755493,3.7210662364959717,1.963479995727539,1.7777093648910522,3.777515411376953,7.441430568695068,2.2957634925842285,1.984689474105835,4.960231781005859,4.050913333892822,3.8607590198516846,2.0660388469696045,1.8471812009811401,1.8282389640808105,1.9731825590133667,1.6933521032333374],\"type\":\"scatter\"}],                        {\"template\":{\"data\":{\"histogram2dcontour\":[{\"type\":\"histogram2dcontour\",\"colorbar\":{\"outlinewidth\":0,\"ticks\":\"\"},\"colorscale\":[[0.0,\"#0d0887\"],[0.1111111111111111,\"#46039f\"],[0.2222222222222222,\"#7201a8\"],[0.3333333333333333,\"#9c179e\"],[0.4444444444444444,\"#bd3786\"],[0.5555555555555556,\"#d8576b\"],[0.6666666666666666,\"#ed7953\"],[0.7777777777777778,\"#fb9f3a\"],[0.8888888888888888,\"#fdca26\"],[1.0,\"#f0f921\"]]}],\"choropleth\":[{\"type\":\"choropleth\",\"colorbar\":{\"outlinewidth\":0,\"ticks\":\"\"}}],\"histogram2d\":[{\"type\":\"histogram2d\",\"colorbar\":{\"outlinewidth\":0,\"ticks\":\"\"},\"colorscale\":[[0.0,\"#0d0887\"],[0.1111111111111111,\"#46039f\"],[0.2222222222222222,\"#7201a8\"],[0.3333333333333333,\"#9c179e\"],[0.4444444444444444,\"#bd3786\"],[0.5555555555555556,\"#d8576b\"],[0.6666666666666666,\"#ed7953\"],[0.7777777777777778,\"#fb9f3a\"],[0.8888888888888888,\"#fdca26\"],[1.0,\"#f0f921\"]]}],\"heatmap\":[{\"type\":\"heatmap\",\"colorbar\":{\"outlinewidth\":0,\"ticks\":\"\"},\"colorscale\":[[0.0,\"#0d0887\"],[0.1111111111111111,\"#46039f\"],[0.2222222222222222,\"#7201a8\"],[0.3333333333333333,\"#9c179e\"],[0.4444444444444444,\"#bd3786\"],[0.5555555555555556,\"#d8576b\"],[0.6666666666666666,\"#ed7953\"],[0.7777777777777778,\"#fb9f3a\"],[0.8888888888888888,\"#fdca26\"],[1.0,\"#f0f921\"]]}],\"heatmapgl\":[{\"type\":\"heatmapgl\",\"colorbar\":{\"outlinewidth\":0,\"ticks\":\"\"},\"colorscale\":[[0.0,\"#0d0887\"],[0.1111111111111111,\"#46039f\"],[0.2222222222222222,\"#7201a8\"],[0.3333333333333333,\"#9c179e\"],[0.4444444444444444,\"#bd3786\"],[0.5555555555555556,\"#d8576b\"],[0.6666666666666666,\"#ed7953\"],[0.7777777777777778,\"#fb9f3a\"],[0.8888888888888888,\"#fdca26\"],[1.0,\"#f0f921\"]]}],\"contourcarpet\":[{\"type\":\"contourcarpet\",\"colorbar\":{\"outlinewidth\":0,\"ticks\":\"\"}}],\"contour\":[{\"type\":\"contour\",\"colorbar\":{\"outlinewidth\":0,\"ticks\":\"\"},\"colorscale\":[[0.0,\"#0d0887\"],[0.1111111111111111,\"#46039f\"],[0.2222222222222222,\"#7201a8\"],[0.3333333333333333,\"#9c179e\"],[0.4444444444444444,\"#bd3786\"],[0.5555555555555556,\"#d8576b\"],[0.6666666666666666,\"#ed7953\"],[0.7777777777777778,\"#fb9f3a\"],[0.8888888888888888,\"#fdca26\"],[1.0,\"#f0f921\"]]}],\"surface\":[{\"type\":\"surface\",\"colorbar\":{\"outlinewidth\":0,\"ticks\":\"\"},\"colorscale\":[[0.0,\"#0d0887\"],[0.1111111111111111,\"#46039f\"],[0.2222222222222222,\"#7201a8\"],[0.3333333333333333,\"#9c179e\"],[0.4444444444444444,\"#bd3786\"],[0.5555555555555556,\"#d8576b\"],[0.6666666666666666,\"#ed7953\"],[0.7777777777777778,\"#fb9f3a\"],[0.8888888888888888,\"#fdca26\"],[1.0,\"#f0f921\"]]}],\"mesh3d\":[{\"type\":\"mesh3d\",\"colorbar\":{\"outlinewidth\":0,\"ticks\":\"\"}}],\"scatter\":[{\"fillpattern\":{\"fillmode\":\"overlay\",\"size\":10,\"solidity\":0.2},\"type\":\"scatter\"}],\"parcoords\":[{\"type\":\"parcoords\",\"line\":{\"colorbar\":{\"outlinewidth\":0,\"ticks\":\"\"}}}],\"scatterpolargl\":[{\"type\":\"scatterpolargl\",\"marker\":{\"colorbar\":{\"outlinewidth\":0,\"ticks\":\"\"}}}],\"bar\":[{\"error_x\":{\"color\":\"#2a3f5f\"},\"error_y\":{\"color\":\"#2a3f5f\"},\"marker\":{\"line\":{\"color\":\"#E5ECF6\",\"width\":0.5},\"pattern\":{\"fillmode\":\"overlay\",\"size\":10,\"solidity\":0.2}},\"type\":\"bar\"}],\"scattergeo\":[{\"type\":\"scattergeo\",\"marker\":{\"colorbar\":{\"outlinewidth\":0,\"ticks\":\"\"}}}],\"scatterpolar\":[{\"type\":\"scatterpolar\",\"marker\":{\"colorbar\":{\"outlinewidth\":0,\"ticks\":\"\"}}}],\"histogram\":[{\"marker\":{\"pattern\":{\"fillmode\":\"overlay\",\"size\":10,\"solidity\":0.2}},\"type\":\"histogram\"}],\"scattergl\":[{\"type\":\"scattergl\",\"marker\":{\"colorbar\":{\"outlinewidth\":0,\"ticks\":\"\"}}}],\"scatter3d\":[{\"type\":\"scatter3d\",\"line\":{\"colorbar\":{\"outlinewidth\":0,\"ticks\":\"\"}},\"marker\":{\"colorbar\":{\"outlinewidth\":0,\"ticks\":\"\"}}}],\"scattermapbox\":[{\"type\":\"scattermapbox\",\"marker\":{\"colorbar\":{\"outlinewidth\":0,\"ticks\":\"\"}}}],\"scatterternary\":[{\"type\":\"scatterternary\",\"marker\":{\"colorbar\":{\"outlinewidth\":0,\"ticks\":\"\"}}}],\"scattercarpet\":[{\"type\":\"scattercarpet\",\"marker\":{\"colorbar\":{\"outlinewidth\":0,\"ticks\":\"\"}}}],\"carpet\":[{\"aaxis\":{\"endlinecolor\":\"#2a3f5f\",\"gridcolor\":\"white\",\"linecolor\":\"white\",\"minorgridcolor\":\"white\",\"startlinecolor\":\"#2a3f5f\"},\"baxis\":{\"endlinecolor\":\"#2a3f5f\",\"gridcolor\":\"white\",\"linecolor\":\"white\",\"minorgridcolor\":\"white\",\"startlinecolor\":\"#2a3f5f\"},\"type\":\"carpet\"}],\"table\":[{\"cells\":{\"fill\":{\"color\":\"#EBF0F8\"},\"line\":{\"color\":\"white\"}},\"header\":{\"fill\":{\"color\":\"#C8D4E3\"},\"line\":{\"color\":\"white\"}},\"type\":\"table\"}],\"barpolar\":[{\"marker\":{\"line\":{\"color\":\"#E5ECF6\",\"width\":0.5},\"pattern\":{\"fillmode\":\"overlay\",\"size\":10,\"solidity\":0.2}},\"type\":\"barpolar\"}],\"pie\":[{\"automargin\":true,\"type\":\"pie\"}]},\"layout\":{\"autotypenumbers\":\"strict\",\"colorway\":[\"#636efa\",\"#EF553B\",\"#00cc96\",\"#ab63fa\",\"#FFA15A\",\"#19d3f3\",\"#FF6692\",\"#B6E880\",\"#FF97FF\",\"#FECB52\"],\"font\":{\"color\":\"#2a3f5f\"},\"hovermode\":\"closest\",\"hoverlabel\":{\"align\":\"left\"},\"paper_bgcolor\":\"white\",\"plot_bgcolor\":\"#E5ECF6\",\"polar\":{\"bgcolor\":\"#E5ECF6\",\"angularaxis\":{\"gridcolor\":\"white\",\"linecolor\":\"white\",\"ticks\":\"\"},\"radialaxis\":{\"gridcolor\":\"white\",\"linecolor\":\"white\",\"ticks\":\"\"}},\"ternary\":{\"bgcolor\":\"#E5ECF6\",\"aaxis\":{\"gridcolor\":\"white\",\"linecolor\":\"white\",\"ticks\":\"\"},\"baxis\":{\"gridcolor\":\"white\",\"linecolor\":\"white\",\"ticks\":\"\"},\"caxis\":{\"gridcolor\":\"white\",\"linecolor\":\"white\",\"ticks\":\"\"}},\"coloraxis\":{\"colorbar\":{\"outlinewidth\":0,\"ticks\":\"\"}},\"colorscale\":{\"sequential\":[[0.0,\"#0d0887\"],[0.1111111111111111,\"#46039f\"],[0.2222222222222222,\"#7201a8\"],[0.3333333333333333,\"#9c179e\"],[0.4444444444444444,\"#bd3786\"],[0.5555555555555556,\"#d8576b\"],[0.6666666666666666,\"#ed7953\"],[0.7777777777777778,\"#fb9f3a\"],[0.8888888888888888,\"#fdca26\"],[1.0,\"#f0f921\"]],\"sequentialminus\":[[0.0,\"#0d0887\"],[0.1111111111111111,\"#46039f\"],[0.2222222222222222,\"#7201a8\"],[0.3333333333333333,\"#9c179e\"],[0.4444444444444444,\"#bd3786\"],[0.5555555555555556,\"#d8576b\"],[0.6666666666666666,\"#ed7953\"],[0.7777777777777778,\"#fb9f3a\"],[0.8888888888888888,\"#fdca26\"],[1.0,\"#f0f921\"]],\"diverging\":[[0,\"#8e0152\"],[0.1,\"#c51b7d\"],[0.2,\"#de77ae\"],[0.3,\"#f1b6da\"],[0.4,\"#fde0ef\"],[0.5,\"#f7f7f7\"],[0.6,\"#e6f5d0\"],[0.7,\"#b8e186\"],[0.8,\"#7fbc41\"],[0.9,\"#4d9221\"],[1,\"#276419\"]]},\"xaxis\":{\"gridcolor\":\"white\",\"linecolor\":\"white\",\"ticks\":\"\",\"title\":{\"standoff\":15},\"zerolinecolor\":\"white\",\"automargin\":true,\"zerolinewidth\":2},\"yaxis\":{\"gridcolor\":\"white\",\"linecolor\":\"white\",\"ticks\":\"\",\"title\":{\"standoff\":15},\"zerolinecolor\":\"white\",\"automargin\":true,\"zerolinewidth\":2},\"scene\":{\"xaxis\":{\"backgroundcolor\":\"#E5ECF6\",\"gridcolor\":\"white\",\"linecolor\":\"white\",\"showbackground\":true,\"ticks\":\"\",\"zerolinecolor\":\"white\",\"gridwidth\":2},\"yaxis\":{\"backgroundcolor\":\"#E5ECF6\",\"gridcolor\":\"white\",\"linecolor\":\"white\",\"showbackground\":true,\"ticks\":\"\",\"zerolinecolor\":\"white\",\"gridwidth\":2},\"zaxis\":{\"backgroundcolor\":\"#E5ECF6\",\"gridcolor\":\"white\",\"linecolor\":\"white\",\"showbackground\":true,\"ticks\":\"\",\"zerolinecolor\":\"white\",\"gridwidth\":2}},\"shapedefaults\":{\"line\":{\"color\":\"#2a3f5f\"}},\"annotationdefaults\":{\"arrowcolor\":\"#2a3f5f\",\"arrowhead\":0,\"arrowwidth\":1},\"geo\":{\"bgcolor\":\"white\",\"landcolor\":\"#E5ECF6\",\"subunitcolor\":\"white\",\"showland\":true,\"showlakes\":true,\"lakecolor\":\"white\"},\"title\":{\"x\":0.05},\"mapbox\":{\"style\":\"light\"}}}},                        {\"responsive\": true}                    ).then(function(){\n",
              "                            \n",
              "var gd = document.getElementById('de7c69d1-1fe2-4141-aace-3c39d97a72bb');\n",
              "var x = new MutationObserver(function (mutations, observer) {{\n",
              "        var display = window.getComputedStyle(gd).display;\n",
              "        if (!display || display === 'none') {{\n",
              "            console.log([gd, 'removed!']);\n",
              "            Plotly.purge(gd);\n",
              "            observer.disconnect();\n",
              "        }}\n",
              "}});\n",
              "\n",
              "// Listen for the removal of the full notebook cells\n",
              "var notebookContainer = gd.closest('#notebook-container');\n",
              "if (notebookContainer) {{\n",
              "    x.observe(notebookContainer, {childList: true});\n",
              "}}\n",
              "\n",
              "// Listen for the clearing of the current output cell\n",
              "var outputEl = gd.closest('.output');\n",
              "if (outputEl) {{\n",
              "    x.observe(outputEl, {childList: true});\n",
              "}}\n",
              "\n",
              "                        })                };                            </script>        </div>\n",
              "</body>\n",
              "</html>"
            ]
          },
          "metadata": {}
        }
      ]
    },
    {
      "cell_type": "code",
      "source": [
        "# Calculate the number of data points in each cluster\n",
        "cluster_counts = np.bincount(kmeans.labels_)\n",
        "\n",
        "# Print the number of data points in each cluster\n",
        "print(cluster_counts)"
      ],
      "metadata": {
        "id": "f1ACTEf6iDr8"
      },
      "execution_count": null,
      "outputs": []
    },
    {
      "cell_type": "code",
      "source": [
        "#silhouette score for umap_embeddings( Kmeans)\n",
        "\n",
        "silhouette_score = silhouette_score(umap_embeddings, kmeans.labels_)\n",
        "print(f\"Silhouette score for KMeans on umap_embeddings_scaled2: {silhouette_score}\")\n"
      ],
      "metadata": {
        "colab": {
          "base_uri": "https://localhost:8080/"
        },
        "id": "1-EnoHTzEGnp",
        "outputId": "be1cdb91-20be-455d-dfbd-a8bed5caafa3"
      },
      "execution_count": null,
      "outputs": [
        {
          "output_type": "stream",
          "name": "stdout",
          "text": [
            "Silhouette score for KMeans on umap_embeddings_scaled2: 0.5372243523597717\n"
          ]
        }
      ]
    },
    {
      "cell_type": "code",
      "source": [
        "# Creating the empty list and then storing 5 random integers in rand_ints\n",
        "list_dfs = []\n",
        "np.random.seed(0)\n",
        "rand_ints = np.random.randint(100, 101, 15)\n",
        "rand_ints"
      ],
      "metadata": {
        "colab": {
          "base_uri": "https://localhost:8080/"
        },
        "id": "SfKxKm0Sr6xY",
        "outputId": "d1af5f79-a0c6-4541-8f70-9b8be2520726"
      },
      "execution_count": null,
      "outputs": [
        {
          "output_type": "execute_result",
          "data": {
            "text/plain": [
              "array([100, 100, 100, 100, 100, 100, 100, 100, 100, 100, 100, 100, 100,\n",
              "       100, 100])"
            ]
          },
          "metadata": {},
          "execution_count": 54
        }
      ]
    },
    {
      "cell_type": "code",
      "source": [
        "# Using loop, we are appending the summaries from the first five terms of list_unique_terms to list_dfs\n",
        "# And the number of summaries appended from each term is taken from rand_ints\n",
        "for i, r in zip(range(15), rand_ints):\n",
        "    x = df[df['terms'] == list_unique_terms[i]]\n",
        "    list_dfs.append(x['summaries'][:r])"
      ],
      "metadata": {
        "id": "OKz7qbjssC_t"
      },
      "execution_count": null,
      "outputs": []
    },
    {
      "cell_type": "code",
      "source": [
        "# Storing the summaries in df5 and ignoring the index values and then printing the shape of df5.\n",
        "df5 = pd.DataFrame(pd.concat(list_dfs, ignore_index=True))\n",
        "df5.shape"
      ],
      "metadata": {
        "colab": {
          "base_uri": "https://localhost:8080/"
        },
        "id": "VmE5MYnDsKwR",
        "outputId": "330195df-5ab6-4f4a-e59d-1636861637a5"
      },
      "execution_count": null,
      "outputs": [
        {
          "output_type": "execute_result",
          "data": {
            "text/plain": [
              "(1000, 1)"
            ]
          },
          "metadata": {},
          "execution_count": 56
        }
      ]
    },
    {
      "cell_type": "code",
      "source": [
        "#Creating the embeddings for clustering\n",
        "embeddingsnew = []\n",
        "for i in range(0, len(df5), 96):\n",
        "  texts = df5[\"summaries\"][i:i+96].tolist()\n",
        "  response = co.embed(\n",
        "    texts=texts,\n",
        "    model='embed-english-v3.0',\n",
        "    input_type='clustering'\n",
        "  )\n",
        "  for j in enumerate(response.embeddings):\n",
        "    embeddingsnew.append(j[1])"
      ],
      "metadata": {
        "id": "WBfb9jeVsUSH"
      },
      "execution_count": null,
      "outputs": []
    },
    {
      "cell_type": "code",
      "source": [
        "len(embeddingsnew)"
      ],
      "metadata": {
        "colab": {
          "base_uri": "https://localhost:8080/"
        },
        "id": "bDYdTYkQsjDn",
        "outputId": "2f855728-de2f-4b19-f452-e5dda25e985f"
      },
      "execution_count": null,
      "outputs": [
        {
          "output_type": "execute_result",
          "data": {
            "text/plain": [
              "1000"
            ]
          },
          "metadata": {},
          "execution_count": 58
        }
      ]
    },
    {
      "cell_type": "code",
      "source": [
        "#Performing UMAP on embeddingsnew\n",
        "reducer = umap.UMAP(n_neighbors=10, min_dist=0.1, n_components=2)\n",
        "umap_embeddingsnew = reducer.fit_transform(embeddingsnew)\n",
        "umap_embeddingsnew"
      ],
      "metadata": {
        "colab": {
          "base_uri": "https://localhost:8080/"
        },
        "id": "pBOKBbdDspDN",
        "outputId": "1ae603a1-eb25-45fe-f284-40ab11d6849b"
      },
      "execution_count": null,
      "outputs": [
        {
          "output_type": "execute_result",
          "data": {
            "text/plain": [
              "array([[6.0834403 , 0.95186627],\n",
              "       [7.3195434 , 1.0689733 ],\n",
              "       [7.6037145 , 1.2477217 ],\n",
              "       ...,\n",
              "       [2.440722  , 6.3087554 ],\n",
              "       [2.5021975 , 7.247731  ],\n",
              "       [2.4258153 , 7.1120033 ]], dtype=float32)"
            ]
          },
          "metadata": {},
          "execution_count": 59
        }
      ]
    },
    {
      "cell_type": "code",
      "source": [
        "type(umap_embeddingsnew)"
      ],
      "metadata": {
        "colab": {
          "base_uri": "https://localhost:8080/"
        },
        "id": "c2qg7uMNvYlL",
        "outputId": "798b2276-ac02-48b3-e483-b2e3ec34e0d7"
      },
      "execution_count": null,
      "outputs": [
        {
          "output_type": "execute_result",
          "data": {
            "text/plain": [
              "numpy.ndarray"
            ]
          },
          "metadata": {},
          "execution_count": 60
        }
      ]
    },
    {
      "cell_type": "code",
      "source": [
        "# prompt: silhuette score vs number of clusters graph for umap_embeddings for spectral clustering\n",
        "\n",
        "import matplotlib.pyplot as plt\n",
        "silhouettes = []\n",
        "for n_clusters in range(2, 15):\n",
        "    clusterer = SpectralClustering(n_clusters=n_clusters, affinity = 'rbf',eigen_solver='arpack')\n",
        "    cluster_labels = clusterer.fit_predict(umap_embeddingsnew)\n",
        "    silhouette_avg = silhouette_score(umap_embeddingsnew, cluster_labels)\n",
        "    silhouettes.append(silhouette_avg)\n",
        "\n",
        "plt.plot(range(2, 15), silhouettes, 'bx-')\n",
        "plt.xlabel('Number of clusters')\n",
        "plt.ylabel('Silhouette score')\n",
        "plt.title('Silhouette score vs. number of clusters for Spectral Clustering')\n",
        "plt.show()\n"
      ],
      "metadata": {
        "id": "hAaTg2bwuQSR"
      },
      "execution_count": null,
      "outputs": []
    },
    {
      "cell_type": "code",
      "source": [
        "#Performing the spectral clustering on umap_embeddings\n",
        "spectral_model = SpectralClustering(n_clusters=10,affinity = 'rbf',eigen_solver='arpack' )\n",
        "cluster_labels = spectral_model.fit_predict(umap_embeddingsnew)\n",
        "#Visualizing the 3d plot using plotly\n",
        "fig = go.Figure(data=[go.Scatter(x=umap_embeddingsnew[:, 0], y=umap_embeddingsnew[:, 1],\n",
        "                               mode='markers',\n",
        "                               marker=dict(\n",
        "                                   size=12,\n",
        "                                   color=cluster_labels,                # set color to an array/list of desired values\n",
        "                                   colorscale='viridis',   # choose a colorscale\n",
        "                                   opacity=0.8\n",
        "                               )\n",
        "                              )])\n",
        "\n",
        "fig.show()"
      ],
      "metadata": {
        "colab": {
          "base_uri": "https://localhost:8080/",
          "height": 542
        },
        "id": "abhfEKYZvHlP",
        "outputId": "09fb34af-0d00-4db0-a924-b1ef67208551"
      },
      "execution_count": null,
      "outputs": [
        {
          "output_type": "display_data",
          "data": {
            "text/html": [
              "<html>\n",
              "<head><meta charset=\"utf-8\" /></head>\n",
              "<body>\n",
              "    <div>            <script src=\"https://cdnjs.cloudflare.com/ajax/libs/mathjax/2.7.5/MathJax.js?config=TeX-AMS-MML_SVG\"></script><script type=\"text/javascript\">if (window.MathJax && window.MathJax.Hub && window.MathJax.Hub.Config) {window.MathJax.Hub.Config({SVG: {font: \"STIX-Web\"}});}</script>                <script type=\"text/javascript\">window.PlotlyConfig = {MathJaxConfig: 'local'};</script>\n",
              "        <script charset=\"utf-8\" src=\"https://cdn.plot.ly/plotly-2.24.1.min.js\"></script>                <div id=\"c5b619a9-fa4b-434a-a5ea-7fd3792d15a1\" class=\"plotly-graph-div\" style=\"height:525px; width:100%;\"></div>            <script type=\"text/javascript\">                                    window.PLOTLYENV=window.PLOTLYENV || {};                                    if (document.getElementById(\"c5b619a9-fa4b-434a-a5ea-7fd3792d15a1\")) {                    Plotly.newPlot(                        \"c5b619a9-fa4b-434a-a5ea-7fd3792d15a1\",                        [{\"marker\":{\"color\":[7,7,7,3,3,2,9,3,2,8,4,3,4,8,3,2,3,1,3,2,3,3,3,2,8,2,2,3,2,2,8,2,7,2,3,2,3,2,9,2,3,2,3,3,3,3,8,2,3,8,3,1,2,8,9,3,3,3,2,2,2,3,3,3,2,0,3,2,2,3,2,2,2,2,2,4,4,4,0,4,4,3,4,4,4,3,4,2,3,9,4,2,0,0,4,4,4,3,7,2,3,2,3,7,2,0,3,3,2,8,3,2,2,4,7,4,4,4,4,3,4,3,4,0,4,4,4,7,4,4,3,4,9,4,4,7,4,4,6,6,3,3,4,4,3,6,4,4,4,7,4,0,9,9,9,0,0,1,9,9,3,9,9,9,3,9,7,7,7,4,0,0,0,7,7,7,2,4,0,0,0,0,7,0,0,0,0,7,0,7,0,0,0,0,8,4,7,0,0,0,3,3,6,3,3,9,2,3,2,3,2,3,7,3,2,9,2,2,2,3,3,2,3,7,3,2,3,2,2,0,2,3,8,7,3,2,2,9,3,0,4,4,4,4,3,4,4,7,4,0,4,0,4,4,4,4,9,4,8,4,9,4,0,3,9,7,0,4,4,9,3,4,9,3,4,4,3,9,1,9,9,9,9,3,7,9,9,9,9,2,9,9,9,7,9,7,0,9,0,0,3,8,3,3,3,3,3,3,3,3,2,2,2,3,2,2,2,3,2,3,2,3,2,3,3,3,3,3,3,2,8,2,3,2,3,3,2,2,3,3,3,3,3,3,3,3,4,3,2,3,3,3,2,3,7,2,3,8,3,3,2,3,3,2,3,9,3,3,3,3,3,2,2,3,3,2,3,7,2,2,0,2,3,3,2,2,1,3,3,2,3,9,2,2,2,3,3,3,3,3,3,8,2,9,4,2,7,0,0,0,4,0,4,0,7,0,0,7,0,7,0,4,9,0,0,0,0,0,0,7,0,0,4,0,9,0,0,0,0,0,2,2,3,2,3,2,2,8,2,4,4,9,3,9,7,7,7,7,7,2,7,7,7,0,3,0,9,3,9,9,3,9,9,0,0,1,7,0,9,0,2,0,9,0,2,7,9,4,0,8,3,2,2,3,3,8,2,8,3,3,3,3,8,8,2,8,2,9,2,3,3,2,3,2,3,3,3,3,3,2,2,9,3,3,3,3,3,2,3,9,3,7,4,3,0,3,4,7,9,3,3,7,4,7,4,3,0,3,4,7,0,4,9,9,9,3,9,9,8,9,9,9,3,9,9,9,8,9,0,9,7,9,9,9,9,9,9,9,8,3,9,9,9,9,9,9,9,2,9,9,2,8,8,6,4,4,4,2,2,2,4,4,4,5,5,4,5,6,5,4,4,4,5,6,4,6,5,6,5,4,5,6,4,6,9,5,7,5,5,0,4,5,5,4,5,5,4,5,5,5,5,4,5,5,2,5,5,6,6,5,6,4,4,4,5,5,5,5,4,5,5,5,6,6,4,5,5,5,5,5,5,4,6,4,4,4,3,7,4,6,5,4,6,3,4,4,4,4,5,5,6,4,6,4,2,7,7,2,7,2,7,7,7,1,7,7,7,7,0,7,7,3,6,7,7,0,7,8,8,7,7,7,7,7,7,4,7,7,7,7,7,7,7,7,7,7,7,7,7,7,7,1,7,7,7,7,7,7,7,7,7,7,7,7,0,7,7,7,7,7,7,7,7,7,7,7,7,2,7,7,7,7,7,7,7,1,7,7,7,7,7,7,7,7,7,7,7,7,7,7,7,7,8,7,7,3,8,3,8,3,2,3,3,3,3,2,9,3,3,2,3,3,2,8,3,8,9,3,2,1,8,3,1,3,2,2,3,8,3,2,3,3,3,3,3,3,3,2,3,3,8,9,0,3,3,3,4,3,9,7,7,4,9,9,9,9,9,9,8,9,9,9,9,8,1,4,9,9,2,9,9,9,9,9,9,3,9,9,7,9,9,9,9,9,3,3,9,9,7,7,7,7,7,3,7,3,2,3,2,7,2,7,9,9,6,6,6,5,6,6,6,6,6,6,6,6,6,6,6,9,6,6,6,6,6,6,6,6,6,6,9,6,6,6,6,6,6,6,6,6,6,6,6,6,6,6,6,6,6,6,6,6,6,6,6,6,6,6,6,6,6,6,6,6,6,6,6,6,6,6,6,6,6,6,6,6,6,6,6,6,6,6,6,6,6,6,6,6,6,6,6,6,6,6,6,6,6,6,6,6],\"colorscale\":[[0.0,\"#440154\"],[0.1111111111111111,\"#482878\"],[0.2222222222222222,\"#3e4989\"],[0.3333333333333333,\"#31688e\"],[0.4444444444444444,\"#26828e\"],[0.5555555555555556,\"#1f9e89\"],[0.6666666666666666,\"#35b779\"],[0.7777777777777778,\"#6ece58\"],[0.8888888888888888,\"#b5de2b\"],[1.0,\"#fde725\"]],\"opacity\":0.8,\"size\":12},\"mode\":\"markers\",\"x\":[6.08344030380249,7.319543361663818,7.603714466094971,9.901268005371094,9.538737297058105,8.184049606323242,4.092231273651123,9.696866989135742,8.24404239654541,9.279969215393066,7.230502128601074,9.186574935913086,6.391885757446289,9.297333717346191,9.933418273925781,9.533000946044922,9.567330360412598,10.435369491577148,9.834120750427246,8.569555282592773,9.730424880981445,10.06324291229248,10.596992492675781,8.667609214782715,9.164610862731934,8.929990768432617,9.472478866577148,9.404082298278809,8.86017894744873,9.239236831665039,8.4188871383667,8.373741149902344,7.478188991546631,8.913708686828613,10.582520484924316,8.850885391235352,10.253851890563965,9.656503677368164,3.741011619567871,8.551352500915527,10.119365692138672,8.546746253967285,10.096111297607422,9.985108375549316,10.36937141418457,9.950490951538086,9.315144538879395,8.469104766845703,9.65959358215332,9.184049606323242,9.440680503845215,10.421765327453613,7.9319047927856445,9.312080383300781,2.95253324508667,10.618626594543457,10.492767333984375,10.641589164733887,8.606575965881348,8.660089492797852,8.506750106811523,10.446500778198242,10.572205543518066,10.530888557434082,8.710229873657227,6.606156349182129,10.732598304748535,8.817286491394043,8.946163177490234,10.054883003234863,8.448722839355469,8.613397598266602,8.29936408996582,8.51785659790039,10.048102378845215,7.060286045074463,6.311685562133789,4.941481113433838,7.051399230957031,6.245856285095215,4.764623165130615,10.704523086547852,5.384798049926758,4.86878776550293,6.169398784637451,10.028910636901855,5.701414108276367,8.680001258850098,9.9713716506958,3.1098382472991943,7.019360065460205,8.049511909484863,5.018362045288086,5.361156463623047,6.269640922546387,5.949141502380371,6.962561130523682,10.07088565826416,7.801608085632324,7.7784743309021,10.193044662475586,8.39730453491211,9.817937850952148,7.426136493682861,8.02845287322998,6.682965278625488,10.0075101852417,10.45966911315918,8.168946266174316,9.12898063659668,9.91327953338623,9.857906341552734,9.25096321105957,6.087894916534424,6.68477201461792,5.341461658477783,5.6663031578063965,5.52831506729126,5.790768623352051,10.570985794067383,6.41138219833374,10.741400718688965,5.577203750610352,7.027980327606201,6.15905237197876,5.7310614585876465,6.250485897064209,5.4484944343566895,6.406190872192383,4.942307949066162,10.2736234664917,5.363031387329102,4.653776168823242,5.599010467529297,5.832724571228027,5.794865131378174,5.513439655303955,5.5539350509643555,3.1201555728912354,3.4978647232055664,10.23464298248291,10.070015907287598,6.105931282043457,5.350456714630127,10.171122550964355,3.550238609313965,6.3095197677612305,6.990675449371338,6.2224907875061035,6.357152462005615,6.256374359130859,7.174774646759033,3.98298978805542,4.165373802185059,4.122929573059082,4.936640739440918,4.941321849822998,10.426271438598633,3.972534418106079,4.089735984802246,10.794096946716309,4.118060111999512,3.8648369312286377,3.48718523979187,10.32102108001709,3.157003164291382,7.297214031219482,7.454410076141357,6.073482990264893,5.540409088134766,7.093920707702637,6.716089725494385,6.680386543273926,7.474147796630859,6.310818672180176,5.9376068115234375,7.908929347991943,5.703865051269531,6.6470842361450195,7.200831890106201,6.72614049911499,7.07017183303833,6.716625690460205,6.773738861083984,6.964655876159668,6.969614505767822,7.003695964813232,7.963996410369873,6.939784526824951,7.466382026672363,6.547736167907715,6.76222562789917,7.087245464324951,6.940281867980957,8.451931953430176,5.433792591094971,7.117743015289307,6.896747589111328,5.645781993865967,7.219658851623535,9.708243370056152,10.419051170349121,3.641225576400757,11.179182052612305,10.310187339782715,3.81584095954895,8.448511123657227,11.115690231323242,8.880840301513672,9.912074089050293,8.207283020019531,9.624320983886719,7.213520050048828,10.560267448425293,8.722481727600098,3.9249966144561768,10.034879684448242,8.665565490722656,8.706684112548828,10.250686645507812,9.422203063964844,8.6236572265625,10.185195922851562,7.845231533050537,9.7935152053833,8.349864959716797,9.391905784606934,8.086526870727539,8.539847373962402,6.740386962890625,9.780046463012695,10.626193046569824,9.353459358215332,7.443172454833984,10.653276443481445,9.954473495483398,9.759915351867676,4.626891613006592,10.018433570861816,5.112193584442139,5.494020938873291,6.06731653213501,7.006336688995361,6.049066543579102,10.54708480834961,5.545126438140869,6.363624095916748,7.235523700714111,5.277829647064209,5.051358222961426,4.806288242340088,5.454634666442871,5.525491237640381,7.069695472717285,4.552297592163086,5.918344497680664,4.72842264175415,6.988682270050049,8.273346900939941,6.445991516113281,4.417046546936035,6.201754093170166,5.042121887207031,10.668890953063965,3.436051845550537,5.571278095245361,5.609821319580078,5.765144348144531,6.21543550491333,3.517709255218506,10.009215354919434,7.482403755187988,4.740744113922119,10.595369338989258,6.269215106964111,6.213525772094727,9.748941421508789,4.402332782745361,10.471295356750488,4.302343368530273,4.592005729675293,3.219071626663208,3.069641351699829,10.612163543701172,7.456279277801514,3.5597028732299805,3.5106117725372314,4.3716278076171875,4.503267288208008,8.19443416595459,4.1368889808654785,3.685048818588257,4.470346450805664,7.2152886390686035,3.9673373699188232,8.081153869628906,7.178378582000732,4.952590465545654,7.149028301239014,7.450582027435303,9.756550788879395,8.912097930908203,9.547236442565918,10.029999732971191,11.32634162902832,9.736359596252441,10.039274215698242,9.76889705657959,9.2931547164917,11.241215705871582,8.074490547180176,9.108255386352539,8.47596549987793,9.463775634765625,8.70495891571045,8.53243637084961,7.49685001373291,9.925682067871094,7.485802173614502,9.87242603302002,8.381254196166992,10.047436714172363,8.602104187011719,9.904982566833496,9.934877395629883,9.28849983215332,10.05314826965332,9.854182243347168,9.751187324523926,8.670649528503418,8.406765937805176,8.050104141235352,9.624232292175293,8.469799041748047,9.964134216308594,11.329912185668945,8.784292221069336,9.938770294189453,9.728780746459961,10.15534496307373,9.949735641479492,9.335291862487793,9.612038612365723,9.845166206359863,11.282929420471191,10.191276550292969,7.145637035369873,11.2872953414917,8.18999195098877,9.911591529846191,9.857171058654785,9.880228042602539,8.305301666259766,11.268290519714355,6.71293306350708,9.410248756408691,9.747913360595703,9.08263874053955,9.777976036071777,9.54845905303955,9.979228973388672,10.030031204223633,10.032975196838379,7.478977203369141,10.430767059326172,3.760960340499878,11.334609985351562,9.886269569396973,9.924187660217285,9.836275100708008,9.803506851196289,8.574811935424805,8.552176475524902,10.332195281982422,10.464456558227539,9.988983154296875,9.57916259765625,7.413405418395996,8.76438045501709,8.728500366210938,6.091653347015381,9.86380672454834,10.026005744934082,10.146017074584961,8.658761024475098,7.255373954772949,10.410261154174805,9.941171646118164,9.539224624633789,8.603297233581543,10.424511909484863,4.733790397644043,8.429344177246094,8.173731803894043,8.036144256591797,10.48514461517334,9.535338401794434,9.345894813537598,10.573786735534668,10.306665420532227,10.311972618103027,9.162064552307129,10.028944969177246,4.51073694229126,6.237375259399414,8.932759284973145,6.765731334686279,6.405992031097412,6.189746856689453,6.035068988800049,6.2956671714782715,5.557596683502197,6.000966548919678,5.885335922241211,7.151706218719482,5.865774154663086,5.8981828689575195,6.824979782104492,6.078727722167969,6.631072998046875,6.286850452423096,5.757816791534424,3.00547194480896,5.716701030731201,5.852136135101318,6.124034881591797,5.8223652839660645,5.850406646728516,6.210729122161865,7.463277339935303,5.655592441558838,5.795561790466309,6.322701454162598,6.457745552062988,3.576348304748535,5.894838809967041,5.854770660400391,5.847264289855957,5.808009147644043,5.875312805175781,9.808965682983398,8.351574897766113,10.133301734924316,8.993327140808105,10.766215324401855,10.024225234985352,10.018806457519531,8.533764839172363,9.838218688964844,6.829402923583984,5.7725958824157715,3.626659870147705,10.20738410949707,3.950613021850586,7.0387797355651855,7.281166076660156,6.951820373535156,7.074216365814209,7.154693603515625,7.905374050140381,6.992700099945068,7.210972309112549,8.16275405883789,5.507458209991455,8.809985160827637,5.8301873207092285,4.515838623046875,8.843648910522461,4.274612903594971,2.9694674015045166,10.695595741271973,4.1946892738342285,3.5918307304382324,5.267671585083008,6.578798294067383,10.42394733428955,7.140771389007568,6.110988616943359,3.3897461891174316,6.304153919219971,7.928127765655518,5.207393169403076,4.810042858123779,5.373880386352539,8.110369682312012,5.6512322425842285,3.104558229446411,6.2546563148498535,5.912644386291504,9.379331588745117,11.072056770324707,8.6621732711792,9.231821060180664,9.239994049072266,9.86250114440918,9.33249568939209,8.381573677062988,8.581365585327148,10.28713321685791,9.783459663391113,9.956092834472656,10.813763618469238,9.32597827911377,9.160252571105957,9.856501579284668,9.375893592834473,8.530858993530273,3.4559059143066406,8.571043968200684,9.528620719909668,10.238272666931152,8.348621368408203,9.556615829467773,8.246517181396484,9.702128410339355,9.893948554992676,10.259835243225098,9.820575714111328,9.70233154296875,8.333407402038574,8.793248176574707,3.5089211463928223,10.68669605255127,9.563186645507812,10.508378982543945,9.539259910583496,10.581987380981445,8.29224967956543,9.69970989227295,2.998979330062866,9.960894584655762,7.996095657348633,7.449453830718994,10.622236251831055,5.4813408851623535,10.201116561889648,6.214268684387207,5.445496559143066,4.350322246551514,9.352269172668457,10.567309379577637,5.517427444458008,5.765271186828613,5.566928386688232,5.544164180755615,8.792196273803711,5.4612040519714355,10.185404777526855,6.757770538330078,7.328068256378174,7.0224738121032715,6.224847316741943,4.348625659942627,4.784618854522705,4.157078266143799,9.320028305053711,3.875523328781128,4.258845806121826,9.09616756439209,3.6788012981414795,3.9616687297821045,4.536544322967529,8.924731254577637,3.6933164596557617,3.470060348510742,3.765916109085083,9.045435905456543,3.587456703186035,5.950933933258057,4.188684940338135,5.587792873382568,4.385610103607178,4.378133296966553,3.8723676204681396,3.4422266483306885,4.090841770172119,4.200161457061768,3.7326173782348633,9.106903076171875,8.98635196685791,3.8189563751220703,3.7696259021759033,3.5488765239715576,3.6646006107330322,3.934288501739502,4.044087886810303,3.7199246883392334,7.963517665863037,3.9376285076141357,4.11095666885376,9.239221572875977,8.83053970336914,9.11844539642334,2.621058940887451,7.481140613555908,5.906975269317627,6.797226428985596,8.519144058227539,8.87685489654541,8.062858581542969,7.230249404907227,6.857972621917725,7.098956108093262,2.7919771671295166,2.410778284072876,5.200870037078857,2.5406742095947266,2.244915008544922,2.4668333530426025,4.813712120056152,5.122849941253662,4.435982704162598,2.5938303470611572,2.6073014736175537,4.503173828125,2.292701005935669,2.83333683013916,2.8276286125183105,2.8753855228424072,6.083900451660156,2.753153085708618,2.9108810424804688,5.295040607452393,2.2787952423095703,4.249840259552002,2.5855050086975098,7.419900417327881,2.65027117729187,2.5883097648620605,5.309591293334961,5.458352565765381,2.5614123344421387,2.4170992374420166,4.801689147949219,2.619826555252075,2.6418604850769043,4.934942722320557,2.709256410598755,2.3557989597320557,2.4266064167022705,2.8409080505371094,5.691943645477295,2.371183156967163,2.6356592178344727,7.9056010246276855,2.634747266769409,2.46614408493042,3.683762311935425,3.494497299194336,2.69963002204895,3.444903612136841,4.869613170623779,5.269901752471924,5.437397480010986,2.4203953742980957,2.642807960510254,2.6611897945404053,2.762197732925415,4.923612117767334,2.5092058181762695,2.738518476486206,2.675565004348755,3.295849561691284,2.1362802982330322,6.951643466949463,2.701913833618164,2.339128255844116,2.600785493850708,2.7820651531219482,2.6474857330322266,2.6182072162628174,4.819025039672852,3.365334987640381,4.962721347808838,4.9048895835876465,4.834713459014893,10.180788040161133,5.359624862670898,5.718591213226318,3.447112560272217,2.8634755611419678,5.263620853424072,2.713919162750244,10.176420211791992,4.790910720825195,5.915771484375,5.2055745124816895,5.397189617156982,2.4728665351867676,2.66223406791687,3.5389516353607178,4.417059421539307,2.2612128257751465,5.186357498168945,9.829535484313965,7.134736061096191,7.869765281677246,8.409867286682129,7.666228294372559,8.141653060913086,6.410200119018555,6.4218974113464355,6.322823524475098,10.45920467376709,6.429527759552002,5.650534629821777,6.393643856048584,5.93472146987915,5.846774101257324,6.446706295013428,6.596586227416992,10.453977584838867,3.500424861907959,6.653345584869385,5.578667163848877,5.926456451416016,7.945017337799072,8.501907348632812,8.136699676513672,6.107505798339844,6.5852952003479,7.048113822937012,6.270682334899902,5.971041679382324,7.091887474060059,5.8696489334106445,7.222618579864502,7.321683406829834,7.36011266708374,6.414833068847656,7.303439617156982,7.174182415008545,7.2578606605529785,7.262215614318848,6.873168468475342,6.397116184234619,6.954816818237305,6.569698333740234,7.071730613708496,6.726995944976807,7.0241851806640625,10.367635726928711,6.830118656158447,6.36516809463501,6.884870529174805,6.594493865966797,7.352500915527344,7.518316745758057,6.9361748695373535,6.881751537322998,6.868713855743408,6.489406108856201,6.445664405822754,6.282240867614746,7.365433692932129,6.124945640563965,7.090028762817383,6.715754508972168,7.151179313659668,7.129778861999512,7.474761009216309,6.229798316955566,6.578639030456543,6.4031805992126465,6.2931227684021,6.737313270568848,6.567696571350098,8.24505615234375,7.0254387855529785,7.194675922393799,7.138554573059082,7.366021633148193,7.896433353424072,6.761155605316162,7.337107181549072,10.412500381469727,6.813922882080078,8.093276023864746,6.205103874206543,7.518727779388428,6.302094459533691,7.489551544189453,7.212569713592529,8.177240371704102,7.028747081756592,6.614145755767822,7.271631240844727,6.470668315887451,6.520853519439697,7.069432735443115,6.423826217651367,6.37469482421875,8.35563850402832,5.943871974945068,7.347838401794434,9.408323287963867,9.34190845489502,10.156424522399902,9.038372039794922,10.699604034423828,8.905580520629883,9.578960418701172,10.009183883666992,9.252285957336426,10.163350105285645,10.12836742401123,3.5477540493011475,10.858072280883789,10.934202194213867,9.274086952209473,9.765708923339844,9.844290733337402,9.944003105163574,9.382445335388184,10.866609573364258,9.169795989990234,2.815840244293213,10.11238956451416,9.837855339050293,10.489590644836426,9.276989936828613,10.330668449401855,10.436144828796387,9.205723762512207,8.17932415008545,8.292424201965332,9.884389877319336,8.843836784362793,10.245858192443848,8.841228485107422,9.978669166564941,9.75218677520752,9.967052459716797,10.257926940917969,9.408342361450195,10.815234184265137,9.296625137329102,8.55105972290039,8.821224212646484,9.238174438476562,9.062408447265625,4.668811798095703,5.465465545654297,9.53740119934082,10.46834945678711,9.517304420471191,5.8947248458862305,10.38510513305664,4.029862403869629,5.394184589385986,7.157957553863525,6.577731132507324,3.7820639610290527,3.4469847679138184,3.594452381134033,4.420161247253418,4.2759575843811035,4.026521682739258,8.884699821472168,3.8617475032806396,3.774299144744873,3.856769561767578,3.66462779045105,9.065049171447754,10.435247421264648,6.708054542541504,3.397979497909546,4.005130767822266,8.499924659729004,3.4000298976898193,4.037826061248779,3.8376452922821045,4.129404544830322,4.059772968292236,4.193308353424072,10.413308143615723,3.133625030517578,3.7897329330444336,7.136147975921631,4.403337001800537,3.911231517791748,3.4210474491119385,3.57000470161438,3.2153382301330566,10.65136432647705,10.661421775817871,3.431537389755249,4.397405624389648,8.104662895202637,8.222375869750977,7.179855823516846,6.294743061065674,7.130706310272217,10.12635326385498,6.727164268493652,10.200798034667969,9.852968215942383,8.893741607666016,9.911152839660645,7.29282808303833,8.490310668945312,7.768599987030029,3.0132222175598145,2.9600820541381836,2.3484911918640137,2.2743382453918457,1.9210401773452759,2.3852453231811523,1.9307591915130615,1.8563061952590942,1.9407565593719482,2.325873613357544,2.4716784954071045,2.4790399074554443,2.2122113704681396,1.4262880086898804,2.3358092308044434,2.530897855758667,2.155226707458496,2.7396140098571777,2.0600152015686035,1.9929438829421997,2.0344507694244385,2.371267795562744,2.3470728397369385,2.404120683670044,2.6708128452301025,2.29660964012146,1.9806982278823853,2.1487104892730713,3.131143808364868,1.6869592666625977,2.5252182483673096,1.9115921258926392,2.0684754848480225,2.40301513671875,2.3425710201263428,1.478641390800476,2.503669261932373,2.421480178833008,2.3415939807891846,2.195455312728882,2.4044992923736572,1.770033359527588,1.7599157094955444,2.008575677871704,1.891263723373413,1.8330469131469727,1.8761178255081177,1.8110706806182861,1.8990294933319092,1.850010871887207,2.3671979904174805,1.9223418235778809,2.3211112022399902,2.351431369781494,1.8497021198272705,2.5160632133483887,1.886892318725586,1.7481389045715332,1.9302974939346313,1.8386175632476807,2.3819360733032227,2.610879421234131,2.0294857025146484,2.020684003829956,1.7498327493667603,2.1691720485687256,2.7383975982666016,2.649552345275879,1.7310694456100464,2.003377676010132,2.3080029487609863,2.1568288803100586,2.3694448471069336,2.501302480697632,1.637379765510559,1.4938913583755493,1.4767292737960815,1.4306622743606567,1.4280216693878174,2.4836807250976562,2.3240013122558594,2.1887691020965576,2.136133909225464,2.392146110534668,2.431640625,1.7214065790176392,2.1880075931549072,1.8952417373657227,2.237870454788208,2.1824240684509277,1.672037959098816,1.9094572067260742,2.4944000244140625,1.5188572406768799,2.328908681869507,2.4407219886779785,2.502197504043579,2.4258153438568115],\"y\":[0.9518662691116333,1.0689733028411865,1.2477216720581055,6.166670322418213,5.732683181762695,4.271783351898193,3.0235278606414795,5.925549030303955,3.421612024307251,2.2351551055908203,6.310376167297363,6.144193172454834,4.739456653594971,2.4288270473480225,5.895678520202637,4.477276802062988,5.569373607635498,-0.5406776070594788,5.308567523956299,4.106555461883545,5.950103759765625,6.4997735023498535,5.884459495544434,3.731524705886841,2.6464343070983887,4.392897129058838,4.579850196838379,5.687916278839111,3.852191925048828,4.0966267585754395,2.2115678787231445,4.075788497924805,1.1607800722122192,4.368342876434326,5.7018022537231445,4.720398426055908,6.797120571136475,4.718240261077881,3.369852304458618,4.760711193084717,5.228557109832764,3.8383853435516357,5.359503269195557,5.756881237030029,5.8703932762146,5.191994667053223,2.5116350650787354,3.1760189533233643,6.650638103485107,2.222013235092163,6.65833854675293,-0.5273104310035706,4.330232620239258,2.573350429534912,4.402766227722168,5.906078338623047,5.456301212310791,5.438822269439697,3.3591010570526123,4.392807960510254,3.9503486156463623,5.860137462615967,5.59488582611084,6.287100315093994,4.096764087677002,3.846550226211548,6.07077169418335,4.686722278594971,4.580700874328613,5.152957916259766,4.713183879852295,3.6448092460632324,4.13062858581543,4.777296543121338,4.02233362197876,5.554716110229492,5.487396240234375,5.760207653045654,3.1479332447052,5.307149410247803,6.113456726074219,6.22374153137207,5.683671474456787,5.493709087371826,4.934230327606201,6.294020175933838,5.569775581359863,4.3849196434021,6.2230634689331055,4.332009792327881,6.3590922355651855,4.39830207824707,3.1052119731903076,3.2302534580230713,5.446181774139404,5.015559196472168,6.272243976593018,7.274291038513184,2.38307523727417,5.479106903076172,6.155555248260498,3.8640191555023193,6.634941101074219,2.3063294887542725,5.492086887359619,4.406581401824951,6.3438286781311035,6.688381671905518,4.649298191070557,2.056582450866699,5.4290690422058105,4.172730445861816,4.610743999481201,4.927725791931152,0.583873450756073,5.693753242492676,4.903383255004883,4.917173862457275,4.961603164672852,6.834684371948242,4.8744587898254395,5.485159397125244,4.895636558532715,3.6174917221069336,5.334681987762451,5.62078857421875,5.187737941741943,1.5119680166244507,5.034286022186279,5.89787483215332,7.392159461975098,5.853231430053711,3.3837664127349854,4.855887413024902,4.911473274230957,1.532094120979309,5.6571044921875,5.033472061157227,6.887205123901367,6.436309814453125,6.7036213874816895,7.4070210456848145,5.56483793258667,5.738332748413086,7.230278015136719,6.368652820587158,5.315708160400391,5.8271260261535645,5.104631423950195,2.0193333625793457,6.326789855957031,3.706502676010132,4.326605319976807,4.33111572265625,3.851416826248169,3.1357738971710205,3.1605403423309326,-0.5241349935531616,4.4021382331848145,4.594224452972412,6.269399642944336,4.396262168884277,4.065037727355957,3.7597410678863525,5.922431945800781,4.392425060272217,2.1061625480651855,0.790924608707428,1.2862277030944824,5.527165412902832,2.9989471435546875,4.44350528717041,4.400752544403076,0.8249955177307129,1.2466027736663818,1.2886101007461548,3.4895424842834473,5.639580726623535,4.439925670623779,2.7310497760772705,4.341862678527832,2.714102029800415,2.207254409790039,4.207993030548096,2.4898242950439453,2.4781546592712402,2.8138346672058105,0.8409541845321655,2.5266802310943604,1.9082024097442627,2.816964864730835,4.443191051483154,3.13556170463562,2.897412061691284,1.6441816091537476,4.764219284057617,1.2042768001556396,4.712533950805664,4.400361061096191,3.017275094985962,6.043109893798828,6.825279712677002,6.282014846801758,5.769406795501709,6.02310848236084,4.542524337768555,3.844911575317383,5.615795135498047,4.255229473114014,6.84384298324585,4.308038234710693,5.193212985992432,2.1915979385375977,5.665176868438721,4.338855266571045,2.954233169555664,4.021040916442871,3.1628377437591553,4.792463779449463,6.183626174926758,6.797780513763428,5.254991054534912,6.778885841369629,2.6068451404571533,7.117793083190918,3.446044683456421,6.730251312255859,3.3264644145965576,3.9830374717712402,3.6598992347717285,4.438310146331787,6.673627853393555,2.783507823944092,1.8987398147583008,5.497233867645264,3.997051477432251,3.9661145210266113,3.463297128677368,7.081298351287842,3.009781837463379,5.731584072113037,5.250794887542725,6.278881549835205,4.967035293579102,6.773761749267578,5.224717617034912,5.422472953796387,0.5115166902542114,5.522942543029785,3.055767774581909,6.127018451690674,3.309872627258301,4.8371429443359375,6.317992210388184,5.834184646606445,5.501924991607666,3.3861687183380127,6.235870361328125,2.183945417404175,5.065307140350342,5.055069923400879,5.36705207824707,3.040255069732666,6.061890125274658,4.113765716552734,1.3733155727386475,3.8064701557159424,4.906867027282715,6.341775417327881,3.6830880641937256,7.356356620788574,5.5306596755981445,3.341968536376953,6.823066711425781,5.0739006996154785,6.279760360717773,6.377517223358154,3.2831153869628906,-0.5696329474449158,3.401026487350464,4.602854251861572,4.996651649475098,5.083582878112793,6.83148193359375,0.8230733275413513,4.165494441986084,3.6862587928771973,3.4403157234191895,4.226113319396973,4.16318416595459,4.197912216186523,4.410483360290527,3.1922717094421387,1.1742017269134521,3.8927688598632812,1.7322531938552856,3.0530974864959717,4.160212993621826,2.897810697555542,3.2443435192108154,6.5399909019470215,3.023226737976074,6.480601787567139,6.330081939697266,5.810595512390137,5.347205638885498,7.063720703125,6.293148517608643,6.502753734588623,5.817666530609131,3.3635942935943604,4.0329365730285645,4.368621349334717,6.657553195953369,4.148099899291992,4.072866916656494,4.254872798919678,6.1134772300720215,4.410523414611816,6.368191242218018,4.119866371154785,4.773221969604492,4.426327705383301,5.477482318878174,6.43838357925415,6.797123908996582,4.968385219573975,6.208445072174072,6.3850932121276855,4.198671817779541,2.3850457668304443,4.413545608520508,5.792840957641602,4.1210832595825195,5.676540374755859,5.828130722045898,4.069585800170898,4.033356189727783,5.870389461517334,5.684591770172119,6.199379920959473,6.162132263183594,5.625300884246826,6.753547668457031,5.784862518310547,5.159869194030762,6.395747184753418,5.781343936920166,3.9168756008148193,5.437776565551758,5.397529602050781,7.24427604675293,4.322414398193359,5.784698009490967,0.41782334446907043,4.152907848358154,6.245136260986328,2.6577107906341553,4.905051231384277,5.735989093780518,4.640425682067871,6.4583282470703125,7.283907413482666,4.3851847648620605,4.943451404571533,3.3928651809692383,5.732173442840576,6.476808071136475,5.087203025817871,5.314732074737549,6.256160259246826,4.632957458496094,4.116639614105225,5.796051979064941,5.767718315124512,4.262271881103516,6.852539539337158,1.036827802658081,3.9796903133392334,3.7102394104003906,3.2392165660858154,4.537838935852051,6.815444469451904,4.991692066192627,4.060280799865723,4.448298454284668,-0.5184931755065918,5.508745193481445,5.560906887054443,3.5063812732696533,5.366352558135986,4.4761199951171875,4.376710891723633,3.438746213912964,4.502654552459717,6.781872272491455,5.726034164428711,6.740286827087402,5.603288650512695,5.906621932983398,5.071051597595215,2.551675796508789,4.349587917327881,3.7096691131591797,5.039592266082764,5.300343990325928,1.5658812522888184,3.6955413818359375,3.7520344257354736,3.1903162002563477,4.914980888366699,3.1641249656677246,4.821058750152588,3.198613166809082,1.249671220779419,4.213928699493408,4.182108402252197,1.645491600036621,3.623605489730835,1.57365083694458,3.768057346343994,4.662609577178955,5.026693344116211,3.2988338470458984,4.227388381958008,3.7826192378997803,4.151150703430176,4.161793231964111,3.8061177730560303,0.6042553186416626,3.1096982955932617,4.4144487380981445,5.480833053588867,3.7527549266815186,3.052992343902588,3.8784351348876953,4.280549049377441,4.034387588500977,3.566781520843506,4.167300224304199,4.232193470001221,2.9873697757720947,5.448989391326904,3.888176202774048,5.33906364440918,3.950868606567383,3.991717576980591,2.577345371246338,4.588435173034668,6.15997314453125,5.047532081604004,4.042932987213135,6.695086479187012,4.077134132385254,1.5675824880599976,1.4121075868606567,1.609106421470642,1.6372966766357422,1.1997343301773071,3.7972171306610107,2.3698434829711914,2.1607515811920166,0.9049404263496399,2.3302223682403564,5.958950042724609,3.5520806312561035,4.462752819061279,6.456627368927002,3.7308712005615234,4.385182857513428,6.792235851287842,4.696334362030029,3.74072527885437,4.008296012878418,3.7949163913726807,-0.5281215906143188,2.188419818878174,2.821688175201416,2.835399866104126,2.7171666622161865,2.9120700359344482,3.2778704166412354,4.0686116218566895,4.0839996337890625,3.39286208152771,1.6253381967544556,4.387557029724121,6.372811794281006,3.0069925785064697,2.3139214515686035,5.524143695831299,3.6294353008270264,3.9665043354034424,6.768949508666992,6.582592964172363,2.4960129261016846,3.039034843444824,2.406541347503662,6.165115833282471,5.501551628112793,5.916865348815918,5.517704010009766,2.4762167930603027,2.897639513015747,4.287506103515625,2.42661190032959,4.379171371459961,2.9431519508361816,4.006350040435791,6.825831890106201,5.756266117095947,3.3906967639923096,6.881646633148193,3.684025764465332,5.745355129241943,7.200976371765137,6.135068416595459,5.8705668449401855,5.421066761016846,4.280422210693359,4.029833793640137,2.9163830280303955,5.9412126541137695,5.0656633377075195,5.967195510864258,5.65355110168457,5.694700241088867,3.4532511234283447,5.948912620544434,4.4649658203125,6.563220977783203,0.8535103797912598,6.290108680725098,6.902924537658691,2.652179479598999,5.95006799697876,5.726424694061279,1.4729528427124023,3.3801302909851074,5.269606113433838,5.738265037536621,1.4283474683761597,5.186103343963623,1.363242745399475,4.928014278411865,6.06208610534668,2.5397348403930664,6.812668323516846,6.1787614822387695,0.955424964427948,2.8274800777435303,6.336643695831299,3.4125897884368896,4.585368633270264,4.442018032073975,6.250026702880859,4.365744590759277,4.409477233886719,2.062673568725586,4.400677680969238,4.375243663787842,4.495315074920654,6.571590900421143,4.319015979766846,3.0232348442077637,4.388585090637207,2.0572195053100586,3.7852914333343506,3.662867307662964,4.479177951812744,1.6988047361373901,3.4565510749816895,3.3246285915374756,4.5097527503967285,2.9099910259246826,4.391668796539307,3.465080499649048,3.450399875640869,2.0427229404449463,6.284919738769531,4.017603397369385,4.555492401123047,3.736051082611084,3.6404426097869873,4.3879218101501465,4.387543201446533,4.186158657073975,5.342426300048828,4.499975681304932,3.7684381008148193,3.1848299503326416,2.347799777984619,2.1247622966766357,7.168084144592285,5.509514808654785,4.85774564743042,5.487834930419922,4.864622116088867,4.8312506675720215,4.692357540130615,6.4639387130737305,5.452991485595703,6.312901496887207,9.161151885986328,9.361449241638184,5.831954479217529,9.146844863891602,5.655261039733887,9.298644065856934,5.949949264526367,6.07144021987915,6.152447700500488,8.844192504882812,7.224274635314941,5.8136749267578125,8.061208724975586,9.251282691955566,6.892316818237305,9.246902465820312,5.583549499511719,9.180293083190918,6.432775974273682,6.158107757568359,5.716010570526123,4.942452907562256,9.130668640136719,1.0821418762207031,9.058662414550781,9.027782440185547,3.475539207458496,4.802424430847168,9.194578170776367,9.32304859161377,5.4407639503479,9.095062255859375,9.107521057128906,6.326010704040527,8.971141815185547,9.39085865020752,9.306315422058105,9.272818565368652,5.642450332641602,8.386849403381348,9.12553596496582,5.554989814758301,8.88870620727539,9.297768592834473,6.34493350982666,6.382205009460449,9.133539199829102,6.453219413757324,6.421015739440918,5.746522903442383,5.255390167236328,9.342641830444336,8.864801406860352,8.761574745178223,8.67098331451416,6.216527938842773,9.197521209716797,9.37356948852539,8.900146484375,6.393815517425537,7.472586631774902,6.290674209594727,9.086234092712402,9.404685974121094,9.079483985900879,8.94122314453125,8.866877555847168,8.797554016113281,6.07520866394043,6.467611789703369,6.399120807647705,6.321684837341309,6.100524425506592,7.498931407928467,1.563758134841919,5.140173435211182,6.433706283569336,8.85676383972168,6.1972270011901855,7.136252403259277,7.496514320373535,6.39337682723999,5.970264911651611,5.622373580932617,6.075820446014404,9.305034637451172,9.207890510559082,6.365085601806641,5.944937229156494,5.102169990539551,5.854836940765381,4.275257587432861,1.250139594078064,1.1312103271484375,3.66776180267334,0.8206501603126526,3.7359321117401123,2.035099983215332,1.941712737083435,2.0323286056518555,-0.5370774865150452,2.051831007003784,1.314761996269226,1.4818298816680908,1.6605615615844727,2.997642993927002,1.7975579500198364,0.42962151765823364,5.02455472946167,6.377028465270996,0.48485738039016724,1.7411432266235352,3.0670266151428223,1.2869244813919067,2.4780542850494385,2.3821473121643066,1.813701868057251,1.5041371583938599,0.4307650923728943,1.6860780715942383,1.4818178415298462,0.839379608631134,5.390407085418701,1.1493213176727295,0.6073258519172668,0.784242570400238,1.7957971096038818,0.7973151206970215,0.7110053300857544,0.6923020482063293,1.0586543083190918,1.0367262363433838,1.7467312812805176,0.5699505805969238,1.8590176105499268,1.567796230316162,0.303732693195343,0.9635434150695801,-0.4774412214756012,0.45661115646362305,1.1866909265518188,0.3135959804058075,1.861450433731079,0.46019160747528076,1.3711750507354736,0.36820662021636963,0.4611359238624573,0.4310731291770935,1.215774655342102,1.1028249263763428,1.5408834218978882,2.9709503650665283,1.2741302251815796,0.6492249965667725,0.33382463455200195,0.5879040956497192,0.8713918328285217,2.2318296432495117,1.2611334323883057,0.21337410807609558,2.0149316787719727,1.6489566564559937,0.22753676772117615,1.469406247138977,3.607989549636841,0.530532956123352,2.1520602703094482,2.0159683227539062,0.8023553490638733,2.4005727767944336,1.7984431982040405,1.0514692068099976,-0.5207269787788391,0.8802101016044617,1.3808729648590088,1.1137651205062866,2.267169713973999,1.4597818851470947,2.195535898208618,2.182821750640869,1.4618643522262573,0.6209524869918823,0.2363080233335495,1.0830210447311401,1.8426942825317383,1.76459801197052,0.6198171377182007,1.9649052619934082,1.681272029876709,1.6396127939224243,1.5455671548843384,0.5514753460884094,6.151233673095703,2.4596469402313232,4.689182758331299,2.477170467376709,5.790338039398193,3.7460055351257324,5.911518096923828,5.953381538391113,5.600313663482666,5.701173782348633,4.2402663230896,3.0161867141723633,5.486711502075195,5.967276573181152,4.108170032501221,5.520950794219971,7.135232448577881,4.158230781555176,2.2483415603637695,5.75912618637085,2.3108248710632324,4.7616496086120605,6.800468921661377,4.019857406616211,-0.5871222019195557,2.3433003425598145,5.786815166473389,-0.5398735404014587,6.249509334564209,3.4563205242156982,3.367356777191162,4.829398155212402,2.7520363330841064,5.688098907470703,3.8084237575531006,5.443301677703857,6.969205379486084,5.380568981170654,7.005499839782715,6.0823774337768555,5.974623680114746,5.238433837890625,4.024369239807129,6.032896518707275,6.7778778076171875,2.066877841949463,3.325617790222168,2.597484827041626,5.138640880584717,5.14710807800293,6.831894397735596,5.019341945648193,6.514191150665283,4.677844047546387,1.6088804006576538,0.5004836320877075,5.841452598571777,4.562775135040283,4.651926040649414,4.729287624359131,4.501285076141357,3.4297664165496826,4.259279727935791,2.7023794651031494,4.297727108001709,4.53726053237915,4.139308452606201,3.9221153259277344,2.177609920501709,-0.5376392006874084,5.963062763214111,4.0964226722717285,3.6879167556762695,3.1934924125671387,2.8521885871887207,4.2681169509887695,4.4888596534729,4.311333179473877,4.1581268310546875,4.336976051330566,5.043877601623535,4.316746711730957,4.29049015045166,1.6881420612335205,3.8830854892730713,4.3965163230896,4.872869491577148,3.7469310760498047,4.336277008056641,6.621312618255615,6.222733974456787,2.887805938720703,3.945181369781494,1.476048469543457,1.4664788246154785,1.7521281242370605,1.1631934642791748,1.339515209197998,7.096047401428223,2.279846429824829,6.245612144470215,4.259277820587158,5.712413787841797,4.567160606384277,2.120281219482422,4.346139430999756,1.322769045829773,4.420557498931885,4.389165878295898,5.844537734985352,6.106796741485596,5.430095672607422,8.976274490356445,7.5517377853393555,5.437402248382568,7.738620281219482,5.9946980476379395,5.821793079376221,6.801511287689209,6.08299446105957,5.464377403259277,6.9230828285217285,6.157810688018799,6.061306476593018,4.981274127960205,5.987834453582764,6.065943241119385,6.0493059158325195,7.089139461517334,5.838608264923096,5.819113731384277,7.106476306915283,5.99655818939209,6.4559645652771,6.117456912994385,5.040866851806641,5.331554889678955,5.014691352844238,7.590559482574463,5.196707248687744,7.031064510345459,6.679063320159912,5.5296220779418945,5.949613571166992,7.156008720397949,6.983736038208008,6.1966938972473145,7.094722747802734,5.227633476257324,5.412087440490723,7.82418155670166,7.647157669067383,7.51337194442749,7.614130973815918,7.4393630027771,7.673253536224365,7.57653284072876,7.088967800140381,7.353126525878906,7.357081413269043,7.079725742340088,7.601447582244873,5.962217807769775,7.674971103668213,5.370247840881348,7.598142147064209,7.361103057861328,5.928402900695801,5.368889331817627,6.133806228637695,5.778822422027588,5.305232048034668,6.144388198852539,6.314173221588135,6.565930366516113,5.368289947509766,6.169770240783691,6.11978816986084,6.162196159362793,6.766728401184082,6.0284929275512695,5.366430759429932,5.546380996704102,5.512079238891602,5.456231594085693,5.4620771408081055,7.160726547241211,6.954571723937988,6.142099857330322,6.055112838745117,6.977122783660889,7.205357074737549,5.342146873474121,6.139240264892578,6.300151824951172,6.29345703125,6.042670726776123,5.348546028137207,6.339673042297363,6.85561990737915,5.451426029205322,6.2190842628479,6.308755397796631,7.2477312088012695,7.112003326416016],\"type\":\"scatter\"}],                        {\"template\":{\"data\":{\"histogram2dcontour\":[{\"type\":\"histogram2dcontour\",\"colorbar\":{\"outlinewidth\":0,\"ticks\":\"\"},\"colorscale\":[[0.0,\"#0d0887\"],[0.1111111111111111,\"#46039f\"],[0.2222222222222222,\"#7201a8\"],[0.3333333333333333,\"#9c179e\"],[0.4444444444444444,\"#bd3786\"],[0.5555555555555556,\"#d8576b\"],[0.6666666666666666,\"#ed7953\"],[0.7777777777777778,\"#fb9f3a\"],[0.8888888888888888,\"#fdca26\"],[1.0,\"#f0f921\"]]}],\"choropleth\":[{\"type\":\"choropleth\",\"colorbar\":{\"outlinewidth\":0,\"ticks\":\"\"}}],\"histogram2d\":[{\"type\":\"histogram2d\",\"colorbar\":{\"outlinewidth\":0,\"ticks\":\"\"},\"colorscale\":[[0.0,\"#0d0887\"],[0.1111111111111111,\"#46039f\"],[0.2222222222222222,\"#7201a8\"],[0.3333333333333333,\"#9c179e\"],[0.4444444444444444,\"#bd3786\"],[0.5555555555555556,\"#d8576b\"],[0.6666666666666666,\"#ed7953\"],[0.7777777777777778,\"#fb9f3a\"],[0.8888888888888888,\"#fdca26\"],[1.0,\"#f0f921\"]]}],\"heatmap\":[{\"type\":\"heatmap\",\"colorbar\":{\"outlinewidth\":0,\"ticks\":\"\"},\"colorscale\":[[0.0,\"#0d0887\"],[0.1111111111111111,\"#46039f\"],[0.2222222222222222,\"#7201a8\"],[0.3333333333333333,\"#9c179e\"],[0.4444444444444444,\"#bd3786\"],[0.5555555555555556,\"#d8576b\"],[0.6666666666666666,\"#ed7953\"],[0.7777777777777778,\"#fb9f3a\"],[0.8888888888888888,\"#fdca26\"],[1.0,\"#f0f921\"]]}],\"heatmapgl\":[{\"type\":\"heatmapgl\",\"colorbar\":{\"outlinewidth\":0,\"ticks\":\"\"},\"colorscale\":[[0.0,\"#0d0887\"],[0.1111111111111111,\"#46039f\"],[0.2222222222222222,\"#7201a8\"],[0.3333333333333333,\"#9c179e\"],[0.4444444444444444,\"#bd3786\"],[0.5555555555555556,\"#d8576b\"],[0.6666666666666666,\"#ed7953\"],[0.7777777777777778,\"#fb9f3a\"],[0.8888888888888888,\"#fdca26\"],[1.0,\"#f0f921\"]]}],\"contourcarpet\":[{\"type\":\"contourcarpet\",\"colorbar\":{\"outlinewidth\":0,\"ticks\":\"\"}}],\"contour\":[{\"type\":\"contour\",\"colorbar\":{\"outlinewidth\":0,\"ticks\":\"\"},\"colorscale\":[[0.0,\"#0d0887\"],[0.1111111111111111,\"#46039f\"],[0.2222222222222222,\"#7201a8\"],[0.3333333333333333,\"#9c179e\"],[0.4444444444444444,\"#bd3786\"],[0.5555555555555556,\"#d8576b\"],[0.6666666666666666,\"#ed7953\"],[0.7777777777777778,\"#fb9f3a\"],[0.8888888888888888,\"#fdca26\"],[1.0,\"#f0f921\"]]}],\"surface\":[{\"type\":\"surface\",\"colorbar\":{\"outlinewidth\":0,\"ticks\":\"\"},\"colorscale\":[[0.0,\"#0d0887\"],[0.1111111111111111,\"#46039f\"],[0.2222222222222222,\"#7201a8\"],[0.3333333333333333,\"#9c179e\"],[0.4444444444444444,\"#bd3786\"],[0.5555555555555556,\"#d8576b\"],[0.6666666666666666,\"#ed7953\"],[0.7777777777777778,\"#fb9f3a\"],[0.8888888888888888,\"#fdca26\"],[1.0,\"#f0f921\"]]}],\"mesh3d\":[{\"type\":\"mesh3d\",\"colorbar\":{\"outlinewidth\":0,\"ticks\":\"\"}}],\"scatter\":[{\"fillpattern\":{\"fillmode\":\"overlay\",\"size\":10,\"solidity\":0.2},\"type\":\"scatter\"}],\"parcoords\":[{\"type\":\"parcoords\",\"line\":{\"colorbar\":{\"outlinewidth\":0,\"ticks\":\"\"}}}],\"scatterpolargl\":[{\"type\":\"scatterpolargl\",\"marker\":{\"colorbar\":{\"outlinewidth\":0,\"ticks\":\"\"}}}],\"bar\":[{\"error_x\":{\"color\":\"#2a3f5f\"},\"error_y\":{\"color\":\"#2a3f5f\"},\"marker\":{\"line\":{\"color\":\"#E5ECF6\",\"width\":0.5},\"pattern\":{\"fillmode\":\"overlay\",\"size\":10,\"solidity\":0.2}},\"type\":\"bar\"}],\"scattergeo\":[{\"type\":\"scattergeo\",\"marker\":{\"colorbar\":{\"outlinewidth\":0,\"ticks\":\"\"}}}],\"scatterpolar\":[{\"type\":\"scatterpolar\",\"marker\":{\"colorbar\":{\"outlinewidth\":0,\"ticks\":\"\"}}}],\"histogram\":[{\"marker\":{\"pattern\":{\"fillmode\":\"overlay\",\"size\":10,\"solidity\":0.2}},\"type\":\"histogram\"}],\"scattergl\":[{\"type\":\"scattergl\",\"marker\":{\"colorbar\":{\"outlinewidth\":0,\"ticks\":\"\"}}}],\"scatter3d\":[{\"type\":\"scatter3d\",\"line\":{\"colorbar\":{\"outlinewidth\":0,\"ticks\":\"\"}},\"marker\":{\"colorbar\":{\"outlinewidth\":0,\"ticks\":\"\"}}}],\"scattermapbox\":[{\"type\":\"scattermapbox\",\"marker\":{\"colorbar\":{\"outlinewidth\":0,\"ticks\":\"\"}}}],\"scatterternary\":[{\"type\":\"scatterternary\",\"marker\":{\"colorbar\":{\"outlinewidth\":0,\"ticks\":\"\"}}}],\"scattercarpet\":[{\"type\":\"scattercarpet\",\"marker\":{\"colorbar\":{\"outlinewidth\":0,\"ticks\":\"\"}}}],\"carpet\":[{\"aaxis\":{\"endlinecolor\":\"#2a3f5f\",\"gridcolor\":\"white\",\"linecolor\":\"white\",\"minorgridcolor\":\"white\",\"startlinecolor\":\"#2a3f5f\"},\"baxis\":{\"endlinecolor\":\"#2a3f5f\",\"gridcolor\":\"white\",\"linecolor\":\"white\",\"minorgridcolor\":\"white\",\"startlinecolor\":\"#2a3f5f\"},\"type\":\"carpet\"}],\"table\":[{\"cells\":{\"fill\":{\"color\":\"#EBF0F8\"},\"line\":{\"color\":\"white\"}},\"header\":{\"fill\":{\"color\":\"#C8D4E3\"},\"line\":{\"color\":\"white\"}},\"type\":\"table\"}],\"barpolar\":[{\"marker\":{\"line\":{\"color\":\"#E5ECF6\",\"width\":0.5},\"pattern\":{\"fillmode\":\"overlay\",\"size\":10,\"solidity\":0.2}},\"type\":\"barpolar\"}],\"pie\":[{\"automargin\":true,\"type\":\"pie\"}]},\"layout\":{\"autotypenumbers\":\"strict\",\"colorway\":[\"#636efa\",\"#EF553B\",\"#00cc96\",\"#ab63fa\",\"#FFA15A\",\"#19d3f3\",\"#FF6692\",\"#B6E880\",\"#FF97FF\",\"#FECB52\"],\"font\":{\"color\":\"#2a3f5f\"},\"hovermode\":\"closest\",\"hoverlabel\":{\"align\":\"left\"},\"paper_bgcolor\":\"white\",\"plot_bgcolor\":\"#E5ECF6\",\"polar\":{\"bgcolor\":\"#E5ECF6\",\"angularaxis\":{\"gridcolor\":\"white\",\"linecolor\":\"white\",\"ticks\":\"\"},\"radialaxis\":{\"gridcolor\":\"white\",\"linecolor\":\"white\",\"ticks\":\"\"}},\"ternary\":{\"bgcolor\":\"#E5ECF6\",\"aaxis\":{\"gridcolor\":\"white\",\"linecolor\":\"white\",\"ticks\":\"\"},\"baxis\":{\"gridcolor\":\"white\",\"linecolor\":\"white\",\"ticks\":\"\"},\"caxis\":{\"gridcolor\":\"white\",\"linecolor\":\"white\",\"ticks\":\"\"}},\"coloraxis\":{\"colorbar\":{\"outlinewidth\":0,\"ticks\":\"\"}},\"colorscale\":{\"sequential\":[[0.0,\"#0d0887\"],[0.1111111111111111,\"#46039f\"],[0.2222222222222222,\"#7201a8\"],[0.3333333333333333,\"#9c179e\"],[0.4444444444444444,\"#bd3786\"],[0.5555555555555556,\"#d8576b\"],[0.6666666666666666,\"#ed7953\"],[0.7777777777777778,\"#fb9f3a\"],[0.8888888888888888,\"#fdca26\"],[1.0,\"#f0f921\"]],\"sequentialminus\":[[0.0,\"#0d0887\"],[0.1111111111111111,\"#46039f\"],[0.2222222222222222,\"#7201a8\"],[0.3333333333333333,\"#9c179e\"],[0.4444444444444444,\"#bd3786\"],[0.5555555555555556,\"#d8576b\"],[0.6666666666666666,\"#ed7953\"],[0.7777777777777778,\"#fb9f3a\"],[0.8888888888888888,\"#fdca26\"],[1.0,\"#f0f921\"]],\"diverging\":[[0,\"#8e0152\"],[0.1,\"#c51b7d\"],[0.2,\"#de77ae\"],[0.3,\"#f1b6da\"],[0.4,\"#fde0ef\"],[0.5,\"#f7f7f7\"],[0.6,\"#e6f5d0\"],[0.7,\"#b8e186\"],[0.8,\"#7fbc41\"],[0.9,\"#4d9221\"],[1,\"#276419\"]]},\"xaxis\":{\"gridcolor\":\"white\",\"linecolor\":\"white\",\"ticks\":\"\",\"title\":{\"standoff\":15},\"zerolinecolor\":\"white\",\"automargin\":true,\"zerolinewidth\":2},\"yaxis\":{\"gridcolor\":\"white\",\"linecolor\":\"white\",\"ticks\":\"\",\"title\":{\"standoff\":15},\"zerolinecolor\":\"white\",\"automargin\":true,\"zerolinewidth\":2},\"scene\":{\"xaxis\":{\"backgroundcolor\":\"#E5ECF6\",\"gridcolor\":\"white\",\"linecolor\":\"white\",\"showbackground\":true,\"ticks\":\"\",\"zerolinecolor\":\"white\",\"gridwidth\":2},\"yaxis\":{\"backgroundcolor\":\"#E5ECF6\",\"gridcolor\":\"white\",\"linecolor\":\"white\",\"showbackground\":true,\"ticks\":\"\",\"zerolinecolor\":\"white\",\"gridwidth\":2},\"zaxis\":{\"backgroundcolor\":\"#E5ECF6\",\"gridcolor\":\"white\",\"linecolor\":\"white\",\"showbackground\":true,\"ticks\":\"\",\"zerolinecolor\":\"white\",\"gridwidth\":2}},\"shapedefaults\":{\"line\":{\"color\":\"#2a3f5f\"}},\"annotationdefaults\":{\"arrowcolor\":\"#2a3f5f\",\"arrowhead\":0,\"arrowwidth\":1},\"geo\":{\"bgcolor\":\"white\",\"landcolor\":\"#E5ECF6\",\"subunitcolor\":\"white\",\"showland\":true,\"showlakes\":true,\"lakecolor\":\"white\"},\"title\":{\"x\":0.05},\"mapbox\":{\"style\":\"light\"}}}},                        {\"responsive\": true}                    ).then(function(){\n",
              "                            \n",
              "var gd = document.getElementById('c5b619a9-fa4b-434a-a5ea-7fd3792d15a1');\n",
              "var x = new MutationObserver(function (mutations, observer) {{\n",
              "        var display = window.getComputedStyle(gd).display;\n",
              "        if (!display || display === 'none') {{\n",
              "            console.log([gd, 'removed!']);\n",
              "            Plotly.purge(gd);\n",
              "            observer.disconnect();\n",
              "        }}\n",
              "}});\n",
              "\n",
              "// Listen for the removal of the full notebook cells\n",
              "var notebookContainer = gd.closest('#notebook-container');\n",
              "if (notebookContainer) {{\n",
              "    x.observe(notebookContainer, {childList: true});\n",
              "}}\n",
              "\n",
              "// Listen for the clearing of the current output cell\n",
              "var outputEl = gd.closest('.output');\n",
              "if (outputEl) {{\n",
              "    x.observe(outputEl, {childList: true});\n",
              "}}\n",
              "\n",
              "                        })                };                            </script>        </div>\n",
              "</body>\n",
              "</html>"
            ]
          },
          "metadata": {}
        }
      ]
    },
    {
      "cell_type": "code",
      "source": [
        "#calculate silhuette score (Spectral Clustering) for umap_embeddingsnew\n",
        "\n",
        "from sklearn.metrics import silhouette_score\n",
        "\n",
        "silhouette_avg = silhouette_score(umap_embeddingsnew, cluster_labels)\n",
        "\n",
        "print(\"The average silhouette_score is :\", silhouette_avg)"
      ],
      "metadata": {
        "colab": {
          "base_uri": "https://localhost:8080/"
        },
        "id": "--IOOWGuwAc1",
        "outputId": "066cc393-fa46-4afa-fbb7-e23629c5bb65"
      },
      "execution_count": null,
      "outputs": [
        {
          "output_type": "stream",
          "name": "stdout",
          "text": [
            "The average silhouette_score is : 0.5051846\n"
          ]
        }
      ]
    },
    {
      "cell_type": "code",
      "source": [
        "# Calculate the number of data points in each cluster\n",
        "cluster_counts = np.bincount(cluster_labels)\n",
        "\n",
        "# Print the number of data points in each cluster\n",
        "print(cluster_counts)\n"
      ],
      "metadata": {
        "colab": {
          "base_uri": "https://localhost:8080/"
        },
        "id": "vQB17cnRwbg6",
        "outputId": "f4a88cd4-83e3-41f5-ed1f-994510b60c76"
      },
      "execution_count": null,
      "outputs": [
        {
          "output_type": "stream",
          "name": "stdout",
          "text": [
            "[ 79  12 128 203 114  41 115 149  39 120]\n"
          ]
        }
      ]
    }
  ]
}